{
 "cells": [
  {
   "cell_type": "code",
   "execution_count": null,
   "id": "e28a6401-caf4-4551-b82a-69d41c2db935",
   "metadata": {},
   "outputs": [],
   "source": [
    "#%%\n",
    "\n",
    "# Run lmstudio\n",
    "# Local Server -> Start Server\n",
    "#\n",
    "# Make sure to load the llama 3.1 in the Chat\n",
    "#"
   ]
  },
  {
   "cell_type": "code",
   "execution_count": null,
   "id": "6ab462ed-97d8-4567-9bd7-cd30f4b64102",
   "metadata": {},
   "outputs": [],
   "source": [
    "#%%\n",
    "\n",
    "import requests\n",
    "import json\n",
    "import re"
   ]
  },
  {
   "cell_type": "code",
   "execution_count": null,
   "id": "29e592a5-15b5-49f5-92bb-589362e13917",
   "metadata": {},
   "outputs": [],
   "source": [
    "#%%\n",
    "\n",
    "def hello_lmstudio_call(system_promtp=\"\", user_prompt=\"'\"):\n",
    "    url = 'http://localhost:1234/v1/chat/completions'\n",
    "    headers = {\n",
    "        'Content-Type': \"application/json\"\n",
    "    }\n",
    "    data = {\n",
    "        \"model\": \"lmstudio-community/Meta-Llama-3.1-8B-Instruct-GGUF\",\n",
    "        'messages': [\n",
    "            {'role': 'system', 'content': f\"{system_promtp}\"},\n",
    "            {'role': 'user'  , 'content': f\"{user_prompt}\"}\n",
    "        ],\n",
    "        \"temperature\" : 0.8,\n",
    "        \"max_tokens\"  : -1,\n",
    "        \"stream\"      : False\n",
    "    }\n",
    "    response = requests.post(url, headers=headers, data=json.dumps(data))\n",
    "    if response.status_code == 200:\n",
    "        try:\n",
    "            return response.json()['choices'][0]['message']['content']\n",
    "        except Exception as e:\n",
    "            return None\n",
    "    else:\n",
    "        print(f\"failed to get response : {response.status_code}, {response.text}\")\n",
    "        return None"
   ]
  },
  {
   "cell_type": "code",
   "execution_count": null,
   "id": "0fcd6375-30eb-46d5-b168-25568be78f1e",
   "metadata": {},
   "outputs": [
    {
     "data": {
      "text/plain": [
       "'<reasoning>\\n1. **Overall Meaning and Context:** The Mongolian text discusses a specific service provided by the Employment Service Center for individuals aged within the context of their employment program. This center offers social work services, which implies support or assistance in some form. The compensation mentioned is likely for these services. Understanding the core message involves recognizing that this support is directed towards an age-specific demographic and is part of a broader employment initiative.\\n2. **Initial Translation Evaluation & Meaning-Centric Quality Score:** Upon reviewing the English translation provided, I identify it as somewhat accurate but lacking in clarity regarding the nature of the compensation for social work services. There\\'s also a minor nuance in the phrasing that could be considered more natural or idiomatic in English.\\n\\n   - **Meaning Accuracy Errors:** The translation does not clearly convey the idea that the employment service center is specifically targeting individuals aged with its social work services and compensation.\\n   \\n   - **Fluency and Naturalness Deficiencies (Meaning-Neutral Issues):** Phrasing could be more natural for an English-speaking audience.\\n\\n   Given these considerations, I assign a quality score of 0.7 to the initial translation. This is because while it generally conveys the meaning accurately, there\\'s room for improvement in terms of clarity and phrasing that sounds more natural in English.\\n\\n3. **Key Meaning-Related Challenges:** The key challenge here is maintaining the specificity that \"Хөтөлбөрийн хүрээнд\" (within the framework of the program) implies, which should be translated accurately to convey that these services are a part of the employment program and targeted towards individuals aged.\\n\\n4. **Translation Choices (First Refinement - Meaning Accuracy Focus):** My key decisions for rectifying meaning inaccuracies include:\\n\\n   - Emphasizing the specific demographic being served.\\n   - Clarifying the nature of compensation as related to social work services within the employment program framework.\\n\\n5. **Stylistic Enhancement Details (Meaning-Preserving):** To enhance flow and tone while maintaining accurate meaning, I would suggest minor adjustments such as:\\n\\n   - Using more idiomatic phrasing that is clear about the target demographic.\\n   - Adjusting sentence structure to better convey a sense of service provision within the employment program framework.\\n\\n6. **Terminology & Register Confirmation Notes (Meaning Integrity):** Given the context, \"social work services\" seems an appropriate translation for \"нийгмийн үйлчилгээний чиглэлээр ажил.\" However, terminology like this should be verified to ensure consistency with standard definitions in employment contexts. The register (formality level) appears suitable for a professional or governmental context.\\n\\n7. **Second Pass Refinement - Native Speaker Polish and Backtranslation Meaning Check:**\\n\\n   *   **Native Speaker Polish for Naturalness (Meaning-Preserving):**\\n       *   **Identified Remaining Awkwardness (Meaning-Neutral):** The phrasing could be improved to sound more natural in English, such as using a more conventional structure for offering services within a program.\\n       *   **Proposed Authentic English Alternatives (Meaning-Equivalent):** Instead of \"Within the framework of the program,\" one might use phrases like \"as part of our employment program\" or \"within the context of our job initiative.\" These convey the same meaning but in more idiomatic language.\\n       *   **Justification for Naturalness Enhancements (Meaning Preservation Rationale):** Making these changes does not alter the original meaning. They are aimed at making the translation sound more natural to a native English speaker while maintaining complete accuracy.\\n\\n   *   **Backtranslation and Meaning Divergence Check:**\\n       *   **Mental Backtranslation Summary:** Upon mentally translating my final polished English text back into Mongolian, I notice it accurately reflects the original message.\\n       *   **Identified Meaning Divergences (If Any) through Backtranslation:** No meaning divergences were identified through this mental backtranslation process. The translation accurately maintains the original message\\'s intent and nuance.\\n       *   **Rectification of Meaning Divergences in Final Translation:** Since no discrepancies were found, no further adjustments are necessary.\\n\\n</reasoning>\\n\\n<initial_answer>\\nWithin the framework of the program, the Employment Service Center will offer social work services to those aged within the context of their employment program and provide compensation for this service.\\n\\n</initial_answer>\\n\\n<final_answer>\\nAs part of our employment program, we offer specific support services through the Employment Service Center aimed at individuals aged. This includes providing social work assistance and fair compensation for these services within our initiative\\'s framework.\\n\\n</final_answer>\\n\\n<output>\\n{\\n  \"quality_score\": 0.9,\\n  \"initial_english_translation\": \"Within the framework of the program, the Employment Service Center will offer social work services to those aged and will be paid compensation.\",\\n  \"final_english_translation\": \"As part of our employment program, we offer specific support services through the Employment Service Center aimed at individuals aged. This includes providing social work assistance and fair compensation for these services within our initiative\\'s framework.\"\\n}\\n</output>'"
      ]
     },
     "execution_count": 4,
     "metadata": {},
     "output_type": "execute_result"
    }
   ],
   "source": [
    "#%%\n",
    "\n",
    "system_prompt = \"\"\"\n",
    "You are a knowledgeable, efficient, and direct Al assistant. \n",
    "You are also fluent in English and Mongolian languages.\n",
    "\"\"\"\n",
    "\n",
    "translation_pair = [\n",
    "    \"Хөтөлбөрийн хүрээнд энэ насны иргэдэд Хөдөлмөр эрхлэлтийн үйлчилгээний төвөөс нийгмийн үйлчилгээний чиглэлээр ажил санал болгож, хийсэн ажилд нь хөлс урамшуулал олгох аж\",\n",
    "    \"Within the framework of the program, the Employment Service Center will offer social work services to those aged and will be paid compensation.\"\n",
    "]\n",
    "\n",
    "task_prompt = f\"\"\"\n",
    "You are a world-class Mongolian to English translator, celebrated for your exceptional ability to refine translations, achieving both native-level fluency *and* unwavering accuracy. Your mission is to elevate existing Mongolian-to-English translations to the highest possible standard, ensuring they are not only flawlessly accurate in conveying the original meaning but also read as if originally written in English by a highly articulate native speaker.  **Accuracy of meaning is your absolute, non-negotiable priority.**  Naturalness and stylistic polish are crucial, but they must *never* come at the expense of even the slightest deviation from the source text's intended message.\n",
    "\n",
    "**Your Rigorous and Meaning-Focused Translation Improvement Process (Incorporating Backtranslation Check):**\n",
    "\n",
    "1. **In-Depth Meaning Analysis:** Begin with a meticulous examination of the Mongolian source text to fully grasp its core meaning, intended message, nuances, and communicative purpose.  Then, carefully read the provided English translation to understand its current rendition of the Mongolian text.\n",
    "2. **Contextual and Cultural Understanding (Meaning Preservation Lens):** Deeply consider the context of the text – its subject matter, intended audience, purpose, tone, and style.  Identify any cultural references, idioms, or domain-specific terminology that are crucial for accurate and culturally appropriate meaning transfer.  Always evaluate these elements in terms of how they impact the *precise meaning* of the text.\n",
    "3. **Initial Quality Assessment (Honest and Critical):**  Objectively assess the provided English translation, with a laser focus on meaning accuracy and then fluency.  Pinpoint specific weaknesses, categorized as follows:\n",
    "    * **Meaning Accuracy Errors:** Identify any instances where the English translation *distorts, misrepresents, or omits* any aspect of the original Mongolian meaning.  This is the most critical category.\n",
    "    * **Fluency and Naturalness Deficiencies (Meaning-Neutral Issues):**  Only *after* ensuring meaning accuracy, identify areas where the English phrasing sounds awkward, unnatural, or non-idiomatic *without* changing the underlying meaning.\n",
    "    * **Assign a Quality Score (Meaning-Centric Scale 0.0 - 1.0):** Assign a quality score from 0.0 (meaning significantly distorted or lost) to 1.0 (meaning perfectly preserved and naturally expressed).  **Meaning accuracy should heavily weight this score.** Fluency contributes, but only secondarily to meaning.\n",
    "\n",
    "4. **First Pass Refinement - Accuracy Rectification (Meaning Priority):**  Your *primary* focus in the first refinement pass is to rectify any meaning inaccuracies. Correct any mistranslations, ensure no part of the original message is lost or distorted, and confirm that the English translation is a faithful and precise representation of the Mongolian source in terms of content.\n",
    "5. **Stylistic Enhancement - Naturalness within Meaning Boundaries:**  *Once meaning accuracy is fully secured,* enhance the style of the translation to improve its naturalness and flow in English.  Restructure sentences, refine word choices, and adjust phrasing to make the text read more smoothly and idiomatically, *but only make changes that do not introduce any alteration to the established, accurate meaning.*\n",
    "6. **Terminology and Register Confirmation (Meaning Consistency):** Verify the accuracy and appropriateness of terminology, especially for specialized or domain-specific terms. Ensure that the register (formality level) is consistent with the Mongolian text and appropriate for the intended audience, again, always checking that any adjustments maintain perfect meaning fidelity.\n",
    "7. **Second Pass Refinement - Native Speaker Polish and **Backtranslation Meaning Check**:** This final polishing stage now includes a crucial **backtranslation step** to ensure meaning preservation.\n",
    "\n",
    "    * **Native Speaker Polish for Naturalness (Meaning-Preserving):** First, focus on making the translation sound completely natural and idiomatic to a native English speaker, **but ONLY if it absolutely preserves the original Mongolian meaning.**\n",
    "        *   **Identify Remaining Subtle Awkwardness (Without Altering Meaning):** Review your *first refined translation*.  Look for any phrases or word choices that, while accurate, still sound slightly \"translated\" or less natural *to a native English ear, but ONLY consider changes that do NOT in any way shift the original meaning.*\n",
    "        *   **Naturalize Phrasing (Meaning-Preserving Idioms and Word Choice):**  Replace any slightly awkward phrasing with more natural English idioms, expressions, and word choices **that express the *exact same meaning* as the Mongolian original and your first refined translation.**  Do *not* introduce new interpretations or embellishments.\n",
    "        *   **Optimize Flow and Rhythm (Without Semantic Change):** Fine-tune sentence structure and word order purely for improved flow and rhythm in English, **making absolutely sure these changes do not alter the original message in any way.**\n",
    "        *   **Cultural Nuance Check (Meaning-Consistent Adaptation):** Re-examine for cultural nuances. Ensure the translation is culturally appropriate for an English-speaking audience, **but only make adjustments that maintain the precise meaning and intent of the Mongolian source.**\n",
    "\n",
    "    * **Backtranslation and Meaning Divergence Check:** **Now, perform a *mental backtranslation* of your current English translation back into Mongolian.**  Compare this mental backtranslation to the *original Mongolian text*.\n",
    "        *   **Identify Potential Meaning Divergences (Through Backtranslation):**  Are there any points where your mental backtranslation differs in meaning from the original Mongolian?  Focus on *meaning*, not just wording.\n",
    "        *   **Rectify Meaning Divergences (If Any) in English Translation:** If you identify any meaning shifts through backtranslation, immediately adjust your English translation to eliminate these divergences and ensure perfect alignment with the original Mongolian meaning.  **Meaning accuracy is paramount.** If a \"natural\" phrasing introduces even a hint of meaning shift as revealed by backtranslation, revert to a more literal but meaning-accurate phrasing.\n",
    "\n",
    "    **CRITICAL WARNING:**  **Do NOT make any changes in this second pass that could even slightly alter the original meaning of the Mongolian text *as verified by backtranslation*. If a change for \"authenticity\" risks any semantic shift, however small, DO NOT make that change. Accuracy of meaning, confirmed by backtranslation, is non-negotiable and takes precedence over purely stylistic improvements in this final step.**  The goal is native-level *naturalness* within the *confines of perfect meaning preservation, rigorously checked by backtranslation.**\n",
    "\n",
    "**Response Format:**\n",
    "\n",
    "For the Mongolian text and its initial English translation provided below, meticulously perform the evaluation and improvement process detailed above, incorporating the backtranslation check.  Present your response in the following structured format:\n",
    "\n",
    "    <reasoning>\n",
    "    1. **Overall Meaning and Context:** ... (Explain your comprehensive understanding of the Mongolian text's core message, context, and purpose)\n",
    "    2. **Initial Translation Evaluation & Meaning-Centric Quality Score:** ... (Critically assess the provided English translation, specifically identifying meaning accuracy errors and fluency/naturalness issues. Assign a quality score from 0.0 to 1.0, justifying it based on meaning accuracy and fluency, with meaning accuracy being the dominant factor)\n",
    "    3. **Key Meaning-Related Challenges:** ... (Highlight the most significant translation challenges you encountered in maintaining perfect meaning fidelity for this specific text)\n",
    "    4. **Translation Choices (First Refinement - Meaning Accuracy Focus):** ... (Detail your key decisions and changes during the first refinement pass, explicitly focusing on how you rectified meaning inaccuracies and ensured precise meaning transfer)\n",
    "    5. **Stylistic Enhancement Details (Meaning-Preserving):** ... (Describe the stylistic improvements you implemented to enhance flow, tone, and readability, *while strictly maintaining the established accurate meaning* from the first refinement)\n",
    "    6. **Terminology & Register Confirmation Notes (Meaning Integrity):** ... (Document any terminology research or register considerations, explicitly stating how these choices reinforce meaning accuracy and cultural appropriateness)\n",
    "    7. **Second Pass Refinement - Native Speaker Polish and Backtranslation Meaning Check:**\n",
    "        *   **Native Speaker Polish for Naturalness (Meaning-Preserving):**\n",
    "            *   **Identified Remaining Awkwardness (Meaning-Neutral):** ... (Pinpoint specific phrases or sentences from your *first refined translation* that still sound unnatural or \"translated\" *without any meaning alteration*)\n",
    "            *   **Proposed Authentic English Alternatives (Meaning-Equivalent):** ... (Present your improved, more native-sounding English phrasings, emphasizing that they convey the *exact same meaning*)\n",
    "            *   **Justification for Naturalness Enhancements (Meaning Preservation Rationale):** ... (Explain *why* these changes enhance naturalness and idiomaticity for a native English speaker, *reiterating that meaning accuracy remains completely unchanged*)\n",
    "        *   **Backtranslation and Meaning Divergence Check:**\n",
    "            *   **Mental Backtranslation Summary:** ... (Briefly describe your mental backtranslation process and key observations)\n",
    "            *   **Identified Meaning Divergences (If Any) through Backtranslation:** ... (Clearly state if you identified any meaning divergences by comparing your mental backtranslation to the original Mongolian. Be specific about where and how meaning shifted, if it did)\n",
    "            *   **Rectification of Meaning Divergences in Final Translation:** ... (If you identified meaning divergences, explain precisely how you adjusted the English translation to eliminate them, ensuring perfect meaning alignment with the original Mongolian text)\n",
    "    </reasoning>\n",
    "\n",
    "    <initial_answer>\n",
    "    ... (Your first refined English translation - rigorously ensuring meaning accuracy)\n",
    "    </initial_answer>\n",
    "\n",
    "    <final_answer>\n",
    "    ... (Your final, highly polished and authentically natural English translation, with absolutely no compromise on original meaning, verified by backtranslation)\n",
    "    </final_answer>\n",
    "\n",
    "    <output>\n",
    "    **CRITICAL: Output ONLY valid JSON within the `<output>` tags. Do NOT include any text, comments, or markdown delimiters (like ```json, ```, ''', etc.) before, after, or around the JSON.  The content within `<output>` MUST be purely and exclusively JSON.**\n",
    "    {{\n",
    "      \"quality_score\": (Your assigned quality score for the *initial* English translation, e.g., 0.6),\n",
    "      \"initial_english_translation\": \"... (Your first refined English translation - meaning-accurate)\",\n",
    "      \"final_english_translation\": \"... (Your final, authentic English translation - meaning-preserving and natural, backtranslation-verified)\"\n",
    "    }}\n",
    "    ```\n",
    "    </output>\n",
    "\n",
    "**Mongolian Text:** {translation_pair[0]}\n",
    "\n",
    "**English Translation:** {translation_pair[1]}\n",
    "\"\"\"\n",
    "\n",
    "\n",
    "response = hello_lmstudio_call(system_promtp=system_prompt, user_prompt=task_prompt)\n",
    "\n",
    "response"
   ]
  },
  {
   "cell_type": "code",
   "execution_count": null,
   "id": "b5a468cc-0192-4042-bc10-279a22e9b1ec",
   "metadata": {},
   "outputs": [
    {
     "data": {
      "text/plain": [
       "{'reasoning': '1. **Overall Meaning and Context:** The Mongolian text discusses a specific service provided by the Employment Service Center for individuals aged within the context of their employment program. This center offers social work services, which implies support or assistance in some form. The compensation mentioned is likely for these services. Understanding the core message involves recognizing that this support is directed towards an age-specific demographic and is part of a broader employment initiative.\\n2. **Initial Translation Evaluation & Meaning-Centric Quality Score:** Upon reviewing the English translation provided, I identify it as somewhat accurate but lacking in clarity regarding the nature of the compensation for social work services. There\\'s also a minor nuance in the phrasing that could be considered more natural or idiomatic in English.\\n\\n   - **Meaning Accuracy Errors:** The translation does not clearly convey the idea that the employment service center is specifically targeting individuals aged with its social work services and compensation.\\n   \\n   - **Fluency and Naturalness Deficiencies (Meaning-Neutral Issues):** Phrasing could be more natural for an English-speaking audience.\\n\\n   Given these considerations, I assign a quality score of 0.7 to the initial translation. This is because while it generally conveys the meaning accurately, there\\'s room for improvement in terms of clarity and phrasing that sounds more natural in English.\\n\\n3. **Key Meaning-Related Challenges:** The key challenge here is maintaining the specificity that \"Хөтөлбөрийн хүрээнд\" (within the framework of the program) implies, which should be translated accurately to convey that these services are a part of the employment program and targeted towards individuals aged.\\n\\n4. **Translation Choices (First Refinement - Meaning Accuracy Focus):** My key decisions for rectifying meaning inaccuracies include:\\n\\n   - Emphasizing the specific demographic being served.\\n   - Clarifying the nature of compensation as related to social work services within the employment program framework.\\n\\n5. **Stylistic Enhancement Details (Meaning-Preserving):** To enhance flow and tone while maintaining accurate meaning, I would suggest minor adjustments such as:\\n\\n   - Using more idiomatic phrasing that is clear about the target demographic.\\n   - Adjusting sentence structure to better convey a sense of service provision within the employment program framework.\\n\\n6. **Terminology & Register Confirmation Notes (Meaning Integrity):** Given the context, \"social work services\" seems an appropriate translation for \"нийгмийн үйлчилгээний чиглэлээр ажил.\" However, terminology like this should be verified to ensure consistency with standard definitions in employment contexts. The register (formality level) appears suitable for a professional or governmental context.\\n\\n7. **Second Pass Refinement - Native Speaker Polish and Backtranslation Meaning Check:**\\n\\n   *   **Native Speaker Polish for Naturalness (Meaning-Preserving):**\\n       *   **Identified Remaining Awkwardness (Meaning-Neutral):** The phrasing could be improved to sound more natural in English, such as using a more conventional structure for offering services within a program.\\n       *   **Proposed Authentic English Alternatives (Meaning-Equivalent):** Instead of \"Within the framework of the program,\" one might use phrases like \"as part of our employment program\" or \"within the context of our job initiative.\" These convey the same meaning but in more idiomatic language.\\n       *   **Justification for Naturalness Enhancements (Meaning Preservation Rationale):** Making these changes does not alter the original meaning. They are aimed at making the translation sound more natural to a native English speaker while maintaining complete accuracy.\\n\\n   *   **Backtranslation and Meaning Divergence Check:**\\n       *   **Mental Backtranslation Summary:** Upon mentally translating my final polished English text back into Mongolian, I notice it accurately reflects the original message.\\n       *   **Identified Meaning Divergences (If Any) through Backtranslation:** No meaning divergences were identified through this mental backtranslation process. The translation accurately maintains the original message\\'s intent and nuance.\\n       *   **Rectification of Meaning Divergences in Final Translation:** Since no discrepancies were found, no further adjustments are necessary.',\n",
       " 'initial_answer': 'Within the framework of the program, the Employment Service Center will offer social work services to those aged within the context of their employment program and provide compensation for this service.',\n",
       " 'final_answer': \"As part of our employment program, we offer specific support services through the Employment Service Center aimed at individuals aged. This includes providing social work assistance and fair compensation for these services within our initiative's framework.\",\n",
       " 'output': '{\\n  \"quality_score\": 0.9,\\n  \"initial_english_translation\": \"Within the framework of the program, the Employment Service Center will offer social work services to those aged and will be paid compensation.\",\\n  \"final_english_translation\": \"As part of our employment program, we offer specific support services through the Employment Service Center aimed at individuals aged. This includes providing social work assistance and fair compensation for these services within our initiative\\'s framework.\"\\n}'}"
      ]
     },
     "execution_count": 5,
     "metadata": {},
     "output_type": "execute_result"
    }
   ],
   "source": [
    "#%%\n",
    "\n",
    "def extract_content(response_text):\n",
    "    content = {}\n",
    "    reasoning_pattern      = r\"<reasoning>(.*?)</reasoning>\"\n",
    "    initial_answer_pattern = r\"<initial_answer>(.*?)</initial_answer>\"\n",
    "    final_answer_pattern   = r\"<final_answer>(.*?)</final_answer>\"\n",
    "    output_pattern         = r\"<output>(.*?)</output>\"\n",
    "    content[\"reasoning\"     ] = re.search(reasoning_pattern, response_text, re.DOTALL).group(1).strip() if re.search(reasoning_pattern, response_text, re.DOTALL) else None\n",
    "    content[\"initial_answer\"] = re.search(initial_answer_pattern, response_text, re.DOTALL).group(1).strip() if re.search(initial_answer_pattern, response_text, re.DOTALL) else None\n",
    "    content[\"final_answer\"  ] = re.search(final_answer_pattern, response_text, re.DOTALL).group(1).strip() if re.search(final_answer_pattern, response_text, re.DOTALL) else None\n",
    "    content[\"output\"        ] = re.search(output_pattern, response_text, re.DOTALL).group(1).strip() if re.search(output_pattern, response_text, re.DOTALL) else None\n",
    "    return content\n",
    "\n",
    "response_json = extract_content(response_text=response)\n",
    "response_json"
   ]
  },
  {
   "cell_type": "code",
   "execution_count": null,
   "id": "c372291a-5268-42ee-a5e7-f1168346ed39",
   "metadata": {},
   "outputs": [
    {
     "name": "stdout",
     "output_type": "stream",
     "text": [
      "1. **Overall Meaning and Context:** The Mongolian text discusses a specific service provided by the Employment Service Center for individuals aged within the context of their employment program. This center offers social work services, which implies support or assistance in some form. The compensation mentioned is likely for these services. Understanding the core message involves recognizing that this support is directed towards an age-specific demographic and is part of a broader employment initiative.\n",
      "2. **Initial Translation Evaluation & Meaning-Centric Quality Score:** Upon reviewing the English translation provided, I identify it as somewhat accurate but lacking in clarity regarding the nature of the compensation for social work services. There's also a minor nuance in the phrasing that could be considered more natural or idiomatic in English.\n",
      "\n",
      "   - **Meaning Accuracy Errors:** The translation does not clearly convey the idea that the employment service center is specifically targeting individuals aged with its social work services and compensation.\n",
      "   \n",
      "   - **Fluency and Naturalness Deficiencies (Meaning-Neutral Issues):** Phrasing could be more natural for an English-speaking audience.\n",
      "\n",
      "   Given these considerations, I assign a quality score of 0.7 to the initial translation. This is because while it generally conveys the meaning accurately, there's room for improvement in terms of clarity and phrasing that sounds more natural in English.\n",
      "\n",
      "3. **Key Meaning-Related Challenges:** The key challenge here is maintaining the specificity that \"Хөтөлбөрийн хүрээнд\" (within the framework of the program) implies, which should be translated accurately to convey that these services are a part of the employment program and targeted towards individuals aged.\n",
      "\n",
      "4. **Translation Choices (First Refinement - Meaning Accuracy Focus):** My key decisions for rectifying meaning inaccuracies include:\n",
      "\n",
      "   - Emphasizing the specific demographic being served.\n",
      "   - Clarifying the nature of compensation as related to social work services within the employment program framework.\n",
      "\n",
      "5. **Stylistic Enhancement Details (Meaning-Preserving):** To enhance flow and tone while maintaining accurate meaning, I would suggest minor adjustments such as:\n",
      "\n",
      "   - Using more idiomatic phrasing that is clear about the target demographic.\n",
      "   - Adjusting sentence structure to better convey a sense of service provision within the employment program framework.\n",
      "\n",
      "6. **Terminology & Register Confirmation Notes (Meaning Integrity):** Given the context, \"social work services\" seems an appropriate translation for \"нийгмийн үйлчилгээний чиглэлээр ажил.\" However, terminology like this should be verified to ensure consistency with standard definitions in employment contexts. The register (formality level) appears suitable for a professional or governmental context.\n",
      "\n",
      "7. **Second Pass Refinement - Native Speaker Polish and Backtranslation Meaning Check:**\n",
      "\n",
      "   *   **Native Speaker Polish for Naturalness (Meaning-Preserving):**\n",
      "       *   **Identified Remaining Awkwardness (Meaning-Neutral):** The phrasing could be improved to sound more natural in English, such as using a more conventional structure for offering services within a program.\n",
      "       *   **Proposed Authentic English Alternatives (Meaning-Equivalent):** Instead of \"Within the framework of the program,\" one might use phrases like \"as part of our employment program\" or \"within the context of our job initiative.\" These convey the same meaning but in more idiomatic language.\n",
      "       *   **Justification for Naturalness Enhancements (Meaning Preservation Rationale):** Making these changes does not alter the original meaning. They are aimed at making the translation sound more natural to a native English speaker while maintaining complete accuracy.\n",
      "\n",
      "   *   **Backtranslation and Meaning Divergence Check:**\n",
      "       *   **Mental Backtranslation Summary:** Upon mentally translating my final polished English text back into Mongolian, I notice it accurately reflects the original message.\n",
      "       *   **Identified Meaning Divergences (If Any) through Backtranslation:** No meaning divergences were identified through this mental backtranslation process. The translation accurately maintains the original message's intent and nuance.\n",
      "       *   **Rectification of Meaning Divergences in Final Translation:** Since no discrepancies were found, no further adjustments are necessary.\n"
     ]
    }
   ],
   "source": [
    "#%%\n",
    "\n",
    "print(response_json['reasoning'])"
   ]
  },
  {
   "cell_type": "code",
   "execution_count": null,
   "id": "1908e736-a4a0-495a-a0e7-4207f736e235",
   "metadata": {},
   "outputs": [
    {
     "name": "stdout",
     "output_type": "stream",
     "text": [
      "Within the framework of the program, the Employment Service Center will offer social work services to those aged within the context of their employment program and provide compensation for this service.\n"
     ]
    }
   ],
   "source": [
    "#%%\n",
    "\n",
    "print(response_json['initial_answer'])"
   ]
  },
  {
   "cell_type": "code",
   "execution_count": null,
   "id": "cae51f4a-acc9-460d-afd1-a9639db9e6a3",
   "metadata": {},
   "outputs": [
    {
     "name": "stdout",
     "output_type": "stream",
     "text": [
      "As part of our employment program, we offer specific support services through the Employment Service Center aimed at individuals aged. This includes providing social work assistance and fair compensation for these services within our initiative's framework.\n"
     ]
    }
   ],
   "source": [
    "#%%\n",
    "\n",
    "print(response_json['final_answer'])"
   ]
  },
  {
   "cell_type": "code",
   "execution_count": null,
   "id": "d3ead487-e835-416f-90de-71ae0b75500e",
   "metadata": {},
   "outputs": [
    {
     "name": "stdout",
     "output_type": "stream",
     "text": [
      "{\n",
      "  \"quality_score\": 0.9,\n",
      "  \"initial_english_translation\": \"Within the framework of the program, the Employment Service Center will offer social work services to those aged and will be paid compensation.\",\n",
      "  \"final_english_translation\": \"As part of our employment program, we offer specific support services through the Employment Service Center aimed at individuals aged. This includes providing social work assistance and fair compensation for these services within our initiative's framework.\"\n",
      "}\n"
     ]
    }
   ],
   "source": [
    "#%%\n",
    "\n",
    "print(response_json['output'])"
   ]
  },
  {
   "cell_type": "code",
   "execution_count": null,
   "id": "d3a4c656-2b73-4a78-bc29-9a31e27ffaaa",
   "metadata": {},
   "outputs": [
    {
     "name": "stdout",
     "output_type": "stream",
     "text": [
      "### Translation Pair ###\n",
      "Mongolian : Хөтөлбөрийн хүрээнд энэ насны иргэдэд Хөдөлмөр эрхлэлтийн үйлчилгээний төвөөс нийгмийн үйлчилгээний чиглэлээр ажил санал болгож, хийсэн ажилд нь хөлс урамшуулал олгох аж\n",
      "English   : Within the framework of the program, the Employment Service Center will offer social work services to those aged and will be paid compensation.\n",
      "### Evalution and improvements ###\n",
      "quality score : 0.9\n",
      "former        : Within the framework of the program, the Employment Service Center will offer social work services to those aged and will be paid compensation.\n",
      "improved      : As part of our employment program, we offer specific support services through the Employment Service Center aimed at individuals aged. This includes providing social work assistance and fair compensation for these services within our initiative's framework.\n"
     ]
    }
   ],
   "source": [
    "#%%\n",
    "\n",
    "output_json = json.loads(response_json['output'])\n",
    "\n",
    "print(\"### Translation Pair ###\")\n",
    "print(f\"Mongolian : {translation_pair[0]}\")\n",
    "print(f\"English   : {translation_pair[1]}\")\n",
    "\n",
    "print(f\"### Evalution and improvements ###\")\n",
    "print(f\"quality score : {output_json['quality_score']}\")\n",
    "print(f\"former        : {output_json['initial_english_translation']}\")\n",
    "print(f\"improved      : {output_json['final_english_translation']}\")"
   ]
  }
 ],
 "metadata": {
  "language_info": {
   "codemirror_mode": {
    "name": "ipython",
    "version": 3
   },
   "file_extension": ".py",
   "mimetype": "text/x-python",
   "name": "python",
   "nbconvert_exporter": "python",
   "pygments_lexer": "ipython3",
   "version": 3
  }
 },
 "nbformat": 4,
 "nbformat_minor": 2
}
