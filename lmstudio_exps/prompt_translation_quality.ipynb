{
 "cells": [
  {
   "cell_type": "code",
   "execution_count": null,
   "id": "09774cbe-7441-4c59-a445-c9b9daf4eaf7",
   "metadata": {},
   "outputs": [],
   "source": [
    "#%%\n",
    "\n",
    "# Run lmstudio\n",
    "# Local Server -> Start Server\n",
    "#\n",
    "# Make sure to load the llama 3.1 in the Chat\n",
    "#"
   ]
  },
  {
   "cell_type": "code",
   "execution_count": null,
   "id": "cc750f88-c193-45bc-8365-e6d82182c46d",
   "metadata": {},
   "outputs": [],
   "source": [
    "#%%\n",
    "\n",
    "import requests\n",
    "import json\n",
    "import re"
   ]
  },
  {
   "cell_type": "code",
   "execution_count": null,
   "id": "8f328fb9-4b96-4875-bfe5-4119c9f0c021",
   "metadata": {},
   "outputs": [],
   "source": [
    "#%%\n",
    "\n",
    "def hello_lmstudio_call(system_promtp=\"\", user_prompt=\"'\"):\n",
    "    url = 'http://localhost:1234/v1/chat/completions'\n",
    "    headers = {\n",
    "        'Content-Type': \"application/json\"\n",
    "    }\n",
    "    data = {\n",
    "        \"model\": \"lmstudio-community/Meta-Llama-3.1-8B-Instruct-GGUF\",\n",
    "        'messages': [\n",
    "            {'role': 'system', 'content': f\"{system_promtp}\"},\n",
    "            {'role': 'user'  , 'content': f\"{user_prompt}\"}\n",
    "        ],\n",
    "        \"temperature\" : 0.8,\n",
    "        \"max_tokens\"  : -1,\n",
    "        \"stream\"      : False\n",
    "    }\n",
    "    response = requests.post(url, headers=headers, data=json.dumps(data))\n",
    "    if response.status_code == 200:\n",
    "        try:\n",
    "            return response.json()['choices'][0]['message']['content']\n",
    "        except Exception as e:\n",
    "            return None\n",
    "    else:\n",
    "        print(f\"failed to get response : {response.status_code}, {response.text}\")\n",
    "        return None"
   ]
  },
  {
   "cell_type": "code",
   "execution_count": null,
   "id": "fde08499-1e31-4caa-aba6-7d9426e8f73c",
   "metadata": {},
   "outputs": [
    {
     "name": "stdout",
     "output_type": "stream",
     "text": [
      "<reasoning>\n",
      "Overall Meaning: The text describes a service offered by the Employment Service Center for elderly citizens.\n",
      "\n",
      "Initial Translation Evaluation & Accuracy-Centric Quality Score: The initial translation is partially accurate but lacks clarity. It fails to convey that the service is specifically targeted at those aged, which can be inferred from the Mongolian phrase \"энэ насны иргэдэд\". However, it accurately conveys the offer of social work services and compensation. Given these aspects, I assign an accuracy score of 0.7.\n",
      "\n",
      "Initial Translated version: Within the framework of the program, the Employment Service Center will offer social work services to those aged and will be paid compensation.\n",
      "\n",
      "Key Meaning-Related Challenges: One significant challenge is accurately conveying the age-specific target audience for this service. In Mongolian, \"энэ насны\" is an idiomatic expression meaning \"of this age\" or \"aged\", which should be preserved in translation.\n",
      "\n",
      "Translation Rationale: To address this challenge, I choose to explicitly state that the service is offered to those aged, while maintaining the original phrase's nuance.\n",
      "\n",
      "Refined Translation: Within the framework of the program, the Employment Service Center will offer social work services specifically tailored for individuals of this age group and provide compensation for their labor.\n",
      "\n",
      "Backtranslation: Зөвхөн нийгмийн үйлчилгээний чиглэлээр ажил санал болгож, хийсэн ажилд нь хөлс урамшуулал олгох аж зөвхөн Хөтөлбөрийн хүрээнд энэ насны иргэдэд\n",
      "\n",
      "Meaning Divergence Analysis: The backtranslation closely matches the original text, with only minor variations due to word order differences. No significant meaning divergences were found.\n",
      "\n",
      "</reasoning>\n",
      "\n",
      "<final_answer>\n",
      "Within the framework of the program, the Employment Service Center will offer social work services specifically tailored for individuals of this age group and provide compensation for their labor.\n",
      "</final_answer>\n",
      "\n",
      "<score>\n",
      "    0.9\n",
      "</score>\n"
     ]
    }
   ],
   "source": [
    "#%%\n",
    "\n",
    "system_prompt = \"\"\"\n",
    "You are a knowledgeable, efficient, and direct Al assistant. \n",
    "You are also fluent in English and Mongolian languages.\n",
    "\"\"\"\n",
    "\n",
    "translation_pair = [\n",
    "    \"Хөтөлбөрийн хүрээнд энэ насны иргэдэд Хөдөлмөр эрхлэлтийн үйлчилгээний төвөөс нийгмийн үйлчилгээний чиглэлээр ажил санал болгож, хийсэн ажилд нь хөлс урамшуулал олгох аж\",\n",
    "    \"Within the framework of the program, the Employment Service Center will offer social work services to those aged and will be paid compensation.\"\n",
    "]\n",
    "\n",
    "task_prompt = f\"\"\"\n",
    "You are a highly skilled Mongolian-to-English translator. Your primary goal is to produce accurate and clear English translations of Mongolian text. Meaning accuracy is your top priority. While fluency in English is important, it should never compromise the original meaning of the source text.\n",
    "\n",
    "**Translation Process:**\n",
    "\n",
    "1. **Analyze:** Carefully examine the Mongolian text to understand its meaning, context, and purpose.\n",
    "2. **Evaluate Initial Translation:** Assess the provided English translation, focusing on meaning accuracy and clarity.\n",
    "3. **Assign Accuracy Score:** Assign a score from 0.0 (completely inaccurate) to 1.0 (perfectly accurate) based solely on how well the initial translation preserves the meaning of the original text.\n",
    "4. **Translate:** Create a refined English translation that accurately conveys the original meaning.\n",
    "5. **Backtranslate:** Translate your refined English translation back into Mongolian.\n",
    "6. **Validate:** Compare the backtranslation to the original Mongolian text. If there are any meaning discrepancies, revise your English translation to ensure perfect accuracy.\n",
    "\n",
    "**Handling Unknown Words:**\n",
    "\n",
    "If you encounter a Mongolian word that cannot be directly translated, transliterate it using a standard Mongolian-to-English transliteration system. Indicate this in your reasoning.\n",
    "\n",
    "**Ambiguity:**\n",
    "\n",
    "If the Mongolian text is ambiguous, try to preserve that ambiguity in your English translation if possible. If not, choose the most likely interpretation based on context and explain your choice in your reasoning.\n",
    "\n",
    "**Reasoning Documentation (within `<reasoning>` tag):**\n",
    "\n",
    "1. **Overall Meaning and Context:** Briefly describe the main idea and context of the Mongolian text.\n",
    "2. **Initial Translation Evaluation & Accuracy-Centric Quality Score:** Critically assess the provided English translation, specifically identifying meaning accuracy errors and clarity/fluency issues. Assign a quality score from 0.0 to 1.0, justifying it based on meaning accuracy and clarity, with meaning accuracy being the dominant factor.\n",
    "3. **Initial Translated version:** Provide initally translated text.\n",
    "4. **Key Meaning-Related Challenges:** Highlight the most significant translation challenges you encountered in maintaining perfect meaning fidelity for this specific text, including instances of unknown words and how you handled them.\n",
    "5. **Translation Rationale:** Briefly explain the reasoning behind your translation choices.\n",
    "6. **Refined translation:** Provide your refined english translation of the `final_answer`.\n",
    "7. **Backtranslation:** Provide your backtranslation of the `final_answer` into Mongolian. You also print backtranslated text here.\n",
    "8. **Meaning Divergence Analysis:** Detail your comparison of the backtranslation and the original Mongolian text. Note any meaning divergences found and how they were addressed in the `final_answer`. If no divergences were found, explicitly state that.\n",
    "9. **Backtranslation doesn't match:** If the backtranslation doesn't match, suggest your best translation attempt here, also don't forget best translation attempt. If the previous step doesn't find significant backtranslation divergence, you can leave this step empty.\n",
    "\n",
    "**Output Format:**\n",
    "\n",
    "Your response must contain the following tags, and only one of each:\n",
    "\n",
    "*   `<reasoning>`\n",
    "*   `<final_answer>`\n",
    "*   `<score>`\n",
    "\n",
    "**Do not include any text outside of these tags. Do not use any markdown formatting within the tags. The content of each tag should be plain text, except for the `<output>` tag, which should contain only valid JSON.**\n",
    "\n",
    "**Example of Correct Output Format:**\n",
    "\n",
    "```\n",
    "<reasoning>\n",
    "Overall Meaning: ...\n",
    "Initial Translation Evaluation: ...\n",
    "Inital Translated version\n",
    "Accuracy Score: ...\n",
    "Translation Challenges: ...\n",
    "Translation Rationale: ...\n",
    "Refined Translation: ...\n",
    "Backtranslation: ...\n",
    "Meaning Divergence Analysis: ...\n",
    "</reasoning>\n",
    "\n",
    "<final_answer>\n",
    "... (Your final, accurate English translation)\n",
    "</final_answer>\n",
    "\n",
    "<score>\n",
    "    0.4 (Your assessed score for provided translation)\n",
    "</score>\n",
    "```\n",
    "\n",
    "**Mongolian Text:** {translation_pair[0]}\n",
    "\n",
    "**English Translation:** {translation_pair[1]}\n",
    "\"\"\"\n",
    "\n",
    "response = hello_lmstudio_call(system_promtp=system_prompt, user_prompt=task_prompt)\n",
    "\n",
    "print(response)"
   ]
  },
  {
   "cell_type": "code",
   "execution_count": null,
   "id": "256709e4-859b-4d1d-b4de-8908b9363ee1",
   "metadata": {},
   "outputs": [
    {
     "name": "stdout",
     "output_type": "stream",
     "text": [
      "<reasoning>\n",
      "Overall Meaning: The text describes a service offered by the Employment Service Center for elderly citizens.\n",
      "\n",
      "Initial Translation Evaluation & Accuracy-Centric Quality Score: The initial translation is partially accurate but lacks clarity. It fails to convey that the service is specifically targeted at those aged, which can be inferred from the Mongolian phrase \"энэ насны иргэдэд\". However, it accurately conveys the offer of social work services and compensation. Given these aspects, I assign an accuracy score of 0.7.\n",
      "\n",
      "Initial Translated version: Within the framework of the program, the Employment Service Center will offer social work services to those aged and will be paid compensation.\n",
      "\n",
      "Key Meaning-Related Challenges: One significant challenge is accurately conveying the age-specific target audience for this service. In Mongolian, \"энэ насны\" is an idiomatic expression meaning \"of this age\" or \"aged\", which should be preserved in translation.\n",
      "\n",
      "Translation Rationale: To address this challenge, I choose to explicitly state that the service is offered to those aged, while maintaining the original phrase's nuance.\n",
      "\n",
      "Refined Translation: Within the framework of the program, the Employment Service Center will offer social work services specifically tailored for individuals of this age group and provide compensation for their labor.\n",
      "\n",
      "Backtranslation: Зөвхөн нийгмийн үйлчилгээний чиглэлээр ажил санал болгож, хийсэн ажилд нь хөлс урамшуулал олгох аж зөвхөн Хөтөлбөрийн хүрээнд энэ насны иргэдэд\n",
      "\n",
      "Meaning Divergence Analysis: The backtranslation closely matches the original text, with only minor variations due to word order differences. No significant meaning divergences were found.\n",
      "\n",
      "</reasoning>\n",
      "\n",
      "<final_answer>\n",
      "Within the framework of the program, the Employment Service Center will offer social work services specifically tailored for individuals of this age group and provide compensation for their labor.\n",
      "</final_answer>\n",
      "\n",
      "<score>\n",
      "    0.9\n",
      "</score>\n"
     ]
    }
   ],
   "source": [
    "#%%\n",
    "\n",
    "print(response)"
   ]
  },
  {
   "cell_type": "code",
   "execution_count": null,
   "id": "596fabf7-da18-4670-9d06-a83780e99ad2",
   "metadata": {},
   "outputs": [
    {
     "data": {
      "text/plain": [
       "{'reasoning': 'Overall Meaning: The text describes a service offered by the Employment Service Center for elderly citizens.\\n\\nInitial Translation Evaluation & Accuracy-Centric Quality Score: The initial translation is partially accurate but lacks clarity. It fails to convey that the service is specifically targeted at those aged, which can be inferred from the Mongolian phrase \"энэ насны иргэдэд\". However, it accurately conveys the offer of social work services and compensation. Given these aspects, I assign an accuracy score of 0.7.\\n\\nInitial Translated version: Within the framework of the program, the Employment Service Center will offer social work services to those aged and will be paid compensation.\\n\\nKey Meaning-Related Challenges: One significant challenge is accurately conveying the age-specific target audience for this service. In Mongolian, \"энэ насны\" is an idiomatic expression meaning \"of this age\" or \"aged\", which should be preserved in translation.\\n\\nTranslation Rationale: To address this challenge, I choose to explicitly state that the service is offered to those aged, while maintaining the original phrase\\'s nuance.\\n\\nRefined Translation: Within the framework of the program, the Employment Service Center will offer social work services specifically tailored for individuals of this age group and provide compensation for their labor.\\n\\nBacktranslation: Зөвхөн нийгмийн үйлчилгээний чиглэлээр ажил санал болгож, хийсэн ажилд нь хөлс урамшуулал олгох аж зөвхөн Хөтөлбөрийн хүрээнд энэ насны иргэдэд\\n\\nMeaning Divergence Analysis: The backtranslation closely matches the original text, with only minor variations due to word order differences. No significant meaning divergences were found.',\n",
       " 'final_answer': 'Within the framework of the program, the Employment Service Center will offer social work services specifically tailored for individuals of this age group and provide compensation for their labor.',\n",
       " 'score': '0.9'}"
      ]
     },
     "execution_count": 20,
     "metadata": {},
     "output_type": "execute_result"
    }
   ],
   "source": [
    "#%%\n",
    "\n",
    "def extract_content(response_text):\n",
    "    content = {}\n",
    "    reasoning_pattern         = r\"<reasoning>(.*?)</reasoning>\"\n",
    "    final_answer_pattern      = r\"<final_answer>(.*?)</final_answer>\"\n",
    "    score_pattern             = r\"<score>(.*?)</score>\"\n",
    "    content[\"reasoning\"     ] = re.search(reasoning_pattern, response_text, re.DOTALL).group(1).strip() if re.search(reasoning_pattern, response_text, re.DOTALL) else None\n",
    "    content[\"final_answer\"  ] = re.search(final_answer_pattern, response_text, re.DOTALL).group(1).strip() if re.search(final_answer_pattern, response_text, re.DOTALL) else None\n",
    "    content[\"score\"         ] = re.search(score_pattern, response_text, re.DOTALL).group(1).strip() if re.search(score_pattern, response_text, re.DOTALL) else None\n",
    "    return content\n",
    "\n",
    "response_json = extract_content(response_text=response)\n",
    "response_json"
   ]
  },
  {
   "cell_type": "code",
   "execution_count": null,
   "id": "9718045a-7cc9-44da-b333-3780fd488215",
   "metadata": {},
   "outputs": [
    {
     "name": "stdout",
     "output_type": "stream",
     "text": [
      "{'reasoning': 'Overall Meaning: The text describes a service offered by the Employment Service Center for elderly citizens.\\n\\nInitial Translation Evaluation & Accuracy-Centric Quality Score: The initial translation is partially accurate but lacks clarity. It fails to convey that the service is specifically targeted at those aged, which can be inferred from the Mongolian phrase \"энэ насны иргэдэд\". However, it accurately conveys the offer of social work services and compensation. Given these aspects, I assign an accuracy score of 0.7.\\n\\nInitial Translated version: Within the framework of the program, the Employment Service Center will offer social work services to those aged and will be paid compensation.\\n\\nKey Meaning-Related Challenges: One significant challenge is accurately conveying the age-specific target audience for this service. In Mongolian, \"энэ насны\" is an idiomatic expression meaning \"of this age\" or \"aged\", which should be preserved in translation.\\n\\nTranslation Rationale: To address this challenge, I choose to explicitly state that the service is offered to those aged, while maintaining the original phrase\\'s nuance.\\n\\nRefined Translation: Within the framework of the program, the Employment Service Center will offer social work services specifically tailored for individuals of this age group and provide compensation for their labor.\\n\\nBacktranslation: Зөвхөн нийгмийн үйлчилгээний чиглэлээр ажил санал болгож, хийсэн ажилд нь хөлс урамшуулал олгох аж зөвхөн Хөтөлбөрийн хүрээнд энэ насны иргэдэд\\n\\nMeaning Divergence Analysis: The backtranslation closely matches the original text, with only minor variations due to word order differences. No significant meaning divergences were found.', 'final_answer': 'Within the framework of the program, the Employment Service Center will offer social work services specifically tailored for individuals of this age group and provide compensation for their labor.', 'score': '0.9'}\n"
     ]
    }
   ],
   "source": [
    "#%%\n",
    "\n",
    "print(response_json)"
   ]
  },
  {
   "cell_type": "code",
   "execution_count": null,
   "id": "0cc6294b-db48-4b23-870f-7c4a3e4cf75b",
   "metadata": {},
   "outputs": [
    {
     "name": "stdout",
     "output_type": "stream",
     "text": [
      "Overall Meaning: The text describes a service offered by the Employment Service Center for elderly citizens.\n",
      "\n",
      "Initial Translation Evaluation & Accuracy-Centric Quality Score: The initial translation is partially accurate but lacks clarity. It fails to convey that the service is specifically targeted at those aged, which can be inferred from the Mongolian phrase \"энэ насны иргэдэд\". However, it accurately conveys the offer of social work services and compensation. Given these aspects, I assign an accuracy score of 0.7.\n",
      "\n",
      "Initial Translated version: Within the framework of the program, the Employment Service Center will offer social work services to those aged and will be paid compensation.\n",
      "\n",
      "Key Meaning-Related Challenges: One significant challenge is accurately conveying the age-specific target audience for this service. In Mongolian, \"энэ насны\" is an idiomatic expression meaning \"of this age\" or \"aged\", which should be preserved in translation.\n",
      "\n",
      "Translation Rationale: To address this challenge, I choose to explicitly state that the service is offered to those aged, while maintaining the original phrase's nuance.\n",
      "\n",
      "Refined Translation: Within the framework of the program, the Employment Service Center will offer social work services specifically tailored for individuals of this age group and provide compensation for their labor.\n",
      "\n",
      "Backtranslation: Зөвхөн нийгмийн үйлчилгээний чиглэлээр ажил санал болгож, хийсэн ажилд нь хөлс урамшуулал олгох аж зөвхөн Хөтөлбөрийн хүрээнд энэ насны иргэдэд\n",
      "\n",
      "Meaning Divergence Analysis: The backtranslation closely matches the original text, with only minor variations due to word order differences. No significant meaning divergences were found.\n"
     ]
    }
   ],
   "source": [
    "#%%\n",
    "\n",
    "print(response_json['reasoning'])"
   ]
  },
  {
   "cell_type": "code",
   "execution_count": null,
   "id": "f803dc21-ad7e-4cee-84cd-97126cacdf49",
   "metadata": {},
   "outputs": [
    {
     "name": "stdout",
     "output_type": "stream",
     "text": [
      "Within the framework of the program, the Employment Service Center will offer social work services specifically tailored for individuals of this age group and provide compensation for their labor.\n"
     ]
    }
   ],
   "source": [
    "#%%\n",
    "\n",
    "print(response_json['final_answer'])"
   ]
  },
  {
   "cell_type": "code",
   "execution_count": null,
   "id": "f5ee15e4-960c-4f83-a173-273d9535eec4",
   "metadata": {},
   "outputs": [
    {
     "name": "stdout",
     "output_type": "stream",
     "text": [
      "0.9\n"
     ]
    }
   ],
   "source": [
    "#%%\n",
    "\n",
    "print(response_json['score'])"
   ]
  },
  {
   "cell_type": "code",
   "execution_count": null,
   "id": "b7bdc8d5-772d-4cdf-9990-1df178e663e7",
   "metadata": {},
   "outputs": [
    {
     "name": "stdout",
     "output_type": "stream",
     "text": [
      "### Translation Pair ###\n",
      "Mongolian : Хөтөлбөрийн хүрээнд энэ насны иргэдэд Хөдөлмөр эрхлэлтийн үйлчилгээний төвөөс нийгмийн үйлчилгээний чиглэлээр ажил санал болгож, хийсэн ажилд нь хөлс урамшуулал олгох аж\n",
      "English   : Within the framework of the program, the Employment Service Center will offer social work services to those aged and will be paid compensation.\n",
      "### Evalution and improvements ###\n",
      "quality score : 0.9\n",
      "improved      : Within the framework of the program, the Employment Service Center will offer social work services specifically tailored for individuals of this age group and provide compensation for their labor.\n"
     ]
    }
   ],
   "source": [
    "#%%\n",
    "\n",
    "print(\"### Translation Pair ###\")\n",
    "print(f\"Mongolian : {translation_pair[0]}\")\n",
    "print(f\"English   : {translation_pair[1]}\")\n",
    "\n",
    "print(f\"### Evalution and improvements ###\")\n",
    "print(f\"quality score : {response_json['score']}\")\n",
    "print(f\"improved      : {response_json['final_answer']}\")"
   ]
  }
 ],
 "metadata": {
  "language_info": {
   "codemirror_mode": {
    "name": "ipython",
    "version": 3
   },
   "file_extension": ".py",
   "mimetype": "text/x-python",
   "name": "python",
   "nbconvert_exporter": "python",
   "pygments_lexer": "ipython3",
   "version": 3
  }
 },
 "nbformat": 4,
 "nbformat_minor": 2
}
