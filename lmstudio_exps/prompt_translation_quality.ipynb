{
 "cells": [
  {
   "cell_type": "code",
   "execution_count": null,
   "id": "eee5d748-a50b-4a3a-b79d-e4f3da282c20",
   "metadata": {},
   "outputs": [],
   "source": [
    "#%%\n",
    "\n",
    "# Run lmstudio\n",
    "# Local Server -> Start Server\n",
    "#\n",
    "# Make sure to load the llama 3.1 in the Chat\n",
    "#"
   ]
  },
  {
   "cell_type": "code",
   "execution_count": null,
   "id": "70a65196-7644-489d-9fdb-a65c22a4ff75",
   "metadata": {},
   "outputs": [],
   "source": [
    "#%%\n",
    "\n",
    "import requests\n",
    "import json\n",
    "import re"
   ]
  },
  {
   "cell_type": "code",
   "execution_count": null,
   "id": "83888643-344b-4ad3-bab8-6f1b360b989a",
   "metadata": {},
   "outputs": [],
   "source": [
    "#%%\n",
    "\n",
    "def hello_lmstudio_call(system_promtp=\"\", user_prompt=\"'\"):\n",
    "    url = 'http://localhost:1234/v1/chat/completions'\n",
    "    headers = {\n",
    "        'Content-Type': \"application/json\"\n",
    "    }\n",
    "    data = {\n",
    "        \"model\": \"lmstudio-community/Meta-Llama-3.1-8B-Instruct-GGUF\",\n",
    "        'messages': [\n",
    "            {'role': 'system', 'content': f\"{system_promtp}\"},\n",
    "            {'role': 'user'  , 'content': f\"{user_prompt}\"}\n",
    "        ],\n",
    "        \"temperature\" : 0.8,\n",
    "        \"max_tokens\"  : -1,\n",
    "        \"stream\"      : False\n",
    "    }\n",
    "    response = requests.post(url, headers=headers, data=json.dumps(data))\n",
    "    if response.status_code == 200:\n",
    "        try:\n",
    "            return response.json()['choices'][0]['message']['content']\n",
    "        except Exception as e:\n",
    "            return None\n",
    "    else:\n",
    "        print(f\"failed to get response : {response.status_code}, {response.text}\")\n",
    "        return None"
   ]
  },
  {
   "cell_type": "code",
   "execution_count": null,
   "id": "a7fae98c-a1ed-4125-a174-669fef709092",
   "metadata": {},
   "outputs": [
    {
     "data": {
      "text/plain": [
       "'<reasoning>\\n    1. **Overall Meaning and Context:** The Mongolian text discusses a specific service provided by the Employment Service Center within the framework of a particular program. It mentions offering social work services to people aged, compensating them for the work they do in this context. This indicates that the program aims to support senior citizens through employment-related services.\\n\\n    2. **Initial Translation Evaluation & Meaning-Centric Quality Score:** The provided English translation seems partially accurate but lacks precision and clarity regarding the compensation aspect and the scope of social work services being offered. Based on a rigorous evaluation focusing on meaning accuracy, I would assign an initial quality score of 0.4. The translation has some significant errors, particularly with regards to conveying that compensation is paid for work done in the context of social services.\\n\\n    3. **Key Meaning-Related Challenges:** One major challenge is accurately conveying that the compensation is for the work done within the scope of social services, which may not be immediately clear from the initial translation. Another challenge lies in maintaining the precise meaning and context of the Mongolian original without introducing any deviation.\\n\\n    4. **Translation Choices (First Refinement - Meaning Accuracy Focus):** To rectify these issues in the first refinement pass, I would change \"Within the framework of the program\" to a more accurate representation like \"Under the umbrella of this program\" or something similar that maintains the original meaning without adding ambiguity. Also, \"will be paid compensation\" could be refined as \"will receive payment for their work,\" ensuring clarity on the type of compensation.\\n\\n    5. **Stylistic Enhancement Details (Meaning-Preserving):** In refining the translation for naturalness and readability while preserving the accurate meaning, I would consider rephrasing parts to make it more idiomatic in English. For example, instead of \"social work services,\" one might choose a phrase like \"community service initiatives\" or simply \"social services.\" This adjustment maintains the original message but improves clarity and flow.\\n\\n    6. **Terminology & Register Confirmation Notes (Meaning Integrity):** Considering the context and purpose of the text, I would ensure that any terminology used is accurate for this specific domain. For instance, if referring to a specific type of service or program within employment services, it\\'s crucial to use appropriate, precise terms.\\n\\n    7. **Second Pass Refinement - Native Speaker Polish for Naturalness (Meaning Unchanged):**\\n        *   **Identified Remaining Awkwardness (Meaning-Neutral):** Phrases like \"those aged\" could be rephrased as \"seniors\" or \"older individuals\" to improve naturalness.\\n        *   **Proposed Authentic English Alternatives (Meaning-Equivalent):** For instance, instead of \"Within the framework of this program,\" a more idiomatic phrase would be \"As part of this initiative.\" Similarly, \"social work services\" could become \"community outreach programs.\"\\n        *   **Justification for Naturalness Enhancements (Meaning Preservation Rationale):** These changes enhance the natural flow and idiomaticity of the English translation without altering the original meaning or context. They are chosen to improve readability and understandability while maintaining fidelity to the Mongolian source.\\n\\n</reasoning>\\n\\n<initial_answer>\\nWithin the framework of this program, the Employment Service Center will offer social work services to seniors (or those aged) and will receive payment for their work done in providing these community service initiatives.\\n</initial_answer>\\n\\n<final_answer>\\nAs part of this initiative, the Employment Service Center delivers community outreach programs for older individuals and compensates them for their work in this area.\\n</final_answer>\\n\\n<output>\\n{\\n  \"quality_score\": 0.8,\\n  \"initial_english_translation\": \"Within the framework of the program, the Employment Service Center will offer social work services to those aged and will be paid compensation.\",\\n  \"final_english_translation\": \"As part of this initiative, the Employment Service Center delivers community outreach programs for older individuals and compensates them for their work in this area.\"\\n}\\n</output>'"
      ]
     },
     "execution_count": 4,
     "metadata": {},
     "output_type": "execute_result"
    }
   ],
   "source": [
    "#%%\n",
    "\n",
    "system_prompt = \"\"\"\n",
    "You are a knowledgeable, efficient, and direct Al assistant. \n",
    "You are also fluent in English and Mongolian languages.\n",
    "\"\"\"\n",
    "\n",
    "translation_pair = [\n",
    "    \"Хөтөлбөрийн хүрээнд энэ насны иргэдэд Хөдөлмөр эрхлэлтийн үйлчилгээний төвөөс нийгмийн үйлчилгээний чиглэлээр ажил санал болгож, хийсэн ажилд нь хөлс урамшуулал олгох аж\",\n",
    "    \"Within the framework of the program, the Employment Service Center will offer social work services to those aged and will be paid compensation.\"\n",
    "]\n",
    "\n",
    "task_prompt = f\"\"\"\n",
    "You are a world-class Mongolian to English translator, celebrated for your exceptional ability to refine translations, achieving both native-level fluency *and* unwavering accuracy. Your mission is to elevate existing Mongolian-to-English translations to the highest possible standard, ensuring they are not only flawlessly accurate in conveying the original meaning but also read as if originally written in English by a highly articulate native speaker.  **Accuracy of meaning is your absolute, non-negotiable priority.**  Naturalness and stylistic polish are crucial, but they must *never* come at the expense of even the slightest deviation from the source text's intended message.\n",
    "\n",
    "**Your Rigorous and Meaning-Focused Translation Improvement Process:**\n",
    "\n",
    "1. **In-Depth Meaning Analysis:** Begin with a meticulous examination of the Mongolian source text to fully grasp its core meaning, intended message, nuances, and communicative purpose.  Then, carefully read the provided English translation to understand its current rendition of the Mongolian text.\n",
    "2. **Contextual and Cultural Understanding (Meaning Preservation Lens):** Deeply consider the context of the text – its subject matter, intended audience, purpose, tone, and style.  Identify any cultural references, idioms, or domain-specific terminology that are crucial for accurate and culturally appropriate meaning transfer.  Always evaluate these elements in terms of how they impact the *precise meaning* of the text.\n",
    "3. **Critical Accuracy and Fluency Evaluation (Meaning as the Benchmark):**  Objectively assess the provided English translation, with a laser focus on meaning accuracy and then fluency.  Pinpoint specific weaknesses, categorized as follows:\n",
    "    * **Meaning Accuracy Errors:** Identify any instances where the English translation *distorts, misrepresents, or omits* any aspect of the original Mongolian meaning.  This is the most critical category.\n",
    "    * **Fluency and Naturalness Deficiencies (Meaning-Neutral Issues):**  Only *after* ensuring meaning accuracy, identify areas where the English phrasing sounds awkward, unnatural, or non-idiomatic *without* changing the underlying meaning.\n",
    "    * **Assign a Quality Score (Meaning-Centric Scale 0.0 - 1.0):** Assign a quality score from 0.0 (meaning significantly distorted or lost) to 1.0 (meaning perfectly preserved and naturally expressed).  **Meaning accuracy should heavily weight this score.** Fluency contributes, but only secondarily to meaning.\n",
    "\n",
    "4. **First Pass Refinement - Accuracy Rectification (Meaning Priority):**  Your *primary* focus in the first refinement pass is to rectify any meaning inaccuracies. Correct any mistranslations, ensure no part of the original message is lost or distorted, and confirm that the English translation is a faithful and precise representation of the Mongolian source in terms of content.\n",
    "5. **Stylistic Enhancement - Naturalness within Meaning Boundaries:**  *Once meaning accuracy is fully secured,* enhance the style of the translation to improve its naturalness and flow in English.  Restructure sentences, refine word choices, and adjust phrasing to make the text read more smoothly and idiomatically, *but only make changes that do not introduce any alteration to the established, accurate meaning.*\n",
    "6. **Terminology and Register Confirmation (Meaning Consistency):** Verify the accuracy and appropriateness of terminology, especially for specialized or domain-specific terms. Ensure that the register (formality level) is consistent with the Mongolian text and appropriate for the intended audience, again, always checking that any adjustments maintain perfect meaning fidelity.\n",
    "7. **Second Pass Refinement - Native Speaker Polish (Prioritize Naturalness *WITHOUT Meaning Divergence*):** This is the final polishing stage. Your *sole focus* here is to make the translation sound completely natural and idiomatic to a native English speaker, **but ONLY if it absolutely preserves the original Mongolian meaning.**  **Meaning accuracy is paramount and must NOT be compromised for the sake of sounding \"native.\"**\n",
    "\n",
    "    *   **Identify Remaining Subtle Awkwardness (Without Altering Meaning):** Review your *first refined translation*.  Look for any phrases or word choices that, while accurate, still sound slightly \"translated\" or less natural *to a native English ear, but ONLY consider changes that do NOT in any way shift the original meaning.*\n",
    "    *   **Naturalize Phrasing (Meaning-Preserving Idioms and Word Choice):**  Replace any slightly awkward phrasing with more natural English idioms, expressions, and word choices **that express the *exact same meaning* as the Mongolian original and your first refined translation.**  Do *not* introduce new interpretations or embellishments.\n",
    "    *   **Optimize Flow and Rhythm (Without Semantic Change):** Fine-tune sentence structure and word order purely for improved flow and rhythm in English, **making absolutely sure these changes do not alter the original message in any way.**\n",
    "    *   **Cultural Nuance Check (Meaning-Consistent Adaptation):** Re-examine for cultural nuances. Ensure the translation is culturally appropriate for an English-speaking audience, **but only make adjustments that maintain the precise meaning and intent of the Mongolian source.**\n",
    "\n",
    "    **CRITICAL WARNING:**  **Do NOT make any changes in this second pass that could even slightly alter the original meaning of the Mongolian text. If a change for \"authenticity\" risks any semantic shift, however small, DO NOT make that change. Accuracy of meaning is non-negotiable and takes precedence over purely stylistic improvements in this final step.**  The goal is native-level *naturalness* within the *confines of perfect meaning preservation*.\n",
    "\n",
    "**Response Format:**\n",
    "\n",
    "For the Mongolian text and its initial English translation provided below, meticulously perform the evaluation and improvement process detailed above.  Present your response in the following structured format:\n",
    "\n",
    "    <reasoning>\n",
    "    1. **Overall Meaning and Context:** ... (Explain your comprehensive understanding of the Mongolian text's core message, context, and purpose)\n",
    "    2. **Initial Translation Evaluation & Meaning-Centric Quality Score:** ... (Critically assess the provided English translation, specifically identifying meaning accuracy errors and fluency/naturalness issues. Assign a quality score from 0.0 to 1.0, justifying it based on meaning accuracy and fluency, with meaning accuracy being the dominant factor)\n",
    "    3. **Key Meaning-Related Challenges:** ... (Highlight the most significant translation challenges you encountered in maintaining perfect meaning fidelity for this specific text)\n",
    "    4. **Translation Choices (First Refinement - Meaning Accuracy Focus):** ... (Detail your key decisions and changes during the first refinement pass, explicitly focusing on how you rectified meaning inaccuracies and ensured precise meaning transfer)\n",
    "    5. **Stylistic Enhancement Details (Meaning-Preserving):** ... (Describe the stylistic improvements you implemented to enhance flow, tone, and readability, *while strictly maintaining the established accurate meaning* from the first refinement)\n",
    "    6. **Terminology & Register Confirmation Notes (Meaning Integrity):** ... (Document any terminology research or register considerations, explicitly stating how these choices reinforce meaning accuracy and cultural appropriateness)\n",
    "    7. **Second Pass Refinement - Native Speaker Polish for Naturalness (Meaning Unchanged):**\n",
    "        *   **Identified Remaining Awkwardness (Meaning-Neutral):** ... (Pinpoint specific phrases or sentences from your *first refined translation* that still sound unnatural or \"translated\" *without any meaning alteration*)\n",
    "        *   **Proposed Authentic English Alternatives (Meaning-Equivalent):** ... (Present your improved, more native-sounding English phrasings, emphasizing that they convey the *exact same meaning*)\n",
    "        *   **Justification for Naturalness Enhancements (Meaning Preservation Rationale):** ... (Explain *why* these changes enhance naturalness and idiomaticity for a native English speaker, *reiterating that meaning accuracy remains completely unchanged*)\n",
    "    </reasoning>\n",
    "\n",
    "    <initial_answer>\n",
    "    ... (Your first refined English translation - rigorously ensuring meaning accuracy)\n",
    "    </initial_answer>\n",
    "\n",
    "    <final_answer>\n",
    "    ... (Your final, highly polished and authentically natural English translation, with absolutely no compromise on original meaning)\n",
    "    </final_answer>\n",
    "\n",
    "    <output>\n",
    "    **Important: Ensure the `<output>` section contains *only* valid JSON and is *not* enclosed in markdown code blocks (like ```json or ```).**\n",
    "    ```json\n",
    "    {{\n",
    "      \"quality_score\": (Your assigned quality score for the *initial* English translation, e.g., 0.6),\n",
    "      \"initial_english_translation\": \"... (Your first refined English translation - meaning-accurate)\",\n",
    "      \"final_english_translation\": \"... (Your final, authentic English translation - meaning-preserving and natural)\"\n",
    "    }}\n",
    "    ```\n",
    "    </output>\n",
    "\n",
    "**Mongolian Text:** {translation_pair[0]}\n",
    "\n",
    "**English Translation:** {translation_pair[1]}\n",
    "\"\"\"\n",
    "\n",
    "\n",
    "response = hello_lmstudio_call(system_promtp=system_prompt, user_prompt=task_prompt)\n",
    "\n",
    "response"
   ]
  },
  {
   "cell_type": "code",
   "execution_count": null,
   "id": "276f62ad-344d-463f-9856-48dfe1634eba",
   "metadata": {},
   "outputs": [
    {
     "data": {
      "text/plain": [
       "{'reasoning': '1. **Overall Meaning and Context:** The Mongolian text discusses a specific service provided by the Employment Service Center within the framework of a particular program. It mentions offering social work services to people aged, compensating them for the work they do in this context. This indicates that the program aims to support senior citizens through employment-related services.\\n\\n    2. **Initial Translation Evaluation & Meaning-Centric Quality Score:** The provided English translation seems partially accurate but lacks precision and clarity regarding the compensation aspect and the scope of social work services being offered. Based on a rigorous evaluation focusing on meaning accuracy, I would assign an initial quality score of 0.4. The translation has some significant errors, particularly with regards to conveying that compensation is paid for work done in the context of social services.\\n\\n    3. **Key Meaning-Related Challenges:** One major challenge is accurately conveying that the compensation is for the work done within the scope of social services, which may not be immediately clear from the initial translation. Another challenge lies in maintaining the precise meaning and context of the Mongolian original without introducing any deviation.\\n\\n    4. **Translation Choices (First Refinement - Meaning Accuracy Focus):** To rectify these issues in the first refinement pass, I would change \"Within the framework of the program\" to a more accurate representation like \"Under the umbrella of this program\" or something similar that maintains the original meaning without adding ambiguity. Also, \"will be paid compensation\" could be refined as \"will receive payment for their work,\" ensuring clarity on the type of compensation.\\n\\n    5. **Stylistic Enhancement Details (Meaning-Preserving):** In refining the translation for naturalness and readability while preserving the accurate meaning, I would consider rephrasing parts to make it more idiomatic in English. For example, instead of \"social work services,\" one might choose a phrase like \"community service initiatives\" or simply \"social services.\" This adjustment maintains the original message but improves clarity and flow.\\n\\n    6. **Terminology & Register Confirmation Notes (Meaning Integrity):** Considering the context and purpose of the text, I would ensure that any terminology used is accurate for this specific domain. For instance, if referring to a specific type of service or program within employment services, it\\'s crucial to use appropriate, precise terms.\\n\\n    7. **Second Pass Refinement - Native Speaker Polish for Naturalness (Meaning Unchanged):**\\n        *   **Identified Remaining Awkwardness (Meaning-Neutral):** Phrases like \"those aged\" could be rephrased as \"seniors\" or \"older individuals\" to improve naturalness.\\n        *   **Proposed Authentic English Alternatives (Meaning-Equivalent):** For instance, instead of \"Within the framework of this program,\" a more idiomatic phrase would be \"As part of this initiative.\" Similarly, \"social work services\" could become \"community outreach programs.\"\\n        *   **Justification for Naturalness Enhancements (Meaning Preservation Rationale):** These changes enhance the natural flow and idiomaticity of the English translation without altering the original meaning or context. They are chosen to improve readability and understandability while maintaining fidelity to the Mongolian source.',\n",
       " 'initial_answer': 'Within the framework of this program, the Employment Service Center will offer social work services to seniors (or those aged) and will receive payment for their work done in providing these community service initiatives.',\n",
       " 'final_answer': 'As part of this initiative, the Employment Service Center delivers community outreach programs for older individuals and compensates them for their work in this area.',\n",
       " 'output': '{\\n  \"quality_score\": 0.8,\\n  \"initial_english_translation\": \"Within the framework of the program, the Employment Service Center will offer social work services to those aged and will be paid compensation.\",\\n  \"final_english_translation\": \"As part of this initiative, the Employment Service Center delivers community outreach programs for older individuals and compensates them for their work in this area.\"\\n}'}"
      ]
     },
     "execution_count": 5,
     "metadata": {},
     "output_type": "execute_result"
    }
   ],
   "source": [
    "#%%\n",
    "\n",
    "def extract_content(response_text):\n",
    "    content = {}\n",
    "    reasoning_pattern      = r\"<reasoning>(.*?)</reasoning>\"\n",
    "    initial_answer_pattern = r\"<initial_answer>(.*?)</initial_answer>\"\n",
    "    final_answer_pattern   = r\"<final_answer>(.*?)</final_answer>\"\n",
    "    output_pattern         = r\"<output>(.*?)</output>\"\n",
    "    content[\"reasoning\"     ] = re.search(reasoning_pattern, response_text, re.DOTALL).group(1).strip() if re.search(reasoning_pattern, response_text, re.DOTALL) else None\n",
    "    content[\"initial_answer\"] = re.search(initial_answer_pattern, response_text, re.DOTALL).group(1).strip() if re.search(initial_answer_pattern, response_text, re.DOTALL) else None\n",
    "    content[\"final_answer\"  ] = re.search(final_answer_pattern, response_text, re.DOTALL).group(1).strip() if re.search(final_answer_pattern, response_text, re.DOTALL) else None\n",
    "    content[\"output\"        ] = re.search(output_pattern, response_text, re.DOTALL).group(1).strip() if re.search(output_pattern, response_text, re.DOTALL) else None\n",
    "    return content\n",
    "\n",
    "response_json = extract_content(response_text=response)\n",
    "response_json"
   ]
  },
  {
   "cell_type": "code",
   "execution_count": null,
   "id": "5f627c16-a34a-4ab1-8d59-094074b7a053",
   "metadata": {},
   "outputs": [
    {
     "name": "stdout",
     "output_type": "stream",
     "text": [
      "1. **Overall Meaning and Context:** The Mongolian text discusses a specific service provided by the Employment Service Center within the framework of a particular program. It mentions offering social work services to people aged, compensating them for the work they do in this context. This indicates that the program aims to support senior citizens through employment-related services.\n",
      "\n",
      "    2. **Initial Translation Evaluation & Meaning-Centric Quality Score:** The provided English translation seems partially accurate but lacks precision and clarity regarding the compensation aspect and the scope of social work services being offered. Based on a rigorous evaluation focusing on meaning accuracy, I would assign an initial quality score of 0.4. The translation has some significant errors, particularly with regards to conveying that compensation is paid for work done in the context of social services.\n",
      "\n",
      "    3. **Key Meaning-Related Challenges:** One major challenge is accurately conveying that the compensation is for the work done within the scope of social services, which may not be immediately clear from the initial translation. Another challenge lies in maintaining the precise meaning and context of the Mongolian original without introducing any deviation.\n",
      "\n",
      "    4. **Translation Choices (First Refinement - Meaning Accuracy Focus):** To rectify these issues in the first refinement pass, I would change \"Within the framework of the program\" to a more accurate representation like \"Under the umbrella of this program\" or something similar that maintains the original meaning without adding ambiguity. Also, \"will be paid compensation\" could be refined as \"will receive payment for their work,\" ensuring clarity on the type of compensation.\n",
      "\n",
      "    5. **Stylistic Enhancement Details (Meaning-Preserving):** In refining the translation for naturalness and readability while preserving the accurate meaning, I would consider rephrasing parts to make it more idiomatic in English. For example, instead of \"social work services,\" one might choose a phrase like \"community service initiatives\" or simply \"social services.\" This adjustment maintains the original message but improves clarity and flow.\n",
      "\n",
      "    6. **Terminology & Register Confirmation Notes (Meaning Integrity):** Considering the context and purpose of the text, I would ensure that any terminology used is accurate for this specific domain. For instance, if referring to a specific type of service or program within employment services, it's crucial to use appropriate, precise terms.\n",
      "\n",
      "    7. **Second Pass Refinement - Native Speaker Polish for Naturalness (Meaning Unchanged):**\n",
      "        *   **Identified Remaining Awkwardness (Meaning-Neutral):** Phrases like \"those aged\" could be rephrased as \"seniors\" or \"older individuals\" to improve naturalness.\n",
      "        *   **Proposed Authentic English Alternatives (Meaning-Equivalent):** For instance, instead of \"Within the framework of this program,\" a more idiomatic phrase would be \"As part of this initiative.\" Similarly, \"social work services\" could become \"community outreach programs.\"\n",
      "        *   **Justification for Naturalness Enhancements (Meaning Preservation Rationale):** These changes enhance the natural flow and idiomaticity of the English translation without altering the original meaning or context. They are chosen to improve readability and understandability while maintaining fidelity to the Mongolian source.\n"
     ]
    }
   ],
   "source": [
    "#%%\n",
    "\n",
    "print(response_json['reasoning'])"
   ]
  },
  {
   "cell_type": "code",
   "execution_count": null,
   "id": "65ee4c1d-c3f2-4bf8-a669-41130166c644",
   "metadata": {},
   "outputs": [
    {
     "name": "stdout",
     "output_type": "stream",
     "text": [
      "Within the framework of this program, the Employment Service Center will offer social work services to seniors (or those aged) and will receive payment for their work done in providing these community service initiatives.\n"
     ]
    }
   ],
   "source": [
    "#%%\n",
    "\n",
    "print(response_json['initial_answer'])"
   ]
  },
  {
   "cell_type": "code",
   "execution_count": null,
   "id": "5c6c4803-de3e-4176-bcfa-e36da9d6ecea",
   "metadata": {},
   "outputs": [
    {
     "name": "stdout",
     "output_type": "stream",
     "text": [
      "As part of this initiative, the Employment Service Center delivers community outreach programs for older individuals and compensates them for their work in this area.\n"
     ]
    }
   ],
   "source": [
    "#%%\n",
    "\n",
    "print(response_json['final_answer'])"
   ]
  },
  {
   "cell_type": "code",
   "execution_count": null,
   "id": "d0ca87ee-4e36-41e7-aa2c-69728b5e4afe",
   "metadata": {},
   "outputs": [
    {
     "name": "stdout",
     "output_type": "stream",
     "text": [
      "{\n",
      "  \"quality_score\": 0.8,\n",
      "  \"initial_english_translation\": \"Within the framework of the program, the Employment Service Center will offer social work services to those aged and will be paid compensation.\",\n",
      "  \"final_english_translation\": \"As part of this initiative, the Employment Service Center delivers community outreach programs for older individuals and compensates them for their work in this area.\"\n",
      "}\n"
     ]
    }
   ],
   "source": [
    "#%%\n",
    "\n",
    "print(response_json['output'])"
   ]
  },
  {
   "cell_type": "code",
   "execution_count": null,
   "id": "f8246874-ae96-4cdb-b256-f88a39052943",
   "metadata": {},
   "outputs": [
    {
     "name": "stdout",
     "output_type": "stream",
     "text": [
      "### Translation Pair ###\n",
      "Mongolian : Хөтөлбөрийн хүрээнд энэ насны иргэдэд Хөдөлмөр эрхлэлтийн үйлчилгээний төвөөс нийгмийн үйлчилгээний чиглэлээр ажил санал болгож, хийсэн ажилд нь хөлс урамшуулал олгох аж\n",
      "English   : Within the framework of the program, the Employment Service Center will offer social work services to those aged and will be paid compensation.\n",
      "### Evalution and improvements ###\n",
      "quality score : 0.8\n",
      "former        : Within the framework of the program, the Employment Service Center will offer social work services to those aged and will be paid compensation.\n",
      "improved      : As part of this initiative, the Employment Service Center delivers community outreach programs for older individuals and compensates them for their work in this area.\n"
     ]
    }
   ],
   "source": [
    "#%%\n",
    "\n",
    "output_json = json.loads(response_json['output'])\n",
    "\n",
    "print(\"### Translation Pair ###\")\n",
    "print(f\"Mongolian : {translation_pair[0]}\")\n",
    "print(f\"English   : {translation_pair[1]}\")\n",
    "\n",
    "print(f\"### Evalution and improvements ###\")\n",
    "print(f\"quality score : {output_json['quality_score']}\")\n",
    "print(f\"former        : {output_json['initial_english_translation']}\")\n",
    "print(f\"improved      : {output_json['final_english_translation']}\")"
   ]
  }
 ],
 "metadata": {
  "language_info": {
   "codemirror_mode": {
    "name": "ipython",
    "version": 3
   },
   "file_extension": ".py",
   "mimetype": "text/x-python",
   "name": "python",
   "nbconvert_exporter": "python",
   "pygments_lexer": "ipython3",
   "version": 3
  }
 },
 "nbformat": 4,
 "nbformat_minor": 2
}
