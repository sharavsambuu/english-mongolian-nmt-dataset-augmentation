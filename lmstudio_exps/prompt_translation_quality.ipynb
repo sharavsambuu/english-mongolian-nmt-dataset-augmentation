{
 "cells": [
  {
   "cell_type": "code",
   "execution_count": null,
   "id": "576177be-7f09-497f-9e2b-7e1cd968436e",
   "metadata": {},
   "outputs": [],
   "source": [
    "#%%\n",
    "\n",
    "# Run lmstudio\n",
    "# Local Server -> Start Server\n",
    "#\n",
    "# Make sure to load the llama 3.1 in the Chat\n",
    "#"
   ]
  },
  {
   "cell_type": "code",
   "execution_count": null,
   "id": "7f4e537d-6e01-45e4-b70a-608914ec3ec3",
   "metadata": {},
   "outputs": [],
   "source": [
    "#%%\n",
    "\n",
    "import requests\n",
    "import json\n",
    "import re"
   ]
  },
  {
   "cell_type": "code",
   "execution_count": null,
   "id": "f1ad6349-cd8f-4da1-95ae-75ff951425d0",
   "metadata": {},
   "outputs": [],
   "source": [
    "#%%\n",
    "\n",
    "def hello_lmstudio_call(system_promtp=\"\", user_prompt=\"'\"):\n",
    "    url = 'http://localhost:1234/v1/chat/completions'\n",
    "    headers = {\n",
    "        'Content-Type': \"application/json\"\n",
    "    }\n",
    "    data = {\n",
    "        \"model\": \"lmstudio-community/Meta-Llama-3.1-8B-Instruct-GGUF\",\n",
    "        'messages': [\n",
    "            {'role': 'system', 'content': f\"{system_promtp}\"},\n",
    "            {'role': 'user'  , 'content': f\"{user_prompt}\"}\n",
    "        ],\n",
    "        \"temperature\" : 0.8,\n",
    "        \"max_tokens\"  : -1,\n",
    "        \"stream\"      : False\n",
    "    }\n",
    "    response = requests.post(url, headers=headers, data=json.dumps(data))\n",
    "    if response.status_code == 200:\n",
    "        try:\n",
    "            return response.json()['choices'][0]['message']['content']\n",
    "        except Exception as e:\n",
    "            return None\n",
    "    else:\n",
    "        print(f\"failed to get response : {response.status_code}, {response.text}\")\n",
    "        return None"
   ]
  },
  {
   "cell_type": "code",
   "execution_count": null,
   "id": "7adaea93-023e-4d32-8944-9af0df16d819",
   "metadata": {},
   "outputs": [
    {
     "data": {
      "text/plain": [
       "'<reasoning>\\n1. **Overall Meaning and Context:** This text is about a job opportunity for people aged within the framework of a specific program called Хөтөлбөрийн хүрээнд (within the framework of the program). The purpose of this announcement is to inform eligible individuals that they can apply for employment services provided by Хөдөлмөр эрхлэлтийн үйлчилгээний төвөөс (the Employment Service Center) and receive compensation for the work performed.\\n2. **Initial Translation Evaluation & Quality Score:** The initial translation has some inaccuracies and awkward phrasing, which affects its overall quality score of 0.6. Specifically, it lacks clarity regarding who is eligible and what services are being offered. Furthermore, \"will be paid compensation\" could be interpreted as the center paying the individuals directly for their work.\\n3. **Key Challenges:** The biggest challenges in this text include accurately conveying the program\\'s framework and scope of employment services provided by the Employment Service Center. Additionally, determining whether the compensation is meant to incentivize or reward the participants poses a challenge.\\n4. **Translation Choices (First Refinement):** To address these issues, I refined the translation as follows: The job service center will offer community-based work opportunities for people aged within the framework of this program and compensate them for their work performed.\\n5. **Stylistic Enhancement Details:** For clarity, I restructured the sentence to separate the eligibility criteria from the services offered by the Employment Service Center. Furthermore, I used more natural phrasing in English to make it easier to understand.\\n6. **Terminology & Register Notes:** No specific terminology research or register considerations are necessary for this text.\\n7. **Second Pass Refinement - Native Speaker Authenticity Focus:**\\n    *   **Identified Unnatural/Awkward Elements:** The phrase \"within the framework of the program\" still sounds somewhat formal and awkward, as does the structure of the sentence.\\n    *   **Proposed Authentic English Alternatives:** To make it sound more natural in English, I suggest rephrasing the translation to: \"People aged are invited to participate in community-based work opportunities through this program. They will be compensated for their work.\"\\n    *   **Justification for Authenticity Improvements:** Using a more conversational tone and separating the eligibility criteria from the services offered makes the text sound more idiomatic and natural for an English-speaking audience.\\n</reasoning>\\n\\n<initial_answer>\\nThe job service center will offer community-based work opportunities for people aged within the framework of this program and compensate them for their work performed.\\n\\n</initial_answer>\\n\\n<final_answer>\\nPeople aged are invited to participate in community-based work opportunities through this program. They will be compensated for their work.\\n\\n</final_answer>\\n\\n<output>\\n{\\n  \"quality_score\": 0.6,\\n  \"initial_english_translation\": \"The job service center will offer community-based work opportunities for people aged within the framework of this program and compensate them for their work performed.\",\\n  \"final_english_translation\": \"People aged are invited to participate in community-based work opportunities through this program. They will be compensated for their work.\"\\n}\\n</output>'"
      ]
     },
     "execution_count": 4,
     "metadata": {},
     "output_type": "execute_result"
    }
   ],
   "source": [
    "#%%\n",
    "\n",
    "system_prompt = \"\"\"\n",
    "You are a knowledgeable, efficient, and direct Al assistant. \n",
    "You are also fluent in English and Mongolian languages.\n",
    "\"\"\"\n",
    "\n",
    "translation_pair = [\n",
    "    \"Хөтөлбөрийн хүрээнд энэ насны иргэдэд Хөдөлмөр эрхлэлтийн үйлчилгээний төвөөс нийгмийн үйлчилгээний чиглэлээр ажил санал болгож, хийсэн ажилд нь хөлс урамшуулал олгох аж\",\n",
    "    \"Within the framework of the program, the Employment Service Center will offer social work services to those aged and will be paid compensation.\"\n",
    "]\n",
    "\n",
    "task_prompt = f\"\"\"\n",
    "You are a world-class Mongolian to English translator, renowned for your ability to refine and elevate existing translations. Your expertise is not just in accuracy, but in crafting English that is indistinguishable from text originally written by a native speaker. You possess an exceptional command of both Mongolian and English, including subtle nuances, cultural contexts, idioms, and stylistic preferences. Your goal is to transform potentially awkward or literal translations into polished, natural, and impactful English while preserving the original meaning and intent.\n",
    "\n",
    "**Your Translation Improvement Process (Meticulous and Iterative):**\n",
    "\n",
    "1. **Deep Dive Comprehension:** Begin by thoroughly analyzing both the Mongolian source text and the provided English translation. Understand the core message, the intended audience, the purpose of the text, and its overall context. Identify the tone and style.\n",
    "2. **Contextual Nuance Analysis:** Immerse yourself in the context. What is the subject matter? Is it formal, informal, technical, literary, etc.? Identify any cultural references, specific domain terminology, or idiomatic expressions that require special attention for culturally appropriate and accurate translation.\n",
    "3. **Initial Quality Assessment (Honest and Critical):**  Objectively evaluate the given English translation. Identify specific weaknesses:\n",
    "    * **Accuracy Issues:** Are there any mistranslations or distortions of the original meaning?\n",
    "    * **Awkward Phrasing:** Does any part sound unnatural, clunky, or not idiomatic in English?\n",
    "    * **Fluency Problems:** Does the text flow smoothly? Are there unnatural sentence structures or word choices that impede readability?\n",
    "    * **Tone and Style Mismatch:** Does the translation maintain the intended tone and style of the original Mongolian text?\n",
    "    * **Assign a Quality Score (0.0 - 1.0):**  Based on your assessment, assign a quality score from 0.0 (very poor) to 1.0 (excellent, near-perfect). Consider accuracy, fluency, naturalness, and style in your score.\n",
    "4. **First Pass Refinement (Precision and Clarity):**  Refine the English translation focusing on accuracy and clarity. Correct any factual errors or mistranslations. Improve grammatical correctness and ensure precise word choices that accurately reflect the Mongolian meaning. Enhance clarity and eliminate any ambiguity.\n",
    "5. **Stylistic Enhancement (Natural Flow and Tone):**  Elevate the style to ensure natural flow and appropriate tone. Restructure sentences if needed for better readability in English. Choose vocabulary and phrasing that aligns with the intended style and target audience, ensuring consistency throughout the text.\n",
    "6. **Terminology and Register Verification:** If the text contains specialized terms or jargon, rigorously verify their accuracy and appropriateness in English. Consult dictionaries, glossaries, domain experts, or online resources to confirm the best terminology. Ensure the register (formal/informal) is consistently maintained.\n",
    "7. **Second Pass Refinement - Native Speaker Authenticity (Idiomaticity and Nuance):** This is crucial for achieving a truly polished translation.  Read your refined translation as if you were a native English speaker encountering this text for the first time.  Focus on:\n",
    "    * **Idiomaticity:** Replace any literal translations with natural English idioms and expressions.\n",
    "    * **Natural Word Choice:** Substitute any words or phrases that sound slightly \"translated\" with more common and natural English equivalents a native speaker would instinctively use.\n",
    "    * **Sentence Rhythm and Flow:** Fine-tune sentence structure and word order for optimal rhythm and flow in English. Ensure the text reads smoothly and sounds pleasing to a native English ear.\n",
    "    * **Cultural Appropriateness:** Double-check for cultural nuances and ensure the translation resonates appropriately with an English-speaking audience, avoiding any unintended cultural misunderstandings.\n",
    "\n",
    "**Important Constraint:** While improving naturalness and fluency, **never significantly divert from the original meaning** of the Mongolian text. Your primary goal is to enhance the *quality* of the translation, not to rewrite or reinterpret the source text.\n",
    "\n",
    "**Response Format:**\n",
    "\n",
    "For the Mongolian text and its initial English translation provided below, please perform the evaluation and improvement process described above. Present your response in the following format:\n",
    "\n",
    "    <reasoning>\n",
    "    1. **Overall Meaning and Context:** ... (Explain your understanding of the text's topic, purpose, and context)\n",
    "    2. **Initial Translation Evaluation & Quality Score:** ... (Critically assess the provided English translation, identify specific weaknesses and assign a quality score from 0.0 to 1.0 with justification)\n",
    "    3. **Key Challenges:** ... (Highlight the most significant translation challenges you faced in this specific text)\n",
    "    4. **Translation Choices (First Refinement):** ... (Explain your key decisions and changes during the first refinement pass, focusing on accuracy and clarity improvements)\n",
    "    5. **Stylistic Enhancement Details:** ... (Describe the stylistic improvements you made to enhance flow, tone, and readability during the first refinement)\n",
    "    6. **Terminology & Register Notes:** ... (Mention any terminology research or register considerations, if applicable)\n",
    "    7. **Second Pass Refinement - Native Speaker Authenticity Focus:**\n",
    "        *   **Identified Unnatural/Awkward Elements:** ... (Pinpoint specific phrases or sentences from your *first refined translation* that still sound unnatural or \"translated\")\n",
    "        *   **Proposed Authentic English Alternatives:** ... (Present your improved, more native-sounding English phrasings)\n",
    "        *   **Justification for Authenticity Improvements:** ... (Explain *why* these changes make the translation sound more natural, idiomatic, and authentic to a native English speaker)\n",
    "    </reasoning>\n",
    "\n",
    "    <initial_answer>\n",
    "    ... (Your first refined English translation - focusing on accuracy and clarity)\n",
    "    </initial_answer>\n",
    "\n",
    "    <final_answer>\n",
    "    ... (Your final, highly polished and authentic English translation after the second pass of refinement)\n",
    "    </final_answer>\n",
    "\n",
    "    <output>\n",
    "    **Important: Ensure the `<output>` section contains *only* valid JSON and is *not* enclosed in markdown code blocks (like ```json or ```).**\n",
    "    ```json\n",
    "    {{\n",
    "      \"quality_score\": (Your assigned quality score for the *initial* English translation, e.g., 0.6),\n",
    "      \"initial_english_translation\": \"... (Your first refined English translation)\",\n",
    "      \"final_english_translation\": \"... (Your final, authentic English translation)\"\n",
    "    }}\n",
    "    ```\n",
    "    </output>\n",
    "\n",
    "**Mongolian Text:** {translation_pair[0]}\n",
    "\n",
    "**English Translation:** {translation_pair[1]}\n",
    "\"\"\"\n",
    "\n",
    "\n",
    "response = hello_lmstudio_call(system_promtp=system_prompt, user_prompt=task_prompt)\n",
    "\n",
    "response"
   ]
  },
  {
   "cell_type": "code",
   "execution_count": null,
   "id": "469817a5-f136-41c4-80e9-2853fbcedfac",
   "metadata": {},
   "outputs": [
    {
     "data": {
      "text/plain": [
       "{'reasoning': '1. **Overall Meaning and Context:** This text is about a job opportunity for people aged within the framework of a specific program called Хөтөлбөрийн хүрээнд (within the framework of the program). The purpose of this announcement is to inform eligible individuals that they can apply for employment services provided by Хөдөлмөр эрхлэлтийн үйлчилгээний төвөөс (the Employment Service Center) and receive compensation for the work performed.\\n2. **Initial Translation Evaluation & Quality Score:** The initial translation has some inaccuracies and awkward phrasing, which affects its overall quality score of 0.6. Specifically, it lacks clarity regarding who is eligible and what services are being offered. Furthermore, \"will be paid compensation\" could be interpreted as the center paying the individuals directly for their work.\\n3. **Key Challenges:** The biggest challenges in this text include accurately conveying the program\\'s framework and scope of employment services provided by the Employment Service Center. Additionally, determining whether the compensation is meant to incentivize or reward the participants poses a challenge.\\n4. **Translation Choices (First Refinement):** To address these issues, I refined the translation as follows: The job service center will offer community-based work opportunities for people aged within the framework of this program and compensate them for their work performed.\\n5. **Stylistic Enhancement Details:** For clarity, I restructured the sentence to separate the eligibility criteria from the services offered by the Employment Service Center. Furthermore, I used more natural phrasing in English to make it easier to understand.\\n6. **Terminology & Register Notes:** No specific terminology research or register considerations are necessary for this text.\\n7. **Second Pass Refinement - Native Speaker Authenticity Focus:**\\n    *   **Identified Unnatural/Awkward Elements:** The phrase \"within the framework of the program\" still sounds somewhat formal and awkward, as does the structure of the sentence.\\n    *   **Proposed Authentic English Alternatives:** To make it sound more natural in English, I suggest rephrasing the translation to: \"People aged are invited to participate in community-based work opportunities through this program. They will be compensated for their work.\"\\n    *   **Justification for Authenticity Improvements:** Using a more conversational tone and separating the eligibility criteria from the services offered makes the text sound more idiomatic and natural for an English-speaking audience.',\n",
       " 'initial_answer': 'The job service center will offer community-based work opportunities for people aged within the framework of this program and compensate them for their work performed.',\n",
       " 'final_answer': 'People aged are invited to participate in community-based work opportunities through this program. They will be compensated for their work.',\n",
       " 'output': '{\\n  \"quality_score\": 0.6,\\n  \"initial_english_translation\": \"The job service center will offer community-based work opportunities for people aged within the framework of this program and compensate them for their work performed.\",\\n  \"final_english_translation\": \"People aged are invited to participate in community-based work opportunities through this program. They will be compensated for their work.\"\\n}'}"
      ]
     },
     "execution_count": 5,
     "metadata": {},
     "output_type": "execute_result"
    }
   ],
   "source": [
    "#%%\n",
    "\n",
    "def extract_content(response_text):\n",
    "    content = {}\n",
    "    reasoning_pattern      = r\"<reasoning>(.*?)</reasoning>\"\n",
    "    initial_answer_pattern = r\"<initial_answer>(.*?)</initial_answer>\"\n",
    "    final_answer_pattern   = r\"<final_answer>(.*?)</final_answer>\"\n",
    "    output_pattern         = r\"<output>(.*?)</output>\"\n",
    "    content[\"reasoning\"     ] = re.search(reasoning_pattern, response_text, re.DOTALL).group(1).strip() if re.search(reasoning_pattern, response_text, re.DOTALL) else None\n",
    "    content[\"initial_answer\"] = re.search(initial_answer_pattern, response_text, re.DOTALL).group(1).strip() if re.search(initial_answer_pattern, response_text, re.DOTALL) else None\n",
    "    content[\"final_answer\"  ] = re.search(final_answer_pattern, response_text, re.DOTALL).group(1).strip() if re.search(final_answer_pattern, response_text, re.DOTALL) else None\n",
    "    content[\"output\"        ] = re.search(output_pattern, response_text, re.DOTALL).group(1).strip() if re.search(output_pattern, response_text, re.DOTALL) else None\n",
    "    return content\n",
    "\n",
    "response_json = extract_content(response_text=response)\n",
    "response_json"
   ]
  },
  {
   "cell_type": "code",
   "execution_count": null,
   "id": "6689777a-02ab-4f75-b3d1-2161425ed249",
   "metadata": {},
   "outputs": [
    {
     "name": "stdout",
     "output_type": "stream",
     "text": [
      "1. **Overall Meaning and Context:** This text is about a job opportunity for people aged within the framework of a specific program called Хөтөлбөрийн хүрээнд (within the framework of the program). The purpose of this announcement is to inform eligible individuals that they can apply for employment services provided by Хөдөлмөр эрхлэлтийн үйлчилгээний төвөөс (the Employment Service Center) and receive compensation for the work performed.\n",
      "2. **Initial Translation Evaluation & Quality Score:** The initial translation has some inaccuracies and awkward phrasing, which affects its overall quality score of 0.6. Specifically, it lacks clarity regarding who is eligible and what services are being offered. Furthermore, \"will be paid compensation\" could be interpreted as the center paying the individuals directly for their work.\n",
      "3. **Key Challenges:** The biggest challenges in this text include accurately conveying the program's framework and scope of employment services provided by the Employment Service Center. Additionally, determining whether the compensation is meant to incentivize or reward the participants poses a challenge.\n",
      "4. **Translation Choices (First Refinement):** To address these issues, I refined the translation as follows: The job service center will offer community-based work opportunities for people aged within the framework of this program and compensate them for their work performed.\n",
      "5. **Stylistic Enhancement Details:** For clarity, I restructured the sentence to separate the eligibility criteria from the services offered by the Employment Service Center. Furthermore, I used more natural phrasing in English to make it easier to understand.\n",
      "6. **Terminology & Register Notes:** No specific terminology research or register considerations are necessary for this text.\n",
      "7. **Second Pass Refinement - Native Speaker Authenticity Focus:**\n",
      "    *   **Identified Unnatural/Awkward Elements:** The phrase \"within the framework of the program\" still sounds somewhat formal and awkward, as does the structure of the sentence.\n",
      "    *   **Proposed Authentic English Alternatives:** To make it sound more natural in English, I suggest rephrasing the translation to: \"People aged are invited to participate in community-based work opportunities through this program. They will be compensated for their work.\"\n",
      "    *   **Justification for Authenticity Improvements:** Using a more conversational tone and separating the eligibility criteria from the services offered makes the text sound more idiomatic and natural for an English-speaking audience.\n"
     ]
    }
   ],
   "source": [
    "#%%\n",
    "\n",
    "print(response_json['reasoning'])"
   ]
  },
  {
   "cell_type": "code",
   "execution_count": null,
   "id": "87e15694-c06a-4f71-8f04-2479597c5e90",
   "metadata": {},
   "outputs": [
    {
     "name": "stdout",
     "output_type": "stream",
     "text": [
      "The job service center will offer community-based work opportunities for people aged within the framework of this program and compensate them for their work performed.\n"
     ]
    }
   ],
   "source": [
    "#%%\n",
    "\n",
    "print(response_json['initial_answer'])"
   ]
  },
  {
   "cell_type": "code",
   "execution_count": null,
   "id": "c585fd44-11ed-4177-acea-c47cbdf52690",
   "metadata": {},
   "outputs": [
    {
     "name": "stdout",
     "output_type": "stream",
     "text": [
      "People aged are invited to participate in community-based work opportunities through this program. They will be compensated for their work.\n"
     ]
    }
   ],
   "source": [
    "#%%\n",
    "\n",
    "print(response_json['final_answer'])"
   ]
  },
  {
   "cell_type": "code",
   "execution_count": null,
   "id": "12ed5e8f-7785-498c-b297-6decc9b916c8",
   "metadata": {},
   "outputs": [
    {
     "name": "stdout",
     "output_type": "stream",
     "text": [
      "{\n",
      "  \"quality_score\": 0.6,\n",
      "  \"initial_english_translation\": \"The job service center will offer community-based work opportunities for people aged within the framework of this program and compensate them for their work performed.\",\n",
      "  \"final_english_translation\": \"People aged are invited to participate in community-based work opportunities through this program. They will be compensated for their work.\"\n",
      "}\n"
     ]
    }
   ],
   "source": [
    "#%%\n",
    "\n",
    "print(response_json['output'])"
   ]
  },
  {
   "cell_type": "code",
   "execution_count": null,
   "id": "be2250c9-7db1-47e2-94a5-63cb0fb876dd",
   "metadata": {},
   "outputs": [
    {
     "name": "stdout",
     "output_type": "stream",
     "text": [
      "### Translation Pair\n",
      "Mongolian : Хөтөлбөрийн хүрээнд энэ насны иргэдэд Хөдөлмөр эрхлэлтийн үйлчилгээний төвөөс нийгмийн үйлчилгээний чиглэлээр ажил санал болгож, хийсэн ажилд нь хөлс урамшуулал олгох аж\n",
      "English   : Within the framework of the program, the Employment Service Center will offer social work services to those aged and will be paid compensation.\n",
      "### Evalution\n",
      "quality score : 0.6\n",
      "improved      : People aged are invited to participate in community-based work opportunities through this program. They will be compensated for their work.\n"
     ]
    }
   ],
   "source": [
    "#%%\n",
    "\n",
    "output_json = json.loads(response_json['output'])\n",
    "\n",
    "print(\"### Translation Pair\")\n",
    "print(f\"Mongolian : {translation_pair[0]}\")\n",
    "print(f\"English   : {translation_pair[1]}\")\n",
    "\n",
    "print(f\"### Evalution\")\n",
    "print(f\"quality score : {output_json['quality_score']}\")\n",
    "print(f\"improved      : {output_json['final_english_translation']}\")"
   ]
  }
 ],
 "metadata": {
  "language_info": {
   "codemirror_mode": {
    "name": "ipython",
    "version": 3
   },
   "file_extension": ".py",
   "mimetype": "text/x-python",
   "name": "python",
   "nbconvert_exporter": "python",
   "pygments_lexer": "ipython3",
   "version": 3
  }
 },
 "nbformat": 4,
 "nbformat_minor": 2
}
