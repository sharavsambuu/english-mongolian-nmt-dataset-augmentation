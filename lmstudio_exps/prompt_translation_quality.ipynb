{
 "cells": [
  {
   "cell_type": "code",
   "execution_count": null,
   "id": "d4d851ab-a929-4328-ba34-9d86ae102d9e",
   "metadata": {},
   "outputs": [],
   "source": [
    "#%%\n",
    "\n",
    "# Run lmstudio\n",
    "# Local Server -> Start Server\n",
    "#\n",
    "# Make sure to load the llama 3.1 in the Chat\n",
    "#"
   ]
  },
  {
   "cell_type": "code",
   "execution_count": null,
   "id": "454e80ab-0c9c-4aa5-860d-7de6f7df85d7",
   "metadata": {},
   "outputs": [],
   "source": [
    "#%%\n",
    "\n",
    "import requests\n",
    "import json"
   ]
  },
  {
   "cell_type": "code",
   "execution_count": null,
   "id": "582fbf18-354b-4a2f-a6a0-ecd030738db6",
   "metadata": {},
   "outputs": [],
   "source": [
    "#%%\n",
    "\n",
    "def hello_lmstudio_call(system_promtp=\"\", user_prompt=\"'\"):\n",
    "    url = 'http://localhost:1234/v1/chat/completions'\n",
    "    headers = {\n",
    "        'Content-Type': \"application/json\"\n",
    "    }\n",
    "    data = {\n",
    "        \"model\": \"lmstudio-community/Meta-Llama-3.1-8B-Instruct-GGUF\",\n",
    "        'messages': [\n",
    "            {'role': 'system', 'content': f\"{system_promtp}\"},\n",
    "            {'role': 'user'  , 'content': f\"{user_prompt}\"}\n",
    "        ],\n",
    "        \"temperature\" : 0.8,\n",
    "        \"max_tokens\"  : -1,\n",
    "        \"stream\"      : False\n",
    "    }\n",
    "    response = requests.post(url, headers=headers, data=json.dumps(data))\n",
    "    if response.status_code == 200:\n",
    "        try:\n",
    "            return response.json()['choices'][0]['message']['content']\n",
    "        except Exception as e:\n",
    "            return None\n",
    "    else:\n",
    "        print(f\"failed to get response : {response.status_code}, {response.text}\")\n",
    "        return None"
   ]
  },
  {
   "cell_type": "code",
   "execution_count": null,
   "id": "d99fccdf-8d69-4c87-b738-c62837bd1c67",
   "metadata": {},
   "outputs": [],
   "source": [
    "#%%\n",
    "\n",
    "system_prompt = \"\"\"\n",
    "You are a knowledgeable, efficient, and direct Al assistant. \n",
    "You are also fluent in English and Mongolian languages.\n",
    "You are very direct and respond short.\n",
    "\"\"\"\n",
    "\n",
    "translation_pair = [\n",
    "    \"Хөтөлбөрийн хүрээнд энэ насны иргэдэд Хөдөлмөр эрхлэлтийн үйлчилгээний төвөөс нийгмийн үйлчилгээний чиглэлээр ажил санал болгож, хийсэн ажилд нь хөлс урамшуулал олгох аж\",\n",
    "    \"Within the framework of the program, the Employment Service Center will offer social work services to those aged and will be paid compensation.\"\n",
    "]\n",
    "\n",
    "task_prompt = f\"\"\"\n",
    "Instruction:\n",
    "I will provide a Mongolian-to-English translation pair. Your task is to evaluate the quality of the translation on a scale from 0 to 1 and suggest an improved English translation.\n",
    "\n",
    "Response:\n",
    "Please provide the response in JSON format only. Do not include any explanations, additional text, or comments. No additional translation pairs are needed.\n",
    "\n",
    "JSON format:\n",
    "{{\n",
    "  \"quality\": 0.4,\n",
    "  \"suggested_english_translation\": \"bla bla bla... etc\"\n",
    "}}\n",
    "\n",
    "Here is the translation:\n",
    "\n",
    "Mongolian text:\n",
    "\"{translation_pair[0]}\"\n",
    "\n",
    "\n",
    "English translation:\n",
    "\"{translation_pair[1]}\"\n",
    "\"\"\"\n",
    "\n",
    "response = hello_lmstudio_call(system_promtp=system_prompt, user_prompt=task_prompt)"
   ]
  },
  {
   "cell_type": "code",
   "execution_count": null,
   "id": "025bcd3b-2afd-4790-aab2-68b139c3f0d8",
   "metadata": {},
   "outputs": [
    {
     "name": "stdout",
     "output_type": "stream",
     "text": [
      "### Translation Pair\n",
      "Mongolian : Хөтөлбөрийн хүрээнд энэ насны иргэдэд Хөдөлмөр эрхлэлтийн үйлчилгээний төвөөс нийгмийн үйлчилгээний чиглэлээр ажил санал болгож, хийсэн ажилд нь хөлс урамшуулал олгох аж\n",
      "English   : Within the framework of the program, the Employment Service Center will offer social work services to those aged and will be paid compensation.\n",
      "### Evalution\n",
      "quality score : 0.6\n",
      "suggested     : The Employment Service Center offers social services under this program for elderly citizens and provides reimbursement for completed work\n"
     ]
    }
   ],
   "source": [
    "#%%\n",
    "\n",
    "response_json = json.loads(response)\n",
    "\n",
    "print(\"### Translation Pair\")\n",
    "print(f\"Mongolian : {translation_pair[0]}\")\n",
    "print(f\"English   : {translation_pair[1]}\")\n",
    "\n",
    "print(f\"### Evalution\")\n",
    "print(f\"quality score : {response_json['quality']}\")\n",
    "print(f\"suggested     : {response_json['suggested_english_translation']}\")"
   ]
  }
 ],
 "metadata": {
  "language_info": {
   "codemirror_mode": {
    "name": "ipython",
    "version": 3
   },
   "file_extension": ".py",
   "mimetype": "text/x-python",
   "name": "python",
   "nbconvert_exporter": "python",
   "pygments_lexer": "ipython3",
   "version": 3
  }
 },
 "nbformat": 4,
 "nbformat_minor": 2
}
