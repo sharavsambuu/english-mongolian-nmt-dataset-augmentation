{
 "cells": [
  {
   "cell_type": "code",
   "execution_count": null,
   "id": "a1ca0954-e4dc-4f13-9f69-17fd657ac835",
   "metadata": {},
   "outputs": [],
   "source": [
    "#%%\n",
    "\n",
    "# Run lmstudio\n",
    "# Local Server -> Start Server\n",
    "#\n",
    "# Make sure to load the llama 3.1 in the Chat\n",
    "#"
   ]
  },
  {
   "cell_type": "code",
   "execution_count": null,
   "id": "2a38febc-a9c9-41c2-9ec5-2ab9b8342e82",
   "metadata": {},
   "outputs": [],
   "source": [
    "#%%\n",
    "\n",
    "import requests\n",
    "import json\n",
    "import re"
   ]
  },
  {
   "cell_type": "code",
   "execution_count": null,
   "id": "1a914f6f-0885-4ced-98e2-6527a17363b1",
   "metadata": {},
   "outputs": [],
   "source": [
    "#%%\n",
    "\n",
    "def hello_lmstudio_call(system_promtp=\"\", user_prompt=\"'\"):\n",
    "    url = 'http://localhost:1234/v1/chat/completions'\n",
    "    headers = {\n",
    "        'Content-Type': \"application/json\"\n",
    "    }\n",
    "    data = {\n",
    "        \"model\": \"lmstudio-community/Meta-Llama-3.1-8B-Instruct-GGUF\",\n",
    "        'messages': [\n",
    "            {'role': 'system', 'content': f\"{system_promtp}\"},\n",
    "            {'role': 'user'  , 'content': f\"{user_prompt}\"}\n",
    "        ],\n",
    "        \"temperature\" : 0.8,\n",
    "        \"max_tokens\"  : -1,\n",
    "        \"stream\"      : False\n",
    "    }\n",
    "    response = requests.post(url, headers=headers, data=json.dumps(data))\n",
    "    if response.status_code == 200:\n",
    "        try:\n",
    "            return response.json()['choices'][0]['message']['content']\n",
    "        except Exception as e:\n",
    "            return None\n",
    "    else:\n",
    "        print(f\"failed to get response : {response.status_code}, {response.text}\")\n",
    "        return None"
   ]
  },
  {
   "cell_type": "code",
   "execution_count": null,
   "id": "7fc5877a-a9bf-4acd-9739-308503460a9b",
   "metadata": {},
   "outputs": [
    {
     "data": {
      "text/plain": [
       "'<reasoning>\\n1. Overall Meaning and Context: The Mongolian text describes a scenario where older individuals are provided with social work services by an Employment Service Center. The center offers these services within the framework of a program, indicating that this is part of a structured initiative. A key aspect of this context is the provision of compensation for their work. It\\'s essential to note that this translation aims to accurately convey the meaning and purpose behind the original Mongolian text.\\n\\n2. Initial Translation Evaluation & Accuracy-Centric Quality Score: Upon analyzing the initial English translation, we identify several areas where the accuracy could be improved. The translation provided is \"Within the framework of the program, the Employment Service Center will offer social work services to those aged and will be paid compensation.\" However, this translation has some minor issues that affect its overall accuracy.\\n\\n-   Meaning Accuracy Errors: The initial translation focuses on providing social work services to older individuals, but it does not clearly convey the role of the Employment Service Center in offering these services. Additionally, it implies that the compensation is for the older individuals themselves rather than for their contributions or efforts.\\n\\n-   Clarity and Fluency Deficiencies: While the phrase \"within the framework of the program\" helps to establish context, the sentence structure could be improved for clarity. The use of the word \"those aged\" could also be more accurately translated as \"older individuals\" or a similar phrase that better conveys the intended meaning.\\n\\nBased on these observations, we assign an accuracy-centric quality score of 0.6 out of 1.0 to this initial translation.\\n\\n3. Initial Quality Assessment and Refinement: Given the identified errors in the initial English translation, our primary focus is on rectifying any meaning inaccuracies. To address these issues, let\\'s refine the translation to better convey the intended meaning while maintaining accuracy.\\n\\nThe revised translation should accurately reflect the Employment Service Center\\'s role in providing social work services within a program framework and ensure that the compensation is clearly attributed to the efforts or contributions of older individuals.\\n\\n4. Clarity and Readability Enhancement: Once we have ensured the accuracy of our refined translation, the next step involves enhancing its clarity and readability without compromising meaning.\\n\\n5. Terminology and Register Confirmation (Meaning Consistency): We need to verify that the terminology used accurately represents the original Mongolian text\\'s intended meaning. In this case, we should confirm whether \"Employment Service Center\" is an accurate representation of the center\\'s role in providing social work services. This requires careful consideration of the context and purpose behind the translation.\\n\\n6. Backtranslation Meaning Check: To ensure our refined translation aligns perfectly with the original Mongolian text, let\\'s perform a backtranslation check:\\n\\nBacktranslated text:\\nХөтөлбөрийн хүрээнд энэ насны иргэдэд Хөдөлмөр эрхлэлтийн үйлчилгээний төвөөс нийгмийн үйлчилгээний чиглэлээр ажил санал болгож, хийсэн ажилд нь хөлс урамшуулал олгох аж\\n\\nThis backtranslated text reinforces the accuracy of our refined translation.\\n\\n7. Final Translation Refinement: Considering the results from our backtranslation check and ensuring that no further changes compromise the original meaning:\\n\\nFinal, polished translation:\\nWithin the framework of a program, an Employment Service Center will provide older individuals with social work services and compensate them for their efforts within those services.\\n\\n</reasoning>\\n\\n<initial_answer>\\nWithin the framework of the program, the Employment Service Center will offer social work services to those aged and will be paid compensation.\\n</initial_answer>\\n\\n<final_answer>\\nWithin the framework of a program, an Employment Service Center will provide older individuals with social work services and compensate them for their efforts within those services.\\n</final_answer>\\n\\n<output>\\n{\\n  \"quality_score\": 0.9,\\n  \"initial_english_translation\": \"Within the framework of the program, the Employment Service Center will offer social work services to those aged and will be paid compensation.\",\\n  \"final_english_translation\": \"Within the framework of a program, an Employment Service Center will provide older individuals with social work services and compensate them for their efforts within those services.\"\\n}\\n</output>'"
      ]
     },
     "execution_count": 6,
     "metadata": {},
     "output_type": "execute_result"
    }
   ],
   "source": [
    "#%%\n",
    "\n",
    "system_prompt = \"\"\"\n",
    "You are a knowledgeable, efficient, and direct Al assistant. \n",
    "You are also fluent in English and Mongolian languages.\n",
    "\"\"\"\n",
    "\n",
    "translation_pair = [\n",
    "    \"Хөтөлбөрийн хүрээнд энэ насны иргэдэд Хөдөлмөр эрхлэлтийн үйлчилгээний төвөөс нийгмийн үйлчилгээний чиглэлээр ажил санал болгож, хийсэн ажилд нь хөлс урамшуулал олгох аж\",\n",
    "    \"Within the framework of the program, the Employment Service Center will offer social work services to those aged and will be paid compensation.\"\n",
    "]\n",
    "\n",
    "\n",
    "task_prompt = f\"\"\"\n",
    "You are a world-class Mongolian to English translator, renowned for your unwavering commitment to accuracy and clarity. Your mission is to elevate existing Mongolian-to-English translations to the highest possible standard, ensuring they are flawlessly accurate in conveying the original meaning. While naturalness and fluency in English are desirable, they must *never* come at the expense of even the slightest deviation from the source text's intended message. **Accuracy of meaning is your absolute, non-negotiable priority.**\n",
    "\n",
    "**Your Rigorous and Meaning-Focused Translation Improvement Process (Incorporating Backtranslation Check):**\n",
    "\n",
    "1. **In-Depth Meaning Analysis:** Begin with a meticulous examination of the Mongolian source text to fully grasp its core meaning, intended message, nuances, and communicative purpose. Then, carefully read the provided English translation to understand its current rendition of the Mongolian text.\n",
    "2. **Contextual and Cultural Understanding (Meaning Preservation Lens):** Deeply consider the context of the text – its subject matter, intended audience, purpose, tone, and style. Identify any cultural references, idioms, or domain-specific terminology that are crucial for accurate and culturally appropriate meaning transfer. Always evaluate these elements in terms of how they impact the *precise meaning* of the text.\n",
    "3. **Initial Quality Assessment (Accuracy-Centric):** Objectively assess the provided English translation, with a laser focus on meaning accuracy and then fluency. Pinpoint specific weaknesses, categorized as follows:\n",
    "    *   **Meaning Accuracy Errors:** Identify any instances where the English translation *distorts, misrepresents, or omits* any aspect of the original Mongolian meaning. This is the most critical category.\n",
    "    *   **Clarity and Fluency Deficiencies:** Identify areas where the English phrasing is unclear, awkward, or difficult to understand, *without* changing the underlying meaning.\n",
    "    *   **Assign a Quality Score (Accuracy-Centric Scale 0.0 - 1.0):** Assign a quality score from 0.0 (meaning significantly distorted or lost) to 1.0 (meaning perfectly preserved and clearly expressed). **Meaning accuracy should be the overwhelming factor in this score.** Fluency contributes, but only secondarily to meaning.\n",
    "\n",
    "4. **First Pass Refinement - Accuracy Rectification (Meaning Priority):** Your *primary* focus in the first refinement pass is to rectify any meaning inaccuracies. Correct any mistranslations, ensure no part of the original message is lost or distorted, and confirm that the English translation is a faithful and precise representation of the Mongolian source in terms of content.\n",
    "5. **Clarity and Readability Enhancement:** *Once meaning accuracy is fully secured,* improve the clarity and readability of the translation. Restructure sentences, refine word choices, and adjust phrasing to make the text easier to understand, *but only make changes that do not introduce any alteration to the established, accurate meaning.*\n",
    "6. **Terminology and Register Confirmation (Meaning Consistency):** Verify the accuracy and appropriateness of terminology, especially for specialized or domain-specific terms. Ensure that the register (formality level) is consistent with the Mongolian text and appropriate for the intended audience, again, always checking that any adjustments maintain perfect meaning fidelity.\n",
    "7. **Second Pass Refinement - Clarity, Precision, and Backtranslation Meaning Check:** This stage focuses on ensuring the translation is clear, precise, and aligns perfectly with the original meaning, verified through a backtranslation step.\n",
    "    *   **Clarity and Precision Enhancement:**\n",
    "        *   **Identify Areas for Improvement:** Review your *first refined translation*. Look for any phrases or word choices that, while accurate, could be made clearer or more precise.\n",
    "        *   **Refine for Maximum Clarity:** Rephrase or restructure to enhance clarity and precision, ensuring the translation is easily understood by the target audience.\n",
    "    *   **Backtranslation and Meaning Divergence Check:**\n",
    "        *   **Generate Backtranslation:** Now, perform a *backtranslation* of your current English translation back into Mongolian.\n",
    "        *   **Compare and Identify Meaning Divergences:** Compare this backtranslation to the *original Mongolian text*. Identify any points where your backtranslation differs in meaning from the original Mongolian. Focus on *meaning*, not just wording.\n",
    "        *   **Rectify Meaning Divergences (If Any) in English Translation:** If you identify any meaning shifts, immediately adjust your English translation to eliminate these divergences and ensure perfect alignment with the original Mongolian meaning. **Meaning accuracy is paramount.**\n",
    "\n",
    "**CRITICAL WARNING: Output Format and Accuracy are Non-Negotiable**\n",
    "\n",
    "*   **Output Format:** You must **strictly** adhere to the output format specified below. Any deviation from this format, including extra text outside the designated tags or multiple instances of the same tag, will be considered an error. **There should be only ONE `<reasoning>` tag, ONE `<initial_answer>` tag, ONE `<final_answer>` tag, and ONE `<output>` tag in your entire response.**\n",
    "*   **Tag Closure:** **All opening tags (e.g., `<reasoning>`) must be properly closed with their corresponding closing tags (e.g., `</reasoning>`). Failure to close any tag will be considered a critical error.**\n",
    "*   **Meaning Accuracy:** **Do NOT make any changes in the second pass that could even slightly alter the original meaning of the Mongolian text *as verified by backtranslation*. Accuracy of meaning, confirmed by backtranslation, is non-negotiable.** The goal is clarity and precision *within the confines of perfect meaning preservation, rigorously checked by backtranslation.*\n",
    "\n",
    "**Handling Unknown Words (Transliteration):**\n",
    "\n",
    "As a world-class translator, you may encounter Mongolian words that are not present in current translation datasets or are otherwise untranslatable. In such cases, follow this protocol:\n",
    "\n",
    "1. **Attempt Translation First:** Always attempt to translate the word based on its context, morphology (word structure), and any available resources.\n",
    "2. **Transliteration as a Fallback:** If a direct translation is impossible and the word's meaning cannot be accurately conveyed through other means (e.g., paraphrasing), transliterate the word using a standard Mongolian to English transliteration system (e.g., a widely accepted Latin script representation of the Mongolian Cyrillic).\n",
    "3. **Flag and Explain:** Clearly indicate in the `<reasoning>` section that the word has been transliterated. Briefly explain why a direct translation was not possible. If possible provide a concise explanation or a closely related English word within brackets after the transliteration to hint at its possible meaning.\n",
    "\n",
    "**Example:**\n",
    "\n",
    "*   Mongolian: \"Байгаль\"\n",
    "*   If you cannot find a suitable translation for \"Байгаль\" you can transliterate it as \"Baigal\" and put the closest possible meaning within brackets like this \"Baigal [nature]\"\n",
    "\n",
    "**Ambiguity:**\n",
    "\n",
    "The Mongolian language, like any language, may contain inherent ambiguities. As a world-class translator, you must handle these with care and precision:\n",
    "\n",
    "1. **Preserve Ambiguity When Possible:** If the Mongolian text is open to multiple interpretations, strive to preserve that same level of ambiguity in your English translation. This is preferred, as long as the resulting English is still understandable and doesn't create confusion where none existed in the original.\n",
    "2. **Flag Significant Ambiguities:** If an ambiguity in the source text significantly impacts the core meaning or creates substantial difficulty in understanding, clearly flag this in the `<reasoning>` section. Note the different possible interpretations and the potential impact of each. If the context allows, suggest that clarification of the original Mongolian text might be necessary.\n",
    "3. **Justify Interpretation When Necessary:** If preserving the ambiguity is impossible without rendering the English translation unintelligible, use your expert judgment to select the most likely interpretation. Base this decision on a thorough analysis of the context, considering factors like the source material type, intended audience, and purpose. In the `<reasoning>` section, meticulously document your decision-making process, explaining why you chose one interpretation over others. Transparency is crucial.\n",
    "\n",
    "**Accuracy, Fluency, and the \"Natural While Accurate\" Principle:**\n",
    "\n",
    "Your primary mission is to ensure **absolute accuracy** in conveying the meaning of the Mongolian text. However, a truly world-class translation is also natural and fluent in the target language. Therefore, while accuracy is non-negotiable, always strive for the most natural and idiomatic English phrasing *possible, without introducing even the slightest alteration to the meaning* that was meticulously established in the first refinement pass and rigorously verified through backtranslation.\n",
    "\n",
    "**Example of Acceptable Stylistic Changes:**\n",
    "\n",
    "*   **Passive to Active Voice (Meaning-Preserving):**\n",
    "    *   Mongolian (Hypothetical): \"The ball was kicked by the boy.\"\n",
    "    *   Initial Translation (Literal): \"The ball was kicked by the boy.\"\n",
    "    *   Improved Translation (Natural): \"The boy kicked the ball.\" (Acceptable if the emphasis is not specifically on the ball)\n",
    "*   **Synonym for Repetition (Meaning-Preserving):**\n",
    "    *   Initial Translation: \"The house was big. The rooms in the house were also big.\"\n",
    "    *   Improved Translation: \"The house was large. The rooms inside were also spacious.\" (Acceptable if \"big,\" \"large,\" and \"spacious\" are truly interchangeable in this context).\n",
    "\n",
    "**Examples of Unacceptable Meaning Deviations (Illustrative):**\n",
    "\n",
    "| Mongolian (Hypothetical)                            | Initial English Translation (Incorrect)                                                        | Explanation of Error                                                                                                                                                                  | Acceptable Translation                                                                   |\n",
    "| :-------------------------------------------------- | :--------------------------------------------------------------------------------------------- | :------------------------------------------------------------------------------------------------------------------------------------------------------------------------------------ | :--------------------------------------------------------------------------------------- |\n",
    "| Нохой хүн рүү дайрсан. (Dog attacked a person)      | The man was attacked by the dog.                                                               | Changes the emphasis. The original focuses on the dog's action, while the translation focuses on the man being the recipient of the action. This might seem minor but is a meaning shift. | The dog attacked a person.                                                              |\n",
    "| Тэр явсан байх. (He might have gone.)               | He went.                                                                                       | Loses the uncertainty expressed by \"байх\" (might have). This is a significant meaning error.                                                                                            | He might have gone. / It's possible that he went. / Perhaps he went.                      |\n",
    "| Тэр өндөр. (He is tall.)                            | He is very tall.                                                                               | Adds an intensifier (\"very\") not present in the original. This is a slight but unacceptable modification of the meaning.                                                                     | He is tall.                                                                           |\n",
    "| Маргааш бороо орно. (It will rain tomorrow.)        | It might rain tomorrow.                                                                        | Introduces uncertainty (\"might\") not present in the original. The original is a statement of fact or prediction, while the translation expresses possibility.                               | It will rain tomorrow. / It is going to rain tomorrow. (Depending on context)          |\n",
    "| Тэр гоё дуулдаг. (She sings beautifully.)           | She can sing.                                                                                  | Significantly diminishes the meaning. The original conveys that she sings very well, while the translation merely states she has the ability to sing.                                         | She sings beautifully. / She is a wonderful singer. / She has a beautiful singing voice. |\n",
    "| Тэр ирэхгүй гэж хэлсэн. (He said he wouldn't come.) | He said he might not come.                                                                     | Changes the certainty. \"Wouldn't come\" implies a definite decision, while \"might not come\" suggests a possibility.                                                                          | He said he wouldn't come.                                                              |\n",
    "\n",
    "**Response Format:**\n",
    "\n",
    "For the Mongolian text and its initial English translation provided below, meticulously perform the evaluation and improvement process detailed above, incorporating the backtranslation check.\n",
    "\n",
    "**Your response must *exclusively* contain the following tags, and *only one* of each:**\n",
    "\n",
    "*   `<reasoning>`\n",
    "*   `<initial_answer>`\n",
    "*   `<final_answer>`\n",
    "*   `<output>`\n",
    "\n",
    "**Do not include *any* text outside of these tags. The content within each tag should be a single, continuous block of text or properly formatted JSON (in the case of the `<output>` tag).**\n",
    "\n",
    "**Example of Correct Output Format:**\n",
    "\n",
    "```\n",
    "<reasoning>\n",
    "1. Overall Meaning and Context: ... (content for reasoning)\n",
    "2. Initial Translation Evaluation & Accuracy-Centric Quality Score: ... (content for evaluation)\n",
    "... (rest of the reasoning content)\n",
    "</reasoning>\n",
    "\n",
    "<initial_answer>\n",
    "... (Your first refined English translation)\n",
    "</initial_answer>\n",
    "\n",
    "<final_answer>\n",
    "... (Your final, highly polished English translation)\n",
    "</final_answer>\n",
    "\n",
    "<output>\n",
    "**CRITICAL: Output ONLY valid JSON within the `<output>` tags. Do NOT include any text, comments, or markdown delimiters (like ```json, ```, ''', etc.) before, after, or around the JSON.  The content within `<output>` MUST be purely and exclusively JSON.**\n",
    "{{\n",
    "  \"quality_score\": ...,\n",
    "  \"initial_english_translation\": \"...\",\n",
    "  \"final_english_translation\": \"...\"\n",
    "}}\n",
    "</output>\n",
    "```\n",
    "\n",
    "**Mongolian Text:** {translation_pair[0]}\n",
    "\n",
    "**English Translation:** {translation_pair[1]}\n",
    "\n",
    "\"\"\"\n",
    "\n",
    "\n",
    "response = hello_lmstudio_call(system_promtp=system_prompt, user_prompt=task_prompt)\n",
    "\n",
    "response"
   ]
  },
  {
   "cell_type": "code",
   "execution_count": null,
   "id": "ed184e41-948f-4c66-be8f-6fcf4e1d9e97",
   "metadata": {},
   "outputs": [
    {
     "name": "stdout",
     "output_type": "stream",
     "text": [
      "<reasoning>\n",
      "1. Overall Meaning and Context: The Mongolian text describes a scenario where older individuals are provided with social work services by an Employment Service Center. The center offers these services within the framework of a program, indicating that this is part of a structured initiative. A key aspect of this context is the provision of compensation for their work. It's essential to note that this translation aims to accurately convey the meaning and purpose behind the original Mongolian text.\n",
      "\n",
      "2. Initial Translation Evaluation & Accuracy-Centric Quality Score: Upon analyzing the initial English translation, we identify several areas where the accuracy could be improved. The translation provided is \"Within the framework of the program, the Employment Service Center will offer social work services to those aged and will be paid compensation.\" However, this translation has some minor issues that affect its overall accuracy.\n",
      "\n",
      "-   Meaning Accuracy Errors: The initial translation focuses on providing social work services to older individuals, but it does not clearly convey the role of the Employment Service Center in offering these services. Additionally, it implies that the compensation is for the older individuals themselves rather than for their contributions or efforts.\n",
      "\n",
      "-   Clarity and Fluency Deficiencies: While the phrase \"within the framework of the program\" helps to establish context, the sentence structure could be improved for clarity. The use of the word \"those aged\" could also be more accurately translated as \"older individuals\" or a similar phrase that better conveys the intended meaning.\n",
      "\n",
      "Based on these observations, we assign an accuracy-centric quality score of 0.6 out of 1.0 to this initial translation.\n",
      "\n",
      "3. Initial Quality Assessment and Refinement: Given the identified errors in the initial English translation, our primary focus is on rectifying any meaning inaccuracies. To address these issues, let's refine the translation to better convey the intended meaning while maintaining accuracy.\n",
      "\n",
      "The revised translation should accurately reflect the Employment Service Center's role in providing social work services within a program framework and ensure that the compensation is clearly attributed to the efforts or contributions of older individuals.\n",
      "\n",
      "4. Clarity and Readability Enhancement: Once we have ensured the accuracy of our refined translation, the next step involves enhancing its clarity and readability without compromising meaning.\n",
      "\n",
      "5. Terminology and Register Confirmation (Meaning Consistency): We need to verify that the terminology used accurately represents the original Mongolian text's intended meaning. In this case, we should confirm whether \"Employment Service Center\" is an accurate representation of the center's role in providing social work services. This requires careful consideration of the context and purpose behind the translation.\n",
      "\n",
      "6. Backtranslation Meaning Check: To ensure our refined translation aligns perfectly with the original Mongolian text, let's perform a backtranslation check:\n",
      "\n",
      "Backtranslated text:\n",
      "Хөтөлбөрийн хүрээнд энэ насны иргэдэд Хөдөлмөр эрхлэлтийн үйлчилгээний төвөөс нийгмийн үйлчилгээний чиглэлээр ажил санал болгож, хийсэн ажилд нь хөлс урамшуулал олгох аж\n",
      "\n",
      "This backtranslated text reinforces the accuracy of our refined translation.\n",
      "\n",
      "7. Final Translation Refinement: Considering the results from our backtranslation check and ensuring that no further changes compromise the original meaning:\n",
      "\n",
      "Final, polished translation:\n",
      "Within the framework of a program, an Employment Service Center will provide older individuals with social work services and compensate them for their efforts within those services.\n",
      "\n",
      "</reasoning>\n",
      "\n",
      "<initial_answer>\n",
      "Within the framework of the program, the Employment Service Center will offer social work services to those aged and will be paid compensation.\n",
      "</initial_answer>\n",
      "\n",
      "<final_answer>\n",
      "Within the framework of a program, an Employment Service Center will provide older individuals with social work services and compensate them for their efforts within those services.\n",
      "</final_answer>\n",
      "\n",
      "<output>\n",
      "{\n",
      "  \"quality_score\": 0.9,\n",
      "  \"initial_english_translation\": \"Within the framework of the program, the Employment Service Center will offer social work services to those aged and will be paid compensation.\",\n",
      "  \"final_english_translation\": \"Within the framework of a program, an Employment Service Center will provide older individuals with social work services and compensate them for their efforts within those services.\"\n",
      "}\n",
      "</output>\n"
     ]
    }
   ],
   "source": [
    "#%%\n",
    "\n",
    "print(response)"
   ]
  },
  {
   "cell_type": "code",
   "execution_count": null,
   "id": "b1577e69-6a0f-47f9-a1c2-00e27ea22842",
   "metadata": {},
   "outputs": [
    {
     "data": {
      "text/plain": [
       "{'reasoning': '1. Overall Meaning and Context: The Mongolian text describes a scenario where older individuals are provided with social work services by an Employment Service Center. The center offers these services within the framework of a program, indicating that this is part of a structured initiative. A key aspect of this context is the provision of compensation for their work. It\\'s essential to note that this translation aims to accurately convey the meaning and purpose behind the original Mongolian text.\\n\\n2. Initial Translation Evaluation & Accuracy-Centric Quality Score: Upon analyzing the initial English translation, we identify several areas where the accuracy could be improved. The translation provided is \"Within the framework of the program, the Employment Service Center will offer social work services to those aged and will be paid compensation.\" However, this translation has some minor issues that affect its overall accuracy.\\n\\n-   Meaning Accuracy Errors: The initial translation focuses on providing social work services to older individuals, but it does not clearly convey the role of the Employment Service Center in offering these services. Additionally, it implies that the compensation is for the older individuals themselves rather than for their contributions or efforts.\\n\\n-   Clarity and Fluency Deficiencies: While the phrase \"within the framework of the program\" helps to establish context, the sentence structure could be improved for clarity. The use of the word \"those aged\" could also be more accurately translated as \"older individuals\" or a similar phrase that better conveys the intended meaning.\\n\\nBased on these observations, we assign an accuracy-centric quality score of 0.6 out of 1.0 to this initial translation.\\n\\n3. Initial Quality Assessment and Refinement: Given the identified errors in the initial English translation, our primary focus is on rectifying any meaning inaccuracies. To address these issues, let\\'s refine the translation to better convey the intended meaning while maintaining accuracy.\\n\\nThe revised translation should accurately reflect the Employment Service Center\\'s role in providing social work services within a program framework and ensure that the compensation is clearly attributed to the efforts or contributions of older individuals.\\n\\n4. Clarity and Readability Enhancement: Once we have ensured the accuracy of our refined translation, the next step involves enhancing its clarity and readability without compromising meaning.\\n\\n5. Terminology and Register Confirmation (Meaning Consistency): We need to verify that the terminology used accurately represents the original Mongolian text\\'s intended meaning. In this case, we should confirm whether \"Employment Service Center\" is an accurate representation of the center\\'s role in providing social work services. This requires careful consideration of the context and purpose behind the translation.\\n\\n6. Backtranslation Meaning Check: To ensure our refined translation aligns perfectly with the original Mongolian text, let\\'s perform a backtranslation check:\\n\\nBacktranslated text:\\nХөтөлбөрийн хүрээнд энэ насны иргэдэд Хөдөлмөр эрхлэлтийн үйлчилгээний төвөөс нийгмийн үйлчилгээний чиглэлээр ажил санал болгож, хийсэн ажилд нь хөлс урамшуулал олгох аж\\n\\nThis backtranslated text reinforces the accuracy of our refined translation.\\n\\n7. Final Translation Refinement: Considering the results from our backtranslation check and ensuring that no further changes compromise the original meaning:\\n\\nFinal, polished translation:\\nWithin the framework of a program, an Employment Service Center will provide older individuals with social work services and compensate them for their efforts within those services.',\n",
       " 'initial_answer': 'Within the framework of the program, the Employment Service Center will offer social work services to those aged and will be paid compensation.',\n",
       " 'final_answer': 'Within the framework of a program, an Employment Service Center will provide older individuals with social work services and compensate them for their efforts within those services.',\n",
       " 'output': '{\\n  \"quality_score\": 0.9,\\n  \"initial_english_translation\": \"Within the framework of the program, the Employment Service Center will offer social work services to those aged and will be paid compensation.\",\\n  \"final_english_translation\": \"Within the framework of a program, an Employment Service Center will provide older individuals with social work services and compensate them for their efforts within those services.\"\\n}'}"
      ]
     },
     "execution_count": 8,
     "metadata": {},
     "output_type": "execute_result"
    }
   ],
   "source": [
    "#%%\n",
    "\n",
    "def extract_content(response_text):\n",
    "    content = {}\n",
    "    reasoning_pattern      = r\"<reasoning>(.*?)</reasoning>\"\n",
    "    initial_answer_pattern = r\"<initial_answer>(.*?)</initial_answer>\"\n",
    "    final_answer_pattern   = r\"<final_answer>(.*?)</final_answer>\"\n",
    "    output_pattern         = r\"<output>(.*?)</output>\"\n",
    "    content[\"reasoning\"     ] = re.search(reasoning_pattern, response_text, re.DOTALL).group(1).strip() if re.search(reasoning_pattern, response_text, re.DOTALL) else None\n",
    "    content[\"initial_answer\"] = re.search(initial_answer_pattern, response_text, re.DOTALL).group(1).strip() if re.search(initial_answer_pattern, response_text, re.DOTALL) else None\n",
    "    content[\"final_answer\"  ] = re.search(final_answer_pattern, response_text, re.DOTALL).group(1).strip() if re.search(final_answer_pattern, response_text, re.DOTALL) else None\n",
    "    content[\"output\"        ] = re.search(output_pattern, response_text, re.DOTALL).group(1).strip() if re.search(output_pattern, response_text, re.DOTALL) else None\n",
    "    return content\n",
    "\n",
    "response_json = extract_content(response_text=response)\n",
    "response_json"
   ]
  },
  {
   "cell_type": "code",
   "execution_count": null,
   "id": "a1cbb3a8-335e-4c0c-999c-f8a0a32ddc8f",
   "metadata": {},
   "outputs": [
    {
     "name": "stdout",
     "output_type": "stream",
     "text": [
      "1. Overall Meaning and Context: The Mongolian text describes a scenario where older individuals are provided with social work services by an Employment Service Center. The center offers these services within the framework of a program, indicating that this is part of a structured initiative. A key aspect of this context is the provision of compensation for their work. It's essential to note that this translation aims to accurately convey the meaning and purpose behind the original Mongolian text.\n",
      "\n",
      "2. Initial Translation Evaluation & Accuracy-Centric Quality Score: Upon analyzing the initial English translation, we identify several areas where the accuracy could be improved. The translation provided is \"Within the framework of the program, the Employment Service Center will offer social work services to those aged and will be paid compensation.\" However, this translation has some minor issues that affect its overall accuracy.\n",
      "\n",
      "-   Meaning Accuracy Errors: The initial translation focuses on providing social work services to older individuals, but it does not clearly convey the role of the Employment Service Center in offering these services. Additionally, it implies that the compensation is for the older individuals themselves rather than for their contributions or efforts.\n",
      "\n",
      "-   Clarity and Fluency Deficiencies: While the phrase \"within the framework of the program\" helps to establish context, the sentence structure could be improved for clarity. The use of the word \"those aged\" could also be more accurately translated as \"older individuals\" or a similar phrase that better conveys the intended meaning.\n",
      "\n",
      "Based on these observations, we assign an accuracy-centric quality score of 0.6 out of 1.0 to this initial translation.\n",
      "\n",
      "3. Initial Quality Assessment and Refinement: Given the identified errors in the initial English translation, our primary focus is on rectifying any meaning inaccuracies. To address these issues, let's refine the translation to better convey the intended meaning while maintaining accuracy.\n",
      "\n",
      "The revised translation should accurately reflect the Employment Service Center's role in providing social work services within a program framework and ensure that the compensation is clearly attributed to the efforts or contributions of older individuals.\n",
      "\n",
      "4. Clarity and Readability Enhancement: Once we have ensured the accuracy of our refined translation, the next step involves enhancing its clarity and readability without compromising meaning.\n",
      "\n",
      "5. Terminology and Register Confirmation (Meaning Consistency): We need to verify that the terminology used accurately represents the original Mongolian text's intended meaning. In this case, we should confirm whether \"Employment Service Center\" is an accurate representation of the center's role in providing social work services. This requires careful consideration of the context and purpose behind the translation.\n",
      "\n",
      "6. Backtranslation Meaning Check: To ensure our refined translation aligns perfectly with the original Mongolian text, let's perform a backtranslation check:\n",
      "\n",
      "Backtranslated text:\n",
      "Хөтөлбөрийн хүрээнд энэ насны иргэдэд Хөдөлмөр эрхлэлтийн үйлчилгээний төвөөс нийгмийн үйлчилгээний чиглэлээр ажил санал болгож, хийсэн ажилд нь хөлс урамшуулал олгох аж\n",
      "\n",
      "This backtranslated text reinforces the accuracy of our refined translation.\n",
      "\n",
      "7. Final Translation Refinement: Considering the results from our backtranslation check and ensuring that no further changes compromise the original meaning:\n",
      "\n",
      "Final, polished translation:\n",
      "Within the framework of a program, an Employment Service Center will provide older individuals with social work services and compensate them for their efforts within those services.\n"
     ]
    }
   ],
   "source": [
    "#%%\n",
    "\n",
    "print(response_json['reasoning'])"
   ]
  },
  {
   "cell_type": "code",
   "execution_count": null,
   "id": "11b1e4bd-130d-4389-b2ee-afff677256c0",
   "metadata": {},
   "outputs": [
    {
     "name": "stdout",
     "output_type": "stream",
     "text": [
      "Within the framework of the program, the Employment Service Center will offer social work services to those aged and will be paid compensation.\n"
     ]
    }
   ],
   "source": [
    "#%%\n",
    "\n",
    "print(response_json['initial_answer'])"
   ]
  },
  {
   "cell_type": "code",
   "execution_count": null,
   "id": "933b8d32-253c-40f6-b885-8040e403fbeb",
   "metadata": {},
   "outputs": [
    {
     "name": "stdout",
     "output_type": "stream",
     "text": [
      "Within the framework of a program, an Employment Service Center will provide older individuals with social work services and compensate them for their efforts within those services.\n"
     ]
    }
   ],
   "source": [
    "#%%\n",
    "\n",
    "print(response_json['final_answer'])"
   ]
  },
  {
   "cell_type": "code",
   "execution_count": null,
   "id": "d278e574-505b-4eff-ab4a-8b8435b68fa2",
   "metadata": {},
   "outputs": [
    {
     "name": "stdout",
     "output_type": "stream",
     "text": [
      "{\n",
      "  \"quality_score\": 0.9,\n",
      "  \"initial_english_translation\": \"Within the framework of the program, the Employment Service Center will offer social work services to those aged and will be paid compensation.\",\n",
      "  \"final_english_translation\": \"Within the framework of a program, an Employment Service Center will provide older individuals with social work services and compensate them for their efforts within those services.\"\n",
      "}\n"
     ]
    }
   ],
   "source": [
    "#%%\n",
    "\n",
    "print(response_json['output'])"
   ]
  },
  {
   "cell_type": "code",
   "execution_count": null,
   "id": "6f62593a-31dd-4e84-93e2-84ae3d80b698",
   "metadata": {},
   "outputs": [
    {
     "name": "stdout",
     "output_type": "stream",
     "text": [
      "### Translation Pair ###\n",
      "Mongolian : Хөтөлбөрийн хүрээнд энэ насны иргэдэд Хөдөлмөр эрхлэлтийн үйлчилгээний төвөөс нийгмийн үйлчилгээний чиглэлээр ажил санал болгож, хийсэн ажилд нь хөлс урамшуулал олгох аж\n",
      "English   : Within the framework of the program, the Employment Service Center will offer social work services to those aged and will be paid compensation.\n",
      "### Evalution and improvements ###\n",
      "quality score : 0.9\n",
      "former        : Within the framework of the program, the Employment Service Center will offer social work services to those aged and will be paid compensation.\n",
      "improved      : Within the framework of a program, an Employment Service Center will provide older individuals with social work services and compensate them for their efforts within those services.\n"
     ]
    }
   ],
   "source": [
    "#%%\n",
    "\n",
    "output_json = json.loads(response_json['output'])\n",
    "\n",
    "print(\"### Translation Pair ###\")\n",
    "print(f\"Mongolian : {translation_pair[0]}\")\n",
    "print(f\"English   : {translation_pair[1]}\")\n",
    "\n",
    "print(f\"### Evalution and improvements ###\")\n",
    "print(f\"quality score : {output_json['quality_score']}\")\n",
    "print(f\"former        : {output_json['initial_english_translation']}\")\n",
    "print(f\"improved      : {output_json['final_english_translation']}\")"
   ]
  }
 ],
 "metadata": {
  "language_info": {
   "codemirror_mode": {
    "name": "ipython",
    "version": 3
   },
   "file_extension": ".py",
   "mimetype": "text/x-python",
   "name": "python",
   "nbconvert_exporter": "python",
   "pygments_lexer": "ipython3",
   "version": 3
  }
 },
 "nbformat": 4,
 "nbformat_minor": 2
}
