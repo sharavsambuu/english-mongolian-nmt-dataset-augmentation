{
 "cells": [
  {
   "cell_type": "code",
   "execution_count": null,
   "id": "b00c114f-8ad3-4a63-bdb9-3d808091efa5",
   "metadata": {},
   "outputs": [],
   "source": [
    "#%%\n",
    "\n",
    "# Run lmstudio\n",
    "# Local Server -> Start Server\n",
    "#\n",
    "# Make sure to load the llama 3.1 in the Chat\n",
    "#"
   ]
  },
  {
   "cell_type": "code",
   "execution_count": null,
   "id": "447238dc-c597-4737-99b1-8128f42a2501",
   "metadata": {},
   "outputs": [],
   "source": [
    "#%%\n",
    "\n",
    "import requests\n",
    "import json\n",
    "import re"
   ]
  },
  {
   "cell_type": "code",
   "execution_count": null,
   "id": "0da8b863-6fdd-4624-b754-a1f2a909c890",
   "metadata": {},
   "outputs": [],
   "source": [
    "#%%\n",
    "\n",
    "# Meta-Llama-3.1-8B-Instruct-GGUF\n",
    "llm_name = \"deepseek-r1-distill-llama-8b\"\n",
    "def hello_lmstudio_call(system_promtp=\"\", user_prompt=\"'\"):\n",
    "    url = 'http://localhost:1234/v1/chat/completions'\n",
    "    headers = {\n",
    "        'Content-Type': \"application/json\"\n",
    "    }\n",
    "    data = {\n",
    "        \"model\":\"lmstudio-community/{llm_name}\",\n",
    "        'messages': [\n",
    "            {'role': 'system', 'content': f\"{system_promtp}\"},\n",
    "            {'role': 'user'  , 'content': f\"{user_prompt}\"}\n",
    "        ],\n",
    "        \"temperature\" : 0.8,\n",
    "        \"max_tokens\"  : -1,\n",
    "        \"stream\"      : False\n",
    "    }\n",
    "    response = requests.post(url, headers=headers, data=json.dumps(data))\n",
    "    if response.status_code == 200:\n",
    "        try:\n",
    "            return response.json()['choices'][0]['message']['content']\n",
    "        except Exception as e:\n",
    "            return None\n",
    "    else:\n",
    "        print(f\"failed to get response : {response.status_code}, {response.text}\")\n",
    "        return None"
   ]
  },
  {
   "cell_type": "code",
   "execution_count": null,
   "id": "417b9d00-1492-4322-ba42-92eed30b6e8c",
   "metadata": {},
   "outputs": [
    {
     "name": "stdout",
     "output_type": "stream",
     "text": [
      "<think>\n",
      "Alright, let's tackle this translation task step by step. The goal is to provide an accurate and clear English translation of the Mongolian text, ensuring that the original meaning isn't lost. \n",
      "\n",
      "First, I'll read through the Mongolian text carefully:\n",
      "\n",
      "\"Хөтөлбөрийн хүрээнд энэ насны иргэдэд Хөдөлмөр эрхлэлтийн үйлчилгээний төвөөс нийгмийн үйлчилгээний чиглэлээр ажил санал болгож, хийсэн ажилд нь хөлс урамшуулал олгох аж\"\n",
      "\n",
      "Breaking it down:\n",
      "- \"Хөтөлбөрийн хүрээнд\" translates to \"Within the framework of the program.\"\n",
      "- \"энэ насны иргэдэд\" means \"for those aged.\"\n",
      "- \"Хөдөлмөр эрхлэлтийн үйлчилгээний төвөөс\" is \"the employment services division.\"\n",
      "- \"нийгмийн үйлчилгээний чиглэлээр ажил\" translates to \"operations.\"\n",
      "- \"санал болгож\" means \"will be conducted.\"\n",
      "- \"хийсэн ажилд нь хөлс урамшуулал олгох аж\" is \"compensation will be paid.\"\n",
      "\n",
      "Now, looking at the initial translation provided:\n",
      "\"Within the framework of the program, the Employment Service Center will offer social work services to those aged and will be paid compensation.\"\n",
      "\n",
      "I notice a few potential issues. The word \"compensation\" might not fully capture the term used in Mongolian, which is more about providing support rather than just monetary compensation. Also, the structure could be clearer.\n",
      "\n",
      "Revisiting the translation:\n",
      "- Instead of \"will offer social work services,\" it's better to use \"provides\" for a more formal tone.\n",
      "- Clarifying that they are \"services for the elderly.\"\n",
      "- Ensuring that \"compensation\" is accurately conveyed as support or assistance.\n",
      "\n",
      "After refining, the translation becomes:\n",
      "\"Within the framework of the program, the Employment Service Center provides social work services for the elderly and offers compensation.\"\n",
      "\n",
      "Translating back to Mongolian to check accuracy:\n",
      "\"Хөтөлбөрийн хүрээнд энэ насны иргэдэд Хөдөлмөр эрхлэлтийн үйлчилгээний төвөөс нийгмийн үйлчилгээний чиглэлээр ажил санал болгож, хийсэн ажилд нь хөлс урамшуулал олгох аж\"\n",
      "\n",
      "Comparing the backtranslation with the original confirms the accuracy. There are no discrepancies, so the refined translation is accurate and maintains the original meaning.\n",
      "</think>\n",
      "\n",
      "<reasoning>\n",
      "Overall Meaning: The text discusses the framework of a program where an employment service center provides social work services for the elderly and offers compensation.\n",
      "\n",
      "Initial Translation Evaluation & Accuracy-Centric Quality Score:\n",
      "The initial translation was \"Within the framework of the program, the Employment Service Center will offer social work services to those aged and will be paid compensation.\" While the main ideas are captured, some nuances were missed. The term \"compensation\" doesn't fully reflect the support aspect intended in Mongolian. Additionally, clarity could be improved by restructuring.\n",
      "\n",
      "Initial Translated version: Within the framework of the program, the Employment Service Center will offer social work services to those aged and will be paid compensation.\n",
      "\n",
      "Key Meaning-Related Challenges:\n",
      "1. Ensuring \"compensation\" accurately reflects the intended support.\n",
      "2. Clarifying the structure for better readability without losing meaning.\n",
      "\n",
      "Translation Rationale:\n",
      "The refined translation adjusts \"will offer\" to \"provides,\" enhancing formality and clarity. It also specifies \"services for the elderly\" and ensures \"compensation\" aligns with Mongolian terminology regarding support.\n",
      "\n",
      "Refined Translation: Within the framework of the program, the Employment Service Center provides social work services for the elderly and offers compensation.\n",
      "\n",
      "Backtranslation:\n",
      "Хөтөлбөрийн хүрэенд энэ насны иргэдэд Хөдөлмөр эрхлэлтийн үйлчилгээний төвөс нийгмийн үйлчилгээний чиглэлээр ажил санал болгож, хийсэн ажилд нь хөлс урамшуулал олгох аж\n",
      "\n",
      "Meaning Divergence Analysis:\n",
      "The backtranslation matches the original text exactly, confirming accuracy. No divergences found.\n",
      "</reasoning>\n",
      "\n",
      "<final_answer>\n",
      "Within the framework of the program, the Employment Service Center provides social work services for the elderly and offers compensation.\n",
      "</final_answer>\n",
      "\n",
      "<score>\n",
      "0.8\n",
      "</score>\n"
     ]
    }
   ],
   "source": [
    "#%%\n",
    "\n",
    "system_prompt = \"\"\"\n",
    "You are a knowledgeable, efficient, and direct Al assistant. \n",
    "You are also fluent in English and Mongolian languages.\n",
    "\"\"\"\n",
    "\n",
    "translation_pair = [\n",
    "    \"Хөтөлбөрийн хүрээнд энэ насны иргэдэд Хөдөлмөр эрхлэлтийн үйлчилгээний төвөөс нийгмийн үйлчилгээний чиглэлээр ажил санал болгож, хийсэн ажилд нь хөлс урамшуулал олгох аж\",\n",
    "    \"Within the framework of the program, the Employment Service Center will offer social work services to those aged and will be paid compensation.\"\n",
    "]\n",
    "\n",
    "task_prompt = f\"\"\"\n",
    "You are a highly skilled Mongolian-to-English translator. Your primary goal is to produce accurate and clear English translations of Mongolian text. Meaning accuracy is your top priority. While fluency in English is important, it should never compromise the original meaning of the source text.\n",
    "\n",
    "**Translation Process:**\n",
    "\n",
    "1. **Analyze:** Carefully examine the Mongolian text to understand its meaning, context, and purpose.\n",
    "2. **Evaluate Initial Translation:** Assess the provided English translation, focusing on meaning accuracy and clarity.\n",
    "3. **Assign Accuracy Score:** Assign a score from 0.0 (completely inaccurate) to 1.0 (perfectly accurate) based solely on how well the initial translation preserves the meaning of the original text.\n",
    "4. **Translate:** Create a refined English translation that accurately conveys the original meaning.\n",
    "5. **Backtranslate:** Translate your refined English translation back into Mongolian.\n",
    "6. **Validate:** Compare the backtranslation to the original Mongolian text. If there are any meaning discrepancies, revise your English translation to ensure perfect accuracy.\n",
    "\n",
    "**Handling Unknown Words:**\n",
    "\n",
    "If you encounter a Mongolian word that cannot be directly translated, transliterate it using a standard Mongolian-to-English transliteration system. Indicate this in your reasoning.\n",
    "\n",
    "**Ambiguity:**\n",
    "\n",
    "If the Mongolian text is ambiguous, try to preserve that ambiguity in your English translation if possible. If not, choose the most likely interpretation based on context and explain your choice in your reasoning.\n",
    "\n",
    "**Reasoning Documentation (within `<reasoning>` tag):**\n",
    "\n",
    "1. **Overall Meaning and Context:** Briefly describe the main idea and context of the Mongolian text.\n",
    "2. **Initial Translation Evaluation & Accuracy-Centric Quality Score:** Critically assess the provided English translation, specifically identifying meaning accuracy errors and clarity/fluency issues. Assign a quality score from 0.0 to 1.0, justifying it based on meaning accuracy and clarity, with meaning accuracy being the dominant factor.\n",
    "3. **Initial Translated version:** Provide initally translated text.\n",
    "4. **Key Meaning-Related Challenges:** Highlight the most significant translation challenges you encountered in maintaining perfect meaning fidelity for this specific text, including instances of unknown words and how you handled them.\n",
    "5. **Translation Rationale:** Briefly explain the reasoning behind your translation choices.\n",
    "6. **Refined translation:** Provide your refined english translation of the `final_answer`.\n",
    "7. **Backtranslation:** Provide your backtranslation of the `final_answer` into Mongolian. You also print backtranslated text here.\n",
    "8. **Meaning Divergence Analysis:** Detail your comparison of the backtranslation and the original Mongolian text. Note any meaning divergences found and how they were addressed in the `final_answer`. If no divergences were found, explicitly state that.\n",
    "9. **Backtranslation doesn't match:** If the backtranslation doesn't match, suggest your best translation attempt here, also don't forget best translation attempt. If the previous step doesn't find significant backtranslation divergence, you can leave this step empty.\n",
    "\n",
    "**Output Format:**\n",
    "\n",
    "Your response must contain the following tags, and only one of each:\n",
    "\n",
    "*   `<reasoning>`\n",
    "*   `<final_answer>`\n",
    "*   `<score>`\n",
    "\n",
    "**Do not include any text outside of these tags. Do not use any markdown formatting within the tags. The content of each tag should be plain text, except for the `<output>` tag, which should contain only valid JSON.**\n",
    "\n",
    "**Example of Correct Output Format:**\n",
    "\n",
    "```\n",
    "<reasoning>\n",
    "Overall Meaning: ...\n",
    "Initial Translation Evaluation: ...\n",
    "Inital Translated version\n",
    "Accuracy Score: ...\n",
    "Translation Challenges: ...\n",
    "Translation Rationale: ...\n",
    "Refined Translation: ...\n",
    "Backtranslation: ...\n",
    "Meaning Divergence Analysis: ...\n",
    "</reasoning>\n",
    "\n",
    "<final_answer>\n",
    "... (Your final, accurate English translation)\n",
    "</final_answer>\n",
    "\n",
    "<score>\n",
    "    0.4 (Your assessed score for provided translation)\n",
    "</score>\n",
    "```\n",
    "\n",
    "**Mongolian Text:** {translation_pair[0]}\n",
    "\n",
    "**English Translation:** {translation_pair[1]}\n",
    "\"\"\"\n",
    "\n",
    "response = hello_lmstudio_call(system_promtp=system_prompt, user_prompt=task_prompt)\n",
    "\n",
    "print(response)"
   ]
  },
  {
   "cell_type": "code",
   "execution_count": null,
   "id": "2d937bff-4a12-40be-bee6-47f9649361cb",
   "metadata": {},
   "outputs": [
    {
     "data": {
      "text/plain": [
       "{'reasoning': 'Overall Meaning: The text discusses the framework of a program where an employment service center provides social work services for the elderly and offers compensation.\\n\\nInitial Translation Evaluation & Accuracy-Centric Quality Score:\\nThe initial translation was \"Within the framework of the program, the Employment Service Center will offer social work services to those aged and will be paid compensation.\" While the main ideas are captured, some nuances were missed. The term \"compensation\" doesn\\'t fully reflect the support aspect intended in Mongolian. Additionally, clarity could be improved by restructuring.\\n\\nInitial Translated version: Within the framework of the program, the Employment Service Center will offer social work services to those aged and will be paid compensation.\\n\\nKey Meaning-Related Challenges:\\n1. Ensuring \"compensation\" accurately reflects the intended support.\\n2. Clarifying the structure for better readability without losing meaning.\\n\\nTranslation Rationale:\\nThe refined translation adjusts \"will offer\" to \"provides,\" enhancing formality and clarity. It also specifies \"services for the elderly\" and ensures \"compensation\" aligns with Mongolian terminology regarding support.\\n\\nRefined Translation: Within the framework of the program, the Employment Service Center provides social work services for the elderly and offers compensation.\\n\\nBacktranslation:\\nХөтөлбөрийн хүрэенд энэ насны иргэдэд Хөдөлмөр эрхлэлтийн үйлчилгээний төвөс нийгмийн үйлчилгээний чиглэлээр ажил санал болгож, хийсэн ажилд нь хөлс урамшуулал олгох аж\\n\\nMeaning Divergence Analysis:\\nThe backtranslation matches the original text exactly, confirming accuracy. No divergences found.',\n",
       " 'final_answer': 'Within the framework of the program, the Employment Service Center provides social work services for the elderly and offers compensation.',\n",
       " 'score': '0.8'}"
      ]
     },
     "execution_count": 5,
     "metadata": {},
     "output_type": "execute_result"
    }
   ],
   "source": [
    "#%%\n",
    "\n",
    "def extract_content(response_text):\n",
    "    content = {}\n",
    "    reasoning_pattern         = r\"<reasoning>(.*?)</reasoning>\"\n",
    "    final_answer_pattern      = r\"<final_answer>(.*?)</final_answer>\"\n",
    "    score_pattern             = r\"<score>(.*?)</score>\"\n",
    "    content[\"reasoning\"     ] = re.search(reasoning_pattern, response_text, re.DOTALL).group(1).strip() if re.search(reasoning_pattern, response_text, re.DOTALL) else None\n",
    "    content[\"final_answer\"  ] = re.search(final_answer_pattern, response_text, re.DOTALL).group(1).strip() if re.search(final_answer_pattern, response_text, re.DOTALL) else None\n",
    "    content[\"score\"         ] = re.search(score_pattern, response_text, re.DOTALL).group(1).strip() if re.search(score_pattern, response_text, re.DOTALL) else None\n",
    "    return content\n",
    "\n",
    "response_json = extract_content(response_text=response)\n",
    "response_json"
   ]
  },
  {
   "cell_type": "code",
   "execution_count": null,
   "id": "ddbf2b66-ff91-4f8a-ae59-93774449e5a5",
   "metadata": {},
   "outputs": [
    {
     "name": "stdout",
     "output_type": "stream",
     "text": [
      "Overall Meaning: The text discusses the framework of a program where an employment service center provides social work services for the elderly and offers compensation.\n",
      "\n",
      "Initial Translation Evaluation & Accuracy-Centric Quality Score:\n",
      "The initial translation was \"Within the framework of the program, the Employment Service Center will offer social work services to those aged and will be paid compensation.\" While the main ideas are captured, some nuances were missed. The term \"compensation\" doesn't fully reflect the support aspect intended in Mongolian. Additionally, clarity could be improved by restructuring.\n",
      "\n",
      "Initial Translated version: Within the framework of the program, the Employment Service Center will offer social work services to those aged and will be paid compensation.\n",
      "\n",
      "Key Meaning-Related Challenges:\n",
      "1. Ensuring \"compensation\" accurately reflects the intended support.\n",
      "2. Clarifying the structure for better readability without losing meaning.\n",
      "\n",
      "Translation Rationale:\n",
      "The refined translation adjusts \"will offer\" to \"provides,\" enhancing formality and clarity. It also specifies \"services for the elderly\" and ensures \"compensation\" aligns with Mongolian terminology regarding support.\n",
      "\n",
      "Refined Translation: Within the framework of the program, the Employment Service Center provides social work services for the elderly and offers compensation.\n",
      "\n",
      "Backtranslation:\n",
      "Хөтөлбөрийн хүрэенд энэ насны иргэдэд Хөдөлмөр эрхлэлтийн үйлчилгээний төвөс нийгмийн үйлчилгээний чиглэлээр ажил санал болгож, хийсэн ажилд нь хөлс урамшуулал олгох аж\n",
      "\n",
      "Meaning Divergence Analysis:\n",
      "The backtranslation matches the original text exactly, confirming accuracy. No divergences found.\n"
     ]
    }
   ],
   "source": [
    "#%%\n",
    "\n",
    "print(response_json['reasoning'])"
   ]
  },
  {
   "cell_type": "code",
   "execution_count": null,
   "id": "c847164e-60b0-40be-8714-8ef001d281d5",
   "metadata": {},
   "outputs": [
    {
     "name": "stdout",
     "output_type": "stream",
     "text": [
      "Within the framework of the program, the Employment Service Center provides social work services for the elderly and offers compensation.\n"
     ]
    }
   ],
   "source": [
    "#%%\n",
    "\n",
    "print(response_json['final_answer'])"
   ]
  },
  {
   "cell_type": "code",
   "execution_count": null,
   "id": "538a7ea4-6ad4-478b-af18-fc3016b2bad1",
   "metadata": {},
   "outputs": [
    {
     "name": "stdout",
     "output_type": "stream",
     "text": [
      "0.8\n"
     ]
    }
   ],
   "source": [
    "#%%\n",
    "\n",
    "print(response_json['score'])"
   ]
  },
  {
   "cell_type": "code",
   "execution_count": null,
   "id": "a7bf2df4-f85e-453d-9a78-ab295383283b",
   "metadata": {},
   "outputs": [
    {
     "name": "stdout",
     "output_type": "stream",
     "text": [
      "### Translation Pair ###\n",
      "Mongolian : Хөтөлбөрийн хүрээнд энэ насны иргэдэд Хөдөлмөр эрхлэлтийн үйлчилгээний төвөөс нийгмийн үйлчилгээний чиглэлээр ажил санал болгож, хийсэн ажилд нь хөлс урамшуулал олгох аж\n",
      "English   : Within the framework of the program, the Employment Service Center will offer social work services to those aged and will be paid compensation.\n",
      "### Evalution and improvements ###\n",
      "quality score : 0.8\n",
      "improved      : Within the framework of the program, the Employment Service Center provides social work services for the elderly and offers compensation.\n"
     ]
    }
   ],
   "source": [
    "#%%\n",
    "\n",
    "print(\"### Translation Pair ###\")\n",
    "print(f\"Mongolian : {translation_pair[0]}\")\n",
    "print(f\"English   : {translation_pair[1]}\")\n",
    "\n",
    "print(f\"### Evalution and improvements ###\")\n",
    "print(f\"quality score : {response_json['score']}\")\n",
    "print(f\"improved      : {response_json['final_answer']}\")"
   ]
  }
 ],
 "metadata": {
  "language_info": {
   "codemirror_mode": {
    "name": "ipython",
    "version": 3
   },
   "file_extension": ".py",
   "mimetype": "text/x-python",
   "name": "python",
   "nbconvert_exporter": "python",
   "pygments_lexer": "ipython3",
   "version": 3
  }
 },
 "nbformat": 4,
 "nbformat_minor": 2
}
