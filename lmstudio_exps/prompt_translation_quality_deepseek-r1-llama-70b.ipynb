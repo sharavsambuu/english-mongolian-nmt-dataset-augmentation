{
  "nbformat": 4,
  "nbformat_minor": 0,
  "metadata": {
    "colab": {
      "provenance": []
    },
    "kernelspec": {
      "name": "python3",
      "display_name": "Python 3"
    },
    "language_info": {
      "name": "python"
    }
  },
  "cells": [
    {
      "cell_type": "markdown",
      "source": [
        "https://console.groq.com/docs/api-reference\n",
        "\n",
        "https://www.youtube.com/watch?v=1SsPNc2zldM\n",
        "\n",
        "\n"
      ],
      "metadata": {
        "id": "p0wYsVZFq1ih"
      }
    },
    {
      "cell_type": "code",
      "execution_count": 11,
      "metadata": {
        "colab": {
          "base_uri": "https://localhost:8080/"
        },
        "id": "yzB5vhzFqQp9",
        "outputId": "32177717-2111-4a31-896e-c35c43537ba7"
      },
      "outputs": [
        {
          "output_type": "stream",
          "name": "stdout",
          "text": [
            "Requirement already satisfied: groq in /usr/local/lib/python3.11/dist-packages (0.17.0)\n",
            "Requirement already satisfied: anyio<5,>=3.5.0 in /usr/local/lib/python3.11/dist-packages (from groq) (3.7.1)\n",
            "Requirement already satisfied: distro<2,>=1.7.0 in /usr/local/lib/python3.11/dist-packages (from groq) (1.9.0)\n",
            "Requirement already satisfied: httpx<1,>=0.23.0 in /usr/local/lib/python3.11/dist-packages (from groq) (0.28.1)\n",
            "Requirement already satisfied: pydantic<3,>=1.9.0 in /usr/local/lib/python3.11/dist-packages (from groq) (2.10.6)\n",
            "Requirement already satisfied: sniffio in /usr/local/lib/python3.11/dist-packages (from groq) (1.3.1)\n",
            "Requirement already satisfied: typing-extensions<5,>=4.10 in /usr/local/lib/python3.11/dist-packages (from groq) (4.12.2)\n",
            "Requirement already satisfied: idna>=2.8 in /usr/local/lib/python3.11/dist-packages (from anyio<5,>=3.5.0->groq) (3.10)\n",
            "Requirement already satisfied: certifi in /usr/local/lib/python3.11/dist-packages (from httpx<1,>=0.23.0->groq) (2024.12.14)\n",
            "Requirement already satisfied: httpcore==1.* in /usr/local/lib/python3.11/dist-packages (from httpx<1,>=0.23.0->groq) (1.0.7)\n",
            "Requirement already satisfied: h11<0.15,>=0.13 in /usr/local/lib/python3.11/dist-packages (from httpcore==1.*->httpx<1,>=0.23.0->groq) (0.14.0)\n",
            "Requirement already satisfied: annotated-types>=0.6.0 in /usr/local/lib/python3.11/dist-packages (from pydantic<3,>=1.9.0->groq) (0.7.0)\n",
            "Requirement already satisfied: pydantic-core==2.27.2 in /usr/local/lib/python3.11/dist-packages (from pydantic<3,>=1.9.0->groq) (2.27.2)\n"
          ]
        }
      ],
      "source": [
        "!pip install groq"
      ]
    },
    {
      "cell_type": "code",
      "source": [
        "import os, json, re\n",
        "from groq import Groq"
      ],
      "metadata": {
        "id": "OHZsepGXqbWX"
      },
      "execution_count": 12,
      "outputs": []
    },
    {
      "cell_type": "code",
      "source": [
        "client = Groq(\n",
        "    api_key=\"\"\n",
        ")"
      ],
      "metadata": {
        "id": "eJcPBYr6qbYb"
      },
      "execution_count": 13,
      "outputs": []
    },
    {
      "cell_type": "code",
      "source": [
        "translation_pair = [\n",
        "    \"Хөтөлбөрийн хүрээнд энэ насны иргэдэд Хөдөлмөр эрхлэлтийн үйлчилгээний төвөөс нийгмийн үйлчилгээний чиглэлээр ажил санал болгож, хийсэн ажилд нь хөлс урамшуулал олгох аж\",\n",
        "    \"Within the framework of the program, the Employment Service Center will offer social work services to those aged and will be paid compensation.\"\n",
        "]\n",
        "llm_name = \"deepseek-r1-distill-llama-70b\" #\"llama-3.3-70b-versatile\"\n",
        "response = client.chat.completions.create(\n",
        "    messages=[\n",
        "        {\n",
        "            \"role\": \"system\",\n",
        "            \"content\": \"You are a knowledgeable, efficient, and direct Al assistant. You are also fluent in English and Mongolian languages.\"\n",
        "        },\n",
        "        {\n",
        "            \"role\": \"user\",\n",
        "            \"content\": f\"\"\"\n",
        "You are a highly skilled Mongolian-to-English translator. Your primary goal is to produce accurate and clear English translations of Mongolian text. Meaning accuracy is your top priority. While fluency in English is important, it should never compromise the original meaning of the source text.\n",
        "\n",
        "**Translation Process:**\n",
        "\n",
        "1. **Analyze:** Carefully examine the Mongolian text to understand its meaning, context, and purpose.\n",
        "2. **Evaluate Initial Translation:** Assess the provided English translation, focusing on meaning accuracy and clarity.\n",
        "3. **Assign Accuracy Score:** Assign a score from 0.0 (completely inaccurate) to 1.0 (perfectly accurate) based solely on how well the initial translation preserves the meaning of the original text.\n",
        "4. **Translate:** Create a refined English translation that accurately conveys the original meaning.\n",
        "5. **Backtranslate:** Translate your refined English translation back into Mongolian.\n",
        "6. **Validate:** Compare the backtranslation to the original Mongolian text. If there are any meaning discrepancies, revise your English translation to ensure perfect accuracy.\n",
        "\n",
        "**Handling Unknown Words:**\n",
        "\n",
        "If you encounter a Mongolian word that cannot be directly translated, transliterate it using a standard Mongolian-to-English transliteration system. Indicate this in your reasoning.\n",
        "\n",
        "**Ambiguity:**\n",
        "\n",
        "If the Mongolian text is ambiguous, try to preserve that ambiguity in your English translation if possible. If not, choose the most likely interpretation based on context and explain your choice in your reasoning.\n",
        "\n",
        "**Reasoning Documentation (within `<reasoning>` tag):**\n",
        "\n",
        "1. **Overall Meaning and Context:** Briefly describe the main idea and context of the Mongolian text.\n",
        "2. **Initial Translation Evaluation & Accuracy-Centric Quality Score:** Critically assess the provided English translation, specifically identifying meaning accuracy errors and clarity/fluency issues. Assign a quality score from 0.0 to 1.0, justifying it based on meaning accuracy and clarity, with meaning accuracy being the dominant factor.\n",
        "3. **Initial Translated version:** Provide initally translated text.\n",
        "4. **Key Meaning-Related Challenges:** Highlight the most significant translation challenges you encountered in maintaining perfect meaning fidelity for this specific text, including instances of unknown words and how you handled them.\n",
        "5. **Translation Rationale:** Briefly explain the reasoning behind your translation choices.\n",
        "6. **Refined translation:** Provide your refined english translation of the `final_answer`.\n",
        "7. **Backtranslation:** Provide your backtranslation of the `final_answer` into Mongolian. You also print backtranslated text here.\n",
        "8. **Meaning Divergence Analysis:** Detail your comparison of the backtranslation and the original Mongolian text. Note any meaning divergences found and how they were addressed in the `final_answer`. If no divergences were found, explicitly state that.\n",
        "9. **Backtranslation doesn't match:** If the backtranslation doesn't match, suggest your best translation attempt here, also don't forget best translation attempt. If the previous step doesn't find significant backtranslation divergence, you can leave this step empty.\n",
        "\n",
        "**Output Format:**\n",
        "\n",
        "Your response must contain the following tags, and only one of each:\n",
        "\n",
        "*   `<reasoning>`\n",
        "*   `<final_answer>`\n",
        "*   `<score>`\n",
        "\n",
        "**Do not include any text outside of these tags. Do not use any markdown formatting within the tags. The content of each tag should be plain text, except for the `<output>` tag, which should contain only valid JSON.**\n",
        "\n",
        "**Example of Correct Output Format:**\n",
        "\n",
        "```\n",
        "<reasoning>\n",
        "Overall Meaning: ...\n",
        "Initial Translation Evaluation: ...\n",
        "Inital Translated version\n",
        "Accuracy Score: ...\n",
        "Translation Challenges: ...\n",
        "Translation Rationale: ...\n",
        "Refined Translation: ...\n",
        "Backtranslation: ...\n",
        "Meaning Divergence Analysis: ...\n",
        "</reasoning>\n",
        "\n",
        "<final_answer>\n",
        "... (Your final, accurate English translation)\n",
        "</final_answer>\n",
        "\n",
        "<score>\n",
        "    0.4 (Your assessed score for first translation pair)\n",
        "</score>\n",
        "```\n",
        "\n",
        "**Mongolian Text:** {translation_pair[0]}\n",
        "\n",
        "**English Translation:** {translation_pair[1]}\n",
        "              \"\"\",\n",
        "        }\n",
        "    ],\n",
        "    model=f\"{llm_name}\",\n",
        ")\n",
        "\n",
        "print(response)"
      ],
      "metadata": {
        "id": "yvsV7cnEqbad",
        "colab": {
          "base_uri": "https://localhost:8080/"
        },
        "outputId": "f79d9b96-4365-4ad7-fc36-f25c5b3dbb95"
      },
      "execution_count": 14,
      "outputs": [
        {
          "output_type": "stream",
          "name": "stdout",
          "text": [
            "ChatCompletion(id='chatcmpl-11a4171b-a09e-4f55-a6d8-af3d06ecd095', choices=[Choice(finish_reason='stop', index=0, logprobs=None, message=ChatCompletionMessage(content='<think>\\nAlright, let me break down how I approached this translation task. The Mongolian text provided is: \"Хөтөлбөрийн хүрээнд энэ насны иргэдэд Хөдөлмөр эрхлэлтийн үйлчилгээний төвөөс нийгмийн үйлчилгээний чиглэлээр ажил санал болгож, хийсэн ажилд нь хөлс урамшуулал олгох аж\". \\n\\nFirst, I analyzed the text to understand its context and purpose. It seems to be discussing a program aimed at providing employment services to elderly citizens, offering them work opportunities in the social service sector and compensating them for their efforts.\\n\\nNext, I evaluated the initial English translation provided: \"Within the framework of the program, the Employment Service Center will offer social work services to those aged and will be paid compensation.\" I noticed a few issues here. The phrase \"those aged\" is a bit vague and might not accurately represent \"энэ насны иргэдэд,\" which specifically refers to elderly citizens. Also, \"will offer social work services\" could be misleading because it\\'s the citizens who are performing the services, not the center offering them. The structure of the sentence might confuse the roles, making it seem like the center is providing services rather than the elderly doing the work. Therefore, the initial translation doesn\\'t fully capture the original meaning, leading me to assign it a lower accuracy score of 0.4.\\n\\nMoving on to my refined translation, I focused on maintaining the original meaning accurately. I translated it as: \"Under the program, the Employment Service Center will provide job opportunities in the social service sector for elderly citizens, and they will receive salary and incentives for the work they perform.\" This version clearly states that the center offers job opportunities, specifies the target group as elderly citizens, and clarifies that they receive compensation for their work.\\n\\nI then backtranslated my refined version to Mongolian to ensure it aligns with the original text. The backtranslation is: \"Хөтөлбөрийн хүрээнд, Хөдөлмөр эрхлэлтийн үйлчилгээний төв нийгмийн үйлчилгээний салбарт өрхийн иргэдэд ажлын боломжийг үзүүлж, тэдний гүйцэтгэсэн ажилд хөлс, урамшуулал олгоно.\" Comparing this backtranslation to the original, I noticed slight differences in wording but confirmed that the overall meaning remains intact.\\n\\nIn summary, while the initial translation had some inaccuracies, my refined version accurately conveys the original Mongolian text\\'s intent and meaning, ensuring clarity and precision.\\n</think>\\n\\n<reasoning>\\nOverall Meaning and Context: The Mongolian text discusses a program where the Employment Service Center provides job opportunities in the social service sector for elderly citizens, offering them compensation for their work.\\n\\nInitial Translation Evaluation & Accuracy-Centric Quality Score: The initial translation had some meaning accuracy issues, such as the vague term \"those aged\" and a confusing sentence structure. Assigned score: 0.4.\\n\\nKey Meaning-Related Challenges: The phrase \"энэ насны иргэдэд\" was inaccurately translated, and the sentence structure made it seem like the center was offering services rather than job opportunities.\\n\\nTranslation Rationale: I focused on clarity and accuracy, ensuring the target group and the center\\'s role were clear.\\n\\nRefined Translation: Under the program, the Employment Service Center will provide job opportunities in the social service sector for elderly citizens, and they will receive salary and incentives for the work they perform.\\n\\nBacktranslation: Хөтөлбөрийн хүрээнд, Хөдөлмөр эрхлэлтийн үйлчилгээний төв нийгмийн үйлчилгээний салбарт өрхийн иргэдэд ажлын боломжийг үзүүлж, тэдний гүйцэтгэсэн ажилд хөлс, урамшуулал олгоно.\\n\\nMeaning Divergence Analysis: The backtranslation closely matches the original, with minor wording differences but the same overall meaning.\\n</reasoning>\\n\\n<final_answer>\\nUnder the program, the Employment Service Center will provide job opportunities in the social service sector for elderly citizens, and they will receive salary and incentives for the work they perform.\\n</final_answer>\\n\\n<score>\\n0.4\\n</score>', role='assistant', function_call=None, reasoning=None, tool_calls=None))], created=1738640217, model='deepseek-r1-distill-llama-70b', object='chat.completion', system_fingerprint='fp_af2982c95d', usage=CompletionUsage(completion_tokens=1065, prompt_tokens=995, total_tokens=2060, completion_time=3.8727272729999997, prompt_time=0.047071752, queue_time=0.022081697000000004, total_time=3.919799025), x_groq={'id': 'req_01jk7ggnapfyqtfmzq5thtssce'})\n"
          ]
        }
      ]
    },
    {
      "cell_type": "code",
      "source": [
        "content = response.choices[0].message.content\n",
        "print(content)"
      ],
      "metadata": {
        "id": "0CUUAtKT-PUt",
        "colab": {
          "base_uri": "https://localhost:8080/"
        },
        "outputId": "baa8a0df-1f85-4f49-ef5d-5c7e7c1ce8f5"
      },
      "execution_count": 16,
      "outputs": [
        {
          "output_type": "stream",
          "name": "stdout",
          "text": [
            "<think>\n",
            "Alright, let me break down how I approached this translation task. The Mongolian text provided is: \"Хөтөлбөрийн хүрээнд энэ насны иргэдэд Хөдөлмөр эрхлэлтийн үйлчилгээний төвөөс нийгмийн үйлчилгээний чиглэлээр ажил санал болгож, хийсэн ажилд нь хөлс урамшуулал олгох аж\". \n",
            "\n",
            "First, I analyzed the text to understand its context and purpose. It seems to be discussing a program aimed at providing employment services to elderly citizens, offering them work opportunities in the social service sector and compensating them for their efforts.\n",
            "\n",
            "Next, I evaluated the initial English translation provided: \"Within the framework of the program, the Employment Service Center will offer social work services to those aged and will be paid compensation.\" I noticed a few issues here. The phrase \"those aged\" is a bit vague and might not accurately represent \"энэ насны иргэдэд,\" which specifically refers to elderly citizens. Also, \"will offer social work services\" could be misleading because it's the citizens who are performing the services, not the center offering them. The structure of the sentence might confuse the roles, making it seem like the center is providing services rather than the elderly doing the work. Therefore, the initial translation doesn't fully capture the original meaning, leading me to assign it a lower accuracy score of 0.4.\n",
            "\n",
            "Moving on to my refined translation, I focused on maintaining the original meaning accurately. I translated it as: \"Under the program, the Employment Service Center will provide job opportunities in the social service sector for elderly citizens, and they will receive salary and incentives for the work they perform.\" This version clearly states that the center offers job opportunities, specifies the target group as elderly citizens, and clarifies that they receive compensation for their work.\n",
            "\n",
            "I then backtranslated my refined version to Mongolian to ensure it aligns with the original text. The backtranslation is: \"Хөтөлбөрийн хүрээнд, Хөдөлмөр эрхлэлтийн үйлчилгээний төв нийгмийн үйлчилгээний салбарт өрхийн иргэдэд ажлын боломжийг үзүүлж, тэдний гүйцэтгэсэн ажилд хөлс, урамшуулал олгоно.\" Comparing this backtranslation to the original, I noticed slight differences in wording but confirmed that the overall meaning remains intact.\n",
            "\n",
            "In summary, while the initial translation had some inaccuracies, my refined version accurately conveys the original Mongolian text's intent and meaning, ensuring clarity and precision.\n",
            "</think>\n",
            "\n",
            "<reasoning>\n",
            "Overall Meaning and Context: The Mongolian text discusses a program where the Employment Service Center provides job opportunities in the social service sector for elderly citizens, offering them compensation for their work.\n",
            "\n",
            "Initial Translation Evaluation & Accuracy-Centric Quality Score: The initial translation had some meaning accuracy issues, such as the vague term \"those aged\" and a confusing sentence structure. Assigned score: 0.4.\n",
            "\n",
            "Key Meaning-Related Challenges: The phrase \"энэ насны иргэдэд\" was inaccurately translated, and the sentence structure made it seem like the center was offering services rather than job opportunities.\n",
            "\n",
            "Translation Rationale: I focused on clarity and accuracy, ensuring the target group and the center's role were clear.\n",
            "\n",
            "Refined Translation: Under the program, the Employment Service Center will provide job opportunities in the social service sector for elderly citizens, and they will receive salary and incentives for the work they perform.\n",
            "\n",
            "Backtranslation: Хөтөлбөрийн хүрээнд, Хөдөлмөр эрхлэлтийн үйлчилгээний төв нийгмийн үйлчилгээний салбарт өрхийн иргэдэд ажлын боломжийг үзүүлж, тэдний гүйцэтгэсэн ажилд хөлс, урамшуулал олгоно.\n",
            "\n",
            "Meaning Divergence Analysis: The backtranslation closely matches the original, with minor wording differences but the same overall meaning.\n",
            "</reasoning>\n",
            "\n",
            "<final_answer>\n",
            "Under the program, the Employment Service Center will provide job opportunities in the social service sector for elderly citizens, and they will receive salary and incentives for the work they perform.\n",
            "</final_answer>\n",
            "\n",
            "<score>\n",
            "0.4\n",
            "</score>\n"
          ]
        }
      ]
    },
    {
      "cell_type": "code",
      "source": [
        "def extract_content(response_text):\n",
        "    content = {}\n",
        "    reasoning_pattern         = r\"<reasoning>(.*?)</reasoning>\"\n",
        "    final_answer_pattern      = r\"<final_answer>(.*?)</final_answer>\"\n",
        "    score_pattern             = r\"<score>(.*?)</score>\"\n",
        "    content[\"reasoning\"     ] = re.search(reasoning_pattern, response_text, re.DOTALL).group(1).strip() if re.search(reasoning_pattern, response_text, re.DOTALL) else None\n",
        "    content[\"final_answer\"  ] = re.search(final_answer_pattern, response_text, re.DOTALL).group(1).strip() if re.search(final_answer_pattern, response_text, re.DOTALL) else None\n",
        "    content[\"score\"         ] = re.search(score_pattern, response_text, re.DOTALL).group(1).strip() if re.search(score_pattern, response_text, re.DOTALL) else None\n",
        "    return content\n",
        "\n",
        "response_json = extract_content(response_text=content)\n",
        "response_json"
      ],
      "metadata": {
        "colab": {
          "base_uri": "https://localhost:8080/"
        },
        "id": "JkppjJ-c-PZR",
        "outputId": "e5a41888-2b23-410f-a4f4-c25c5c37e036"
      },
      "execution_count": 17,
      "outputs": [
        {
          "output_type": "execute_result",
          "data": {
            "text/plain": [
              "{'reasoning': 'Overall Meaning and Context: The Mongolian text discusses a program where the Employment Service Center provides job opportunities in the social service sector for elderly citizens, offering them compensation for their work.\\n\\nInitial Translation Evaluation & Accuracy-Centric Quality Score: The initial translation had some meaning accuracy issues, such as the vague term \"those aged\" and a confusing sentence structure. Assigned score: 0.4.\\n\\nKey Meaning-Related Challenges: The phrase \"энэ насны иргэдэд\" was inaccurately translated, and the sentence structure made it seem like the center was offering services rather than job opportunities.\\n\\nTranslation Rationale: I focused on clarity and accuracy, ensuring the target group and the center\\'s role were clear.\\n\\nRefined Translation: Under the program, the Employment Service Center will provide job opportunities in the social service sector for elderly citizens, and they will receive salary and incentives for the work they perform.\\n\\nBacktranslation: Хөтөлбөрийн хүрээнд, Хөдөлмөр эрхлэлтийн үйлчилгээний төв нийгмийн үйлчилгээний салбарт өрхийн иргэдэд ажлын боломжийг үзүүлж, тэдний гүйцэтгэсэн ажилд хөлс, урамшуулал олгоно.\\n\\nMeaning Divergence Analysis: The backtranslation closely matches the original, with minor wording differences but the same overall meaning.',\n",
              " 'final_answer': 'Under the program, the Employment Service Center will provide job opportunities in the social service sector for elderly citizens, and they will receive salary and incentives for the work they perform.',\n",
              " 'score': '0.4'}"
            ]
          },
          "metadata": {},
          "execution_count": 17
        }
      ]
    },
    {
      "cell_type": "code",
      "source": [
        "print(response_json['reasoning'])"
      ],
      "metadata": {
        "colab": {
          "base_uri": "https://localhost:8080/"
        },
        "id": "hG1CTJ80-PbL",
        "outputId": "8e47250c-1a93-4856-b01b-071b962018f8"
      },
      "execution_count": 18,
      "outputs": [
        {
          "output_type": "stream",
          "name": "stdout",
          "text": [
            "Overall Meaning and Context: The Mongolian text discusses a program where the Employment Service Center provides job opportunities in the social service sector for elderly citizens, offering them compensation for their work.\n",
            "\n",
            "Initial Translation Evaluation & Accuracy-Centric Quality Score: The initial translation had some meaning accuracy issues, such as the vague term \"those aged\" and a confusing sentence structure. Assigned score: 0.4.\n",
            "\n",
            "Key Meaning-Related Challenges: The phrase \"энэ насны иргэдэд\" was inaccurately translated, and the sentence structure made it seem like the center was offering services rather than job opportunities.\n",
            "\n",
            "Translation Rationale: I focused on clarity and accuracy, ensuring the target group and the center's role were clear.\n",
            "\n",
            "Refined Translation: Under the program, the Employment Service Center will provide job opportunities in the social service sector for elderly citizens, and they will receive salary and incentives for the work they perform.\n",
            "\n",
            "Backtranslation: Хөтөлбөрийн хүрээнд, Хөдөлмөр эрхлэлтийн үйлчилгээний төв нийгмийн үйлчилгээний салбарт өрхийн иргэдэд ажлын боломжийг үзүүлж, тэдний гүйцэтгэсэн ажилд хөлс, урамшуулал олгоно.\n",
            "\n",
            "Meaning Divergence Analysis: The backtranslation closely matches the original, with minor wording differences but the same overall meaning.\n"
          ]
        }
      ]
    },
    {
      "cell_type": "code",
      "source": [
        "print(response_json['final_answer'])"
      ],
      "metadata": {
        "id": "fiQE0KC9-wIB"
      },
      "execution_count": null,
      "outputs": []
    },
    {
      "cell_type": "code",
      "source": [
        "print(response_json['score'])"
      ],
      "metadata": {
        "colab": {
          "base_uri": "https://localhost:8080/"
        },
        "id": "z_uqpGWn-wKc",
        "outputId": "3546ff0f-8492-4826-eda6-f25b3e5c9ce9"
      },
      "execution_count": 19,
      "outputs": [
        {
          "output_type": "stream",
          "name": "stdout",
          "text": [
            "0.4\n"
          ]
        }
      ]
    },
    {
      "cell_type": "code",
      "source": [
        "print(\"### Translation Pair ###\")\n",
        "print(f\"Mongolian : {translation_pair[0]}\")\n",
        "print(f\"English   : {translation_pair[1]}\")\n",
        "\n",
        "print(f\"### Evalution and improvements ###\")\n",
        "print(f\"quality score : {response_json['score']}\")\n",
        "print(f\"improved      : {response_json['final_answer']}\")"
      ],
      "metadata": {
        "colab": {
          "base_uri": "https://localhost:8080/"
        },
        "id": "bLGfJwBo-wMq",
        "outputId": "89a96b22-4f61-427d-8bc2-d1ce453e5028"
      },
      "execution_count": 20,
      "outputs": [
        {
          "output_type": "stream",
          "name": "stdout",
          "text": [
            "### Translation Pair ###\n",
            "Mongolian : Хөтөлбөрийн хүрээнд энэ насны иргэдэд Хөдөлмөр эрхлэлтийн үйлчилгээний төвөөс нийгмийн үйлчилгээний чиглэлээр ажил санал болгож, хийсэн ажилд нь хөлс урамшуулал олгох аж\n",
            "English   : Within the framework of the program, the Employment Service Center will offer social work services to those aged and will be paid compensation.\n",
            "### Evalution and improvements ###\n",
            "quality score : 0.4\n",
            "improved      : Under the program, the Employment Service Center will provide job opportunities in the social service sector for elderly citizens, and they will receive salary and incentives for the work they perform.\n"
          ]
        }
      ]
    },
    {
      "cell_type": "code",
      "source": [],
      "metadata": {
        "id": "EwSOKD-5v7J6"
      },
      "execution_count": null,
      "outputs": []
    },
    {
      "cell_type": "code",
      "source": [],
      "metadata": {
        "id": "bCuOr6LGta10"
      },
      "execution_count": null,
      "outputs": []
    },
    {
      "cell_type": "code",
      "source": [],
      "metadata": {
        "id": "-_HsfwN9ta4G"
      },
      "execution_count": null,
      "outputs": []
    }
  ]
}