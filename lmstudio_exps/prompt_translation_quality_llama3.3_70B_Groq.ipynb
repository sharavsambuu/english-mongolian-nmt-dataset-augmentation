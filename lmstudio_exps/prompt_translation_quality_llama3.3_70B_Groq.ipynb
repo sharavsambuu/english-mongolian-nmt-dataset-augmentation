{
  "nbformat": 4,
  "nbformat_minor": 0,
  "metadata": {
    "colab": {
      "provenance": []
    },
    "kernelspec": {
      "name": "python3",
      "display_name": "Python 3"
    },
    "language_info": {
      "name": "python"
    }
  },
  "cells": [
    {
      "cell_type": "markdown",
      "source": [
        "https://console.groq.com/docs/api-reference\n",
        "\n",
        "https://www.youtube.com/watch?v=1SsPNc2zldM\n",
        "\n",
        "\n"
      ],
      "metadata": {
        "id": "p0wYsVZFq1ih"
      }
    },
    {
      "cell_type": "code",
      "execution_count": 13,
      "metadata": {
        "colab": {
          "base_uri": "https://localhost:8080/"
        },
        "id": "yzB5vhzFqQp9",
        "outputId": "02a85021-bfba-4263-ddc4-1a438f5bb2d5"
      },
      "outputs": [
        {
          "output_type": "stream",
          "name": "stdout",
          "text": [
            "Requirement already satisfied: groq in /usr/local/lib/python3.11/dist-packages (0.17.0)\n",
            "Requirement already satisfied: anyio<5,>=3.5.0 in /usr/local/lib/python3.11/dist-packages (from groq) (3.7.1)\n",
            "Requirement already satisfied: distro<2,>=1.7.0 in /usr/local/lib/python3.11/dist-packages (from groq) (1.9.0)\n",
            "Requirement already satisfied: httpx<1,>=0.23.0 in /usr/local/lib/python3.11/dist-packages (from groq) (0.28.1)\n",
            "Requirement already satisfied: pydantic<3,>=1.9.0 in /usr/local/lib/python3.11/dist-packages (from groq) (2.10.6)\n",
            "Requirement already satisfied: sniffio in /usr/local/lib/python3.11/dist-packages (from groq) (1.3.1)\n",
            "Requirement already satisfied: typing-extensions<5,>=4.10 in /usr/local/lib/python3.11/dist-packages (from groq) (4.12.2)\n",
            "Requirement already satisfied: idna>=2.8 in /usr/local/lib/python3.11/dist-packages (from anyio<5,>=3.5.0->groq) (3.10)\n",
            "Requirement already satisfied: certifi in /usr/local/lib/python3.11/dist-packages (from httpx<1,>=0.23.0->groq) (2024.12.14)\n",
            "Requirement already satisfied: httpcore==1.* in /usr/local/lib/python3.11/dist-packages (from httpx<1,>=0.23.0->groq) (1.0.7)\n",
            "Requirement already satisfied: h11<0.15,>=0.13 in /usr/local/lib/python3.11/dist-packages (from httpcore==1.*->httpx<1,>=0.23.0->groq) (0.14.0)\n",
            "Requirement already satisfied: annotated-types>=0.6.0 in /usr/local/lib/python3.11/dist-packages (from pydantic<3,>=1.9.0->groq) (0.7.0)\n",
            "Requirement already satisfied: pydantic-core==2.27.2 in /usr/local/lib/python3.11/dist-packages (from pydantic<3,>=1.9.0->groq) (2.27.2)\n"
          ]
        }
      ],
      "source": [
        "!pip install groq"
      ]
    },
    {
      "cell_type": "code",
      "source": [
        "import os, json, re\n",
        "from groq import Groq"
      ],
      "metadata": {
        "id": "OHZsepGXqbWX"
      },
      "execution_count": 14,
      "outputs": []
    },
    {
      "cell_type": "code",
      "source": [
        "client = Groq(\n",
        "    api_key=\"\"\n",
        ")"
      ],
      "metadata": {
        "id": "eJcPBYr6qbYb"
      },
      "execution_count": 15,
      "outputs": []
    },
    {
      "cell_type": "code",
      "source": [
        "translation_pair = [\n",
        "    \"Хөтөлбөрийн хүрээнд энэ насны иргэдэд Хөдөлмөр эрхлэлтийн үйлчилгээний төвөөс нийгмийн үйлчилгээний чиглэлээр ажил санал болгож, хийсэн ажилд нь хөлс урамшуулал олгох аж\",\n",
        "    \"Within the framework of the program, the Employment Service Center will offer social work services to those aged and will be paid compensation.\"\n",
        "]\n",
        "llm_name = \"llama-3.3-70b-versatile\"\n",
        "response = client.chat.completions.create(\n",
        "    messages=[\n",
        "        {\n",
        "            \"role\": \"system\",\n",
        "            \"content\": \"You are a knowledgeable, efficient, and direct Al assistant. You are also fluent in English and Mongolian languages.\"\n",
        "        },\n",
        "        {\n",
        "            \"role\": \"user\",\n",
        "            \"content\": f\"\"\"\n",
        "You are a highly skilled Mongolian-to-English translator. Your primary goal is to produce accurate and clear English translations of Mongolian text. Meaning accuracy is your top priority. While fluency in English is important, it should never compromise the original meaning of the source text.\n",
        "\n",
        "**Translation Process:**\n",
        "\n",
        "1. **Analyze:** Carefully examine the Mongolian text to understand its meaning, context, and purpose.\n",
        "2. **Evaluate Initial Translation:** Assess the provided English translation, focusing on meaning accuracy and clarity.\n",
        "3. **Assign Accuracy Score:** Assign a score from 0.0 (completely inaccurate) to 1.0 (perfectly accurate) based solely on how well the initial translation preserves the meaning of the original text.\n",
        "4. **Translate:** Create a refined English translation that accurately conveys the original meaning.\n",
        "5. **Backtranslate:** Translate your refined English translation back into Mongolian.\n",
        "6. **Validate:** Compare the backtranslation to the original Mongolian text. If there are any meaning discrepancies, revise your English translation to ensure perfect accuracy.\n",
        "\n",
        "**Handling Unknown Words:**\n",
        "\n",
        "If you encounter a Mongolian word that cannot be directly translated, transliterate it using a standard Mongolian-to-English transliteration system. Indicate this in your reasoning.\n",
        "\n",
        "**Ambiguity:**\n",
        "\n",
        "If the Mongolian text is ambiguous, try to preserve that ambiguity in your English translation if possible. If not, choose the most likely interpretation based on context and explain your choice in your reasoning.\n",
        "\n",
        "**Reasoning Documentation (within `<reasoning>` tag):**\n",
        "\n",
        "1. **Overall Meaning and Context:** Briefly describe the main idea and context of the Mongolian text.\n",
        "2. **Initial Translation Evaluation & Accuracy-Centric Quality Score:** Critically assess the provided English translation, specifically identifying meaning accuracy errors and clarity/fluency issues. Assign a quality score from 0.0 to 1.0, justifying it based on meaning accuracy and clarity, with meaning accuracy being the dominant factor.\n",
        "3. **Initial Translated version:** Provide initally translated text.\n",
        "4. **Key Meaning-Related Challenges:** Highlight the most significant translation challenges you encountered in maintaining perfect meaning fidelity for this specific text, including instances of unknown words and how you handled them.\n",
        "5. **Translation Rationale:** Briefly explain the reasoning behind your translation choices.\n",
        "6. **Refined translation:** Provide your refined english translation of the `final_answer`.\n",
        "7. **Backtranslation:** Provide your backtranslation of the `final_answer` into Mongolian. You also print backtranslated text here.\n",
        "8. **Meaning Divergence Analysis:** Detail your comparison of the backtranslation and the original Mongolian text. Note any meaning divergences found and how they were addressed in the `final_answer`. If no divergences were found, explicitly state that.\n",
        "9. **Backtranslation doesn't match:** If the backtranslation doesn't match, suggest your best translation attempt here, also don't forget best translation attempt. If the previous step doesn't find significant backtranslation divergence, you can leave this step empty.\n",
        "\n",
        "**Output Format:**\n",
        "\n",
        "Your response must contain the following tags, and only one of each:\n",
        "\n",
        "*   `<reasoning>`\n",
        "*   `<final_answer>`\n",
        "*   `<score>`\n",
        "\n",
        "**Do not include any text outside of these tags. Do not use any markdown formatting within the tags. The content of each tag should be plain text, except for the `<output>` tag, which should contain only valid JSON.**\n",
        "\n",
        "**Example of Correct Output Format:**\n",
        "\n",
        "```\n",
        "<reasoning>\n",
        "Overall Meaning: ...\n",
        "Initial Translation Evaluation: ...\n",
        "Inital Translated version\n",
        "Accuracy Score: ...\n",
        "Translation Challenges: ...\n",
        "Translation Rationale: ...\n",
        "Refined Translation: ...\n",
        "Backtranslation: ...\n",
        "Meaning Divergence Analysis: ...\n",
        "</reasoning>\n",
        "\n",
        "<final_answer>\n",
        "... (Your final, accurate English translation)\n",
        "</final_answer>\n",
        "\n",
        "<score>\n",
        "    0.4 (Your assessed score for first translation pair)\n",
        "</score>\n",
        "```\n",
        "\n",
        "**Mongolian Text:** {translation_pair[0]}\n",
        "\n",
        "**English Translation:** {translation_pair[1]}\n",
        "              \"\"\",\n",
        "        }\n",
        "    ],\n",
        "    model=f\"{llm_name}\",\n",
        ")\n",
        "\n",
        "print(response)"
      ],
      "metadata": {
        "id": "yvsV7cnEqbad",
        "colab": {
          "base_uri": "https://localhost:8080/"
        },
        "outputId": "293fd6d7-209a-45cf-ef5b-8cfa5aa62a44"
      },
      "execution_count": 16,
      "outputs": [
        {
          "output_type": "stream",
          "name": "stdout",
          "text": [
            "ChatCompletion(id='chatcmpl-1cbb9765-b6e4-4e85-8e85-acc827dcbd30', choices=[Choice(finish_reason='stop', index=0, logprobs=None, message=ChatCompletionMessage(content='<reasoning>\\nOverall Meaning and Context: The Mongolian text describes a program where the Employment Service Center provides social work services to elderly citizens and offers them payment or compensation for the work they do.\\n\\nInitial Translation Evaluation & Accuracy-Centric Quality Score: The initial English translation is partially accurate but lacks clarity and contains some meaning accuracy errors. For instance, it mentions \"compensation\" without specifying that it\\'s for the work done, and it doesn\\'t fully convey the essence of \"нигмийн үйлчилгээний чиглэлээр ажил\" as social work services. The quality score for the initial translation is 0.6, as it conveys the general idea but misses some crucial details and clarity.\\n\\nInitial Translated version: Within the framework of the program, the Employment Service Center will offer social work services to those aged and will be paid compensation.\\n\\nKey Meaning-Related Challenges: One of the challenges was translating \"Хөдөлмөр эрхлэлтийн үйлчилгээний төв\" into \"Employment Service Center\" to ensure it accurately reflects the role of the center in providing employment services. Another challenge was conveying \"нигмийн үйлчилгээний чиглэлээр ажил\" accurately as \"social work services\" to maintain the original meaning.\\n\\nTranslation Rationale: The translation choices were made to prioritize meaning accuracy over fluency. For example, \"Хөтөлбөрийн хүрээнд\" was translated to \"Within the framework of the program\" to maintain the context and purpose of the program. \"Нийгмийн үйлчилгээний чиглэлээр ажил\" was translated to \"social work services\" to accurately reflect the type of work being offered.\\n\\nRefined Translation: Within the framework of the program, the Employment Service Center will offer social work services to citizens of this age group, providing them with job opportunities and offering payment or compensation for the work they perform.\\n\\nBacktranslation: Хөтөлбөрийн хүрээнд энэ насны иргэдэд Хөдөлмөр эрхлэлтийн үйлчилгээний төв нийгмийн үйлчилгээний чиглэлээр ажил санал болгож, хийсэн ажилд нь хөлс урамшуулал олгох аж.\\n\\nMeaning Divergence Analysis: Upon comparing the backtranslation with the original Mongolian text, there are no significant meaning divergences found. The backtranslation accurately conveys the original meaning, purpose, and context of the program as described in the Mongolian text.\\n\\nBacktranslation doesn\\'t match: Not applicable, as the backtranslation matches the original text in meaning and context.\\n\\n</reasoning>\\n\\n<final_answer>\\nWithin the framework of the program, the Employment Service Center will offer social work services to citizens of this age group, providing them with job opportunities and offering payment or compensation for the work they perform.\\n</final_answer>\\n\\n<score>\\n0.6\\n</score>', role='assistant', function_call=None, reasoning=None, tool_calls=None))], created=1738639439, model='llama-3.3-70b-versatile', object='chat.completion', system_fingerprint='fp_fcc3b74982', usage=CompletionUsage(completion_tokens=705, prompt_tokens=1026, total_tokens=1731, completion_time=2.5636363639999997, prompt_time=0.14303738, queue_time=0.021957008, total_time=2.706673744), x_groq={'id': 'req_01jk7frxyqf3tazx3yrxw4113y'})\n"
          ]
        }
      ]
    },
    {
      "cell_type": "code",
      "source": [],
      "metadata": {
        "id": "0CUUAtKT-PUt"
      },
      "execution_count": null,
      "outputs": []
    },
    {
      "cell_type": "code",
      "source": [
        "content = response.choices[0].message.content\n",
        "\n",
        "def extract_content(response_text):\n",
        "    content = {}\n",
        "    reasoning_pattern         = r\"<reasoning>(.*?)</reasoning>\"\n",
        "    final_answer_pattern      = r\"<final_answer>(.*?)</final_answer>\"\n",
        "    score_pattern             = r\"<score>(.*?)</score>\"\n",
        "    content[\"reasoning\"     ] = re.search(reasoning_pattern, response_text, re.DOTALL).group(1).strip() if re.search(reasoning_pattern, response_text, re.DOTALL) else None\n",
        "    content[\"final_answer\"  ] = re.search(final_answer_pattern, response_text, re.DOTALL).group(1).strip() if re.search(final_answer_pattern, response_text, re.DOTALL) else None\n",
        "    content[\"score\"         ] = re.search(score_pattern, response_text, re.DOTALL).group(1).strip() if re.search(score_pattern, response_text, re.DOTALL) else None\n",
        "    return content\n",
        "\n",
        "response_json = extract_content(response_text=content)\n",
        "response_json"
      ],
      "metadata": {
        "colab": {
          "base_uri": "https://localhost:8080/"
        },
        "id": "JkppjJ-c-PZR",
        "outputId": "09923b8a-f9d9-47b3-b659-ae7935aa14e1"
      },
      "execution_count": 17,
      "outputs": [
        {
          "output_type": "execute_result",
          "data": {
            "text/plain": [
              "{'reasoning': 'Overall Meaning and Context: The Mongolian text describes a program where the Employment Service Center provides social work services to elderly citizens and offers them payment or compensation for the work they do.\\n\\nInitial Translation Evaluation & Accuracy-Centric Quality Score: The initial English translation is partially accurate but lacks clarity and contains some meaning accuracy errors. For instance, it mentions \"compensation\" without specifying that it\\'s for the work done, and it doesn\\'t fully convey the essence of \"нигмийн үйлчилгээний чиглэлээр ажил\" as social work services. The quality score for the initial translation is 0.6, as it conveys the general idea but misses some crucial details and clarity.\\n\\nInitial Translated version: Within the framework of the program, the Employment Service Center will offer social work services to those aged and will be paid compensation.\\n\\nKey Meaning-Related Challenges: One of the challenges was translating \"Хөдөлмөр эрхлэлтийн үйлчилгээний төв\" into \"Employment Service Center\" to ensure it accurately reflects the role of the center in providing employment services. Another challenge was conveying \"нигмийн үйлчилгээний чиглэлээр ажил\" accurately as \"social work services\" to maintain the original meaning.\\n\\nTranslation Rationale: The translation choices were made to prioritize meaning accuracy over fluency. For example, \"Хөтөлбөрийн хүрээнд\" was translated to \"Within the framework of the program\" to maintain the context and purpose of the program. \"Нийгмийн үйлчилгээний чиглэлээр ажил\" was translated to \"social work services\" to accurately reflect the type of work being offered.\\n\\nRefined Translation: Within the framework of the program, the Employment Service Center will offer social work services to citizens of this age group, providing them with job opportunities and offering payment or compensation for the work they perform.\\n\\nBacktranslation: Хөтөлбөрийн хүрээнд энэ насны иргэдэд Хөдөлмөр эрхлэлтийн үйлчилгээний төв нийгмийн үйлчилгээний чиглэлээр ажил санал болгож, хийсэн ажилд нь хөлс урамшуулал олгох аж.\\n\\nMeaning Divergence Analysis: Upon comparing the backtranslation with the original Mongolian text, there are no significant meaning divergences found. The backtranslation accurately conveys the original meaning, purpose, and context of the program as described in the Mongolian text.\\n\\nBacktranslation doesn\\'t match: Not applicable, as the backtranslation matches the original text in meaning and context.',\n",
              " 'final_answer': 'Within the framework of the program, the Employment Service Center will offer social work services to citizens of this age group, providing them with job opportunities and offering payment or compensation for the work they perform.',\n",
              " 'score': '0.6'}"
            ]
          },
          "metadata": {},
          "execution_count": 17
        }
      ]
    },
    {
      "cell_type": "code",
      "source": [
        "print(response_json['reasoning'])"
      ],
      "metadata": {
        "colab": {
          "base_uri": "https://localhost:8080/"
        },
        "id": "hG1CTJ80-PbL",
        "outputId": "526b8cbd-3a0d-4446-d112-20f8f7069d5e"
      },
      "execution_count": 18,
      "outputs": [
        {
          "output_type": "stream",
          "name": "stdout",
          "text": [
            "Overall Meaning and Context: The Mongolian text describes a program where the Employment Service Center provides social work services to elderly citizens and offers them payment or compensation for the work they do.\n",
            "\n",
            "Initial Translation Evaluation & Accuracy-Centric Quality Score: The initial English translation is partially accurate but lacks clarity and contains some meaning accuracy errors. For instance, it mentions \"compensation\" without specifying that it's for the work done, and it doesn't fully convey the essence of \"нигмийн үйлчилгээний чиглэлээр ажил\" as social work services. The quality score for the initial translation is 0.6, as it conveys the general idea but misses some crucial details and clarity.\n",
            "\n",
            "Initial Translated version: Within the framework of the program, the Employment Service Center will offer social work services to those aged and will be paid compensation.\n",
            "\n",
            "Key Meaning-Related Challenges: One of the challenges was translating \"Хөдөлмөр эрхлэлтийн үйлчилгээний төв\" into \"Employment Service Center\" to ensure it accurately reflects the role of the center in providing employment services. Another challenge was conveying \"нигмийн үйлчилгээний чиглэлээр ажил\" accurately as \"social work services\" to maintain the original meaning.\n",
            "\n",
            "Translation Rationale: The translation choices were made to prioritize meaning accuracy over fluency. For example, \"Хөтөлбөрийн хүрээнд\" was translated to \"Within the framework of the program\" to maintain the context and purpose of the program. \"Нийгмийн үйлчилгээний чиглэлээр ажил\" was translated to \"social work services\" to accurately reflect the type of work being offered.\n",
            "\n",
            "Refined Translation: Within the framework of the program, the Employment Service Center will offer social work services to citizens of this age group, providing them with job opportunities and offering payment or compensation for the work they perform.\n",
            "\n",
            "Backtranslation: Хөтөлбөрийн хүрээнд энэ насны иргэдэд Хөдөлмөр эрхлэлтийн үйлчилгээний төв нийгмийн үйлчилгээний чиглэлээр ажил санал болгож, хийсэн ажилд нь хөлс урамшуулал олгох аж.\n",
            "\n",
            "Meaning Divergence Analysis: Upon comparing the backtranslation with the original Mongolian text, there are no significant meaning divergences found. The backtranslation accurately conveys the original meaning, purpose, and context of the program as described in the Mongolian text.\n",
            "\n",
            "Backtranslation doesn't match: Not applicable, as the backtranslation matches the original text in meaning and context.\n"
          ]
        }
      ]
    },
    {
      "cell_type": "code",
      "source": [
        "print(response_json['final_answer'])"
      ],
      "metadata": {
        "colab": {
          "base_uri": "https://localhost:8080/"
        },
        "id": "fiQE0KC9-wIB",
        "outputId": "07a448fd-abfe-4ee1-e777-1a242eb45782"
      },
      "execution_count": 19,
      "outputs": [
        {
          "output_type": "stream",
          "name": "stdout",
          "text": [
            "Within the framework of the program, the Employment Service Center will offer social work services to citizens of this age group, providing them with job opportunities and offering payment or compensation for the work they perform.\n"
          ]
        }
      ]
    },
    {
      "cell_type": "code",
      "source": [
        "print(response_json['score'])"
      ],
      "metadata": {
        "colab": {
          "base_uri": "https://localhost:8080/"
        },
        "id": "z_uqpGWn-wKc",
        "outputId": "6c1260c9-bb87-47ca-c738-c750355b7ee3"
      },
      "execution_count": 20,
      "outputs": [
        {
          "output_type": "stream",
          "name": "stdout",
          "text": [
            "0.6\n"
          ]
        }
      ]
    },
    {
      "cell_type": "code",
      "source": [
        "print(\"### Translation Pair ###\")\n",
        "print(f\"Mongolian : {translation_pair[0]}\")\n",
        "print(f\"English   : {translation_pair[1]}\")\n",
        "\n",
        "print(f\"### Evalution and improvements ###\")\n",
        "print(f\"quality score : {response_json['score']}\")\n",
        "print(f\"improved      : {response_json['final_answer']}\")"
      ],
      "metadata": {
        "colab": {
          "base_uri": "https://localhost:8080/"
        },
        "id": "bLGfJwBo-wMq",
        "outputId": "3113bfb5-b7f1-4aab-ab4b-3e3623a12abf"
      },
      "execution_count": 21,
      "outputs": [
        {
          "output_type": "stream",
          "name": "stdout",
          "text": [
            "### Translation Pair ###\n",
            "Mongolian : Хөтөлбөрийн хүрээнд энэ насны иргэдэд Хөдөлмөр эрхлэлтийн үйлчилгээний төвөөс нийгмийн үйлчилгээний чиглэлээр ажил санал болгож, хийсэн ажилд нь хөлс урамшуулал олгох аж\n",
            "English   : Within the framework of the program, the Employment Service Center will offer social work services to those aged and will be paid compensation.\n",
            "### Evalution and improvements ###\n",
            "quality score : 0.6\n",
            "improved      : Within the framework of the program, the Employment Service Center will offer social work services to citizens of this age group, providing them with job opportunities and offering payment or compensation for the work they perform.\n"
          ]
        }
      ]
    },
    {
      "cell_type": "code",
      "source": [],
      "metadata": {
        "id": "EwSOKD-5v7J6"
      },
      "execution_count": null,
      "outputs": []
    },
    {
      "cell_type": "code",
      "source": [],
      "metadata": {
        "id": "bCuOr6LGta10"
      },
      "execution_count": null,
      "outputs": []
    },
    {
      "cell_type": "code",
      "source": [],
      "metadata": {
        "id": "-_HsfwN9ta4G"
      },
      "execution_count": null,
      "outputs": []
    }
  ]
}