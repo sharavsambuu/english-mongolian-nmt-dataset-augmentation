{
 "cells": [
  {
   "cell_type": "code",
   "execution_count": null,
   "id": "f3fdb181-b1c2-43e2-86a1-dd914156849b",
   "metadata": {},
   "outputs": [],
   "source": [
    "#%%\n",
    "\n",
    "# Run lmstudio\n",
    "# Local Server -> Start Server\n",
    "#\n",
    "# Make sure to load the gemma3n model in the lmstudio\n",
    "#"
   ]
  },
  {
   "cell_type": "code",
   "execution_count": null,
   "id": "c59be48f-c74a-44e0-bf7e-4e3f1d8658c1",
   "metadata": {},
   "outputs": [],
   "source": [
    "#%%\n",
    "\n",
    "import requests\n",
    "import json\n",
    "import re"
   ]
  },
  {
   "cell_type": "code",
   "execution_count": null,
   "id": "0fccca74-31df-49be-96bb-fed4e842e1c3",
   "metadata": {},
   "outputs": [],
   "source": [
    "#%%\n",
    "\n",
    "llm_name = \"gemma-3n-e4b-it\"\n",
    "\n",
    "def hello_lmstudio_call(system_promtp=\"\", user_prompt=\"'\"):\n",
    "    url = 'http://localhost:1234/v1/chat/completions'\n",
    "    headers = {\n",
    "        'Content-Type': \"application/json\"\n",
    "    }\n",
    "    data = {\n",
    "        \"model\":\"lmstudio-community/{llm_name}\",\n",
    "        'messages': [\n",
    "            {'role': 'system', 'content': f\"{system_promtp}\"},\n",
    "            {'role': 'user'  , 'content': f\"{user_prompt}\"}\n",
    "        ],\n",
    "        \"temperature\" : 0.8,\n",
    "        \"max_tokens\"  : -1,\n",
    "        \"stream\"      : False\n",
    "    }\n",
    "    response = requests.post(url, headers=headers, data=json.dumps(data))\n",
    "    if response.status_code == 200:\n",
    "        try:\n",
    "            return response.json()['choices'][0]['message']['content']\n",
    "        except Exception as e:\n",
    "            return None\n",
    "    else:\n",
    "        print(f\"failed to get response : {response.status_code}, {response.text}\")\n",
    "        return None"
   ]
  },
  {
   "cell_type": "code",
   "execution_count": null,
   "id": "97dc247f-0737-446f-a9cf-224fbaaff16b",
   "metadata": {},
   "outputs": [
    {
     "name": "stdout",
     "output_type": "stream",
     "text": [
      "<reasoning>\n",
      "Overall Meaning: The Mongolian text describes a program where the Employment Service Center provides social work opportunities to people of a certain age group and offers financial incentives for their work.\n",
      "\n",
      "Initial Translation Evaluation: The initial translation is understandable but lacks clarity and precision. \"Offer social work services\" is vague. \"Paid compensation\" is also not precise enough; it should specify that these are incentives or rewards. Also, the sentence structure is awkward.\n",
      "\n",
      "Initial Translated version: Within the framework of the program, the Employment Service Center will offer social work services to those aged and will be paid compensation.\n",
      "Accuracy Score: 0.6 (The core meaning is present, but the phrasing is not natural or precise.)\n",
      "Key Meaning-Related Challenges: The phrase \"нийгмийн үйлчилгээний чиглэлээр ажил санал болгож\" requires careful translation to convey the idea of offering *opportunities* in social work, and providing incentives for the performed work.\n",
      "\n",
      "Translation Rationale: I'm aiming for a more natural and precise English translation that accurately reflects the program's purpose. I am translating \"хөлс урамшуулал\" as \"incentives\" or \"rewards,\" which is clearer than simply stating \"paid compensation.\"\n",
      "\n",
      "Refined translation: As part of the program, the Employment Service Center will provide social work opportunities to people of this age group and offer financial incentives for their work.\n",
      "Backtranslation: As part of the program, the Employment Service Center will provide social work opportunities to people of this age group and offer financial incentives for their work.\n",
      "Meaning Divergence Analysis: The backtranslation is a near-perfect match to the original Mongolian text. There are no significant meaning divergences.\n",
      "\n",
      "</reasoning>\n",
      "\n",
      "<final_answer>\n",
      "As part of the program, the Employment Service Center will provide social work opportunities to people of this age group and offer financial incentives for their work.\n",
      "</final_answer>\n",
      "\n",
      "<score>\n",
      "    0.95\n",
      "</score>\n",
      "\n"
     ]
    }
   ],
   "source": [
    "#%%\n",
    "\n",
    "system_prompt = \"\"\"\n",
    "You are a knowledgeable, efficient, and direct Al assistant. \n",
    "You are also fluent in English and Mongolian languages.\n",
    "\"\"\"\n",
    "\n",
    "translation_pair = [\n",
    "    \"Хөтөлбөрийн хүрээнд энэ насны иргэдэд Хөдөлмөр эрхлэлтийн үйлчилгээний төвөөс нийгмийн үйлчилгээний чиглэлээр ажил санал болгож, хийсэн ажилд нь хөлс урамшуулал олгох аж\",\n",
    "    \"Within the framework of the program, the Employment Service Center will offer social work services to those aged and will be paid compensation.\"\n",
    "]\n",
    "\n",
    "task_prompt = f\"\"\"\n",
    "You are a highly skilled Mongolian-to-English translator. Your primary goal is to produce accurate and clear English translations of Mongolian text. Meaning accuracy is your top priority. While fluency in English is important, it should never compromise the original meaning of the source text.\n",
    "\n",
    "**Translation Process:**\n",
    "\n",
    "1. **Analyze:** Carefully examine the Mongolian text to understand its meaning, context, and purpose.\n",
    "2. **Evaluate Initial Translation:** Assess the provided English translation, focusing on meaning accuracy and clarity.\n",
    "3. **Assign Accuracy Score:** Assign a score from 0.0 (completely inaccurate) to 1.0 (perfectly accurate) based solely on how well the initial translation preserves the meaning of the original text.\n",
    "4. **Translate:** Create a refined English translation that accurately conveys the original meaning.\n",
    "5. **Backtranslate:** Translate your refined English translation back into Mongolian.\n",
    "6. **Validate:** Compare the backtranslation to the original Mongolian text. If there are any meaning discrepancies, revise your English translation to ensure perfect accuracy.\n",
    "\n",
    "**Handling Unknown Words:**\n",
    "\n",
    "If you encounter a Mongolian word that cannot be directly translated, transliterate it using a standard Mongolian-to-English transliteration system. Indicate this in your reasoning.\n",
    "\n",
    "**Ambiguity:**\n",
    "\n",
    "If the Mongolian text is ambiguous, try to preserve that ambiguity in your English translation if possible. If not, choose the most likely interpretation based on context and explain your choice in your reasoning.\n",
    "\n",
    "**Reasoning Documentation (within `<reasoning>` tag):**\n",
    "\n",
    "1. **Overall Meaning and Context:** Briefly describe the main idea and context of the Mongolian text.\n",
    "2. **Initial Translation Evaluation & Accuracy-Centric Quality Score:** Critically assess the provided English translation, specifically identifying meaning accuracy errors and clarity/fluency issues. Assign a quality score from 0.0 to 1.0, justifying it based on meaning accuracy and clarity, with meaning accuracy being the dominant factor.\n",
    "3. **Initial Translated version:** Provide initally translated text.\n",
    "4. **Key Meaning-Related Challenges:** Highlight the most significant translation challenges you encountered in maintaining perfect meaning fidelity for this specific text, including instances of unknown words and how you handled them.\n",
    "5. **Translation Rationale:** Briefly explain the reasoning behind your translation choices.\n",
    "6. **Refined translation:** Provide your refined english translation of the `final_answer`.\n",
    "7. **Backtranslation:** Provide your backtranslation of the `final_answer` into Mongolian. You also print backtranslated text here.\n",
    "8. **Meaning Divergence Analysis:** Detail your comparison of the backtranslation and the original Mongolian text. Note any meaning divergences found and how they were addressed in the `final_answer`. If no divergences were found, explicitly state that.\n",
    "9. **Backtranslation doesn't match:** If the backtranslation doesn't match, suggest your best translation attempt here, also don't forget best translation attempt. If the previous step doesn't find significant backtranslation divergence, you can leave this step empty.\n",
    "\n",
    "**Output Format:**\n",
    "\n",
    "Your response must contain the following tags, and only one of each:\n",
    "\n",
    "*   `<reasoning>`\n",
    "*   `<final_answer>`\n",
    "*   `<score>`\n",
    "\n",
    "**Do not include any text outside of these tags. Do not use any markdown formatting within the tags. The content of each tag should be plain text, except for the `<output>` tag, which should contain only valid JSON.**\n",
    "\n",
    "**Example of Correct Output Format:**\n",
    "\n",
    "```\n",
    "<reasoning>\n",
    "Overall Meaning: ...\n",
    "Initial Translation Evaluation: ...\n",
    "Inital Translated version\n",
    "Accuracy Score: ...\n",
    "Translation Challenges: ...\n",
    "Translation Rationale: ...\n",
    "Refined Translation: ...\n",
    "Backtranslation: ...\n",
    "Meaning Divergence Analysis: ...\n",
    "</reasoning>\n",
    "\n",
    "<final_answer>\n",
    "... (Your final, accurate English translation)\n",
    "</final_answer>\n",
    "\n",
    "<score>\n",
    "    0.4 (Your assessed score for provided translation)\n",
    "</score>\n",
    "```\n",
    "\n",
    "**Mongolian Text:** {translation_pair[0]}\n",
    "\n",
    "**English Translation:** {translation_pair[1]}\n",
    "\"\"\"\n",
    "\n",
    "response = hello_lmstudio_call(system_promtp=system_prompt, user_prompt=task_prompt)\n",
    "\n",
    "print(response)"
   ]
  },
  {
   "cell_type": "code",
   "execution_count": null,
   "id": "df35f553-eb07-4e8b-a11e-db2755785633",
   "metadata": {},
   "outputs": [
    {
     "name": "stdout",
     "output_type": "stream",
     "text": [
      "<reasoning>\n",
      "Overall Meaning: The Mongolian text describes a program where the Employment Service Center provides social work opportunities to people of a certain age group and offers financial incentives for their work.\n",
      "\n",
      "Initial Translation Evaluation: The initial translation is understandable but lacks clarity and precision. \"Offer social work services\" is vague. \"Paid compensation\" is also not precise enough; it should specify that these are incentives or rewards. Also, the sentence structure is awkward.\n",
      "\n",
      "Initial Translated version: Within the framework of the program, the Employment Service Center will offer social work services to those aged and will be paid compensation.\n",
      "Accuracy Score: 0.6 (The core meaning is present, but the phrasing is not natural or precise.)\n",
      "Key Meaning-Related Challenges: The phrase \"нийгмийн үйлчилгээний чиглэлээр ажил санал болгож\" requires careful translation to convey the idea of offering *opportunities* in social work, and providing incentives for the performed work.\n",
      "\n",
      "Translation Rationale: I'm aiming for a more natural and precise English translation that accurately reflects the program's purpose. I am translating \"хөлс урамшуулал\" as \"incentives\" or \"rewards,\" which is clearer than simply stating \"paid compensation.\"\n",
      "\n",
      "Refined translation: As part of the program, the Employment Service Center will provide social work opportunities to people of this age group and offer financial incentives for their work.\n",
      "Backtranslation: As part of the program, the Employment Service Center will provide social work opportunities to people of this age group and offer financial incentives for their work.\n",
      "Meaning Divergence Analysis: The backtranslation is a near-perfect match to the original Mongolian text. There are no significant meaning divergences.\n",
      "\n",
      "</reasoning>\n",
      "\n",
      "<final_answer>\n",
      "As part of the program, the Employment Service Center will provide social work opportunities to people of this age group and offer financial incentives for their work.\n",
      "</final_answer>\n",
      "\n",
      "<score>\n",
      "    0.95\n",
      "</score>\n",
      "\n"
     ]
    }
   ],
   "source": [
    "#%%\n",
    "\n",
    "print(response)"
   ]
  },
  {
   "cell_type": "code",
   "execution_count": null,
   "id": "6479a5dc-8df3-4bee-a5c6-a94732bd8be3",
   "metadata": {},
   "outputs": [
    {
     "data": {
      "text/plain": [
       "{'reasoning': 'Overall Meaning: The Mongolian text describes a program where the Employment Service Center provides social work opportunities to people of a certain age group and offers financial incentives for their work.\\n\\nInitial Translation Evaluation: The initial translation is understandable but lacks clarity and precision. \"Offer social work services\" is vague. \"Paid compensation\" is also not precise enough; it should specify that these are incentives or rewards. Also, the sentence structure is awkward.\\n\\nInitial Translated version: Within the framework of the program, the Employment Service Center will offer social work services to those aged and will be paid compensation.\\nAccuracy Score: 0.6 (The core meaning is present, but the phrasing is not natural or precise.)\\nKey Meaning-Related Challenges: The phrase \"нийгмийн үйлчилгээний чиглэлээр ажил санал болгож\" requires careful translation to convey the idea of offering *opportunities* in social work, and providing incentives for the performed work.\\n\\nTranslation Rationale: I\\'m aiming for a more natural and precise English translation that accurately reflects the program\\'s purpose. I am translating \"хөлс урамшуулал\" as \"incentives\" or \"rewards,\" which is clearer than simply stating \"paid compensation.\"\\n\\nRefined translation: As part of the program, the Employment Service Center will provide social work opportunities to people of this age group and offer financial incentives for their work.\\nBacktranslation: As part of the program, the Employment Service Center will provide social work opportunities to people of this age group and offer financial incentives for their work.\\nMeaning Divergence Analysis: The backtranslation is a near-perfect match to the original Mongolian text. There are no significant meaning divergences.',\n",
       " 'final_answer': 'As part of the program, the Employment Service Center will provide social work opportunities to people of this age group and offer financial incentives for their work.',\n",
       " 'score': '0.95'}"
      ]
     },
     "execution_count": 6,
     "metadata": {},
     "output_type": "execute_result"
    }
   ],
   "source": [
    "#%%\n",
    "\n",
    "def extract_content(response_text):\n",
    "    content = {}\n",
    "    reasoning_pattern         = r\"<reasoning>(.*?)</reasoning>\"\n",
    "    final_answer_pattern      = r\"<final_answer>(.*?)</final_answer>\"\n",
    "    score_pattern             = r\"<score>(.*?)</score>\"\n",
    "    content[\"reasoning\"     ] = re.search(reasoning_pattern, response_text, re.DOTALL).group(1).strip() if re.search(reasoning_pattern, response_text, re.DOTALL) else None\n",
    "    content[\"final_answer\"  ] = re.search(final_answer_pattern, response_text, re.DOTALL).group(1).strip() if re.search(final_answer_pattern, response_text, re.DOTALL) else None\n",
    "    content[\"score\"         ] = re.search(score_pattern, response_text, re.DOTALL).group(1).strip() if re.search(score_pattern, response_text, re.DOTALL) else None\n",
    "    return content\n",
    "\n",
    "response_json = extract_content(response_text=response)\n",
    "response_json"
   ]
  },
  {
   "cell_type": "code",
   "execution_count": null,
   "id": "a5e7cb78-c2cf-49a1-a453-140ea51a148e",
   "metadata": {},
   "outputs": [
    {
     "name": "stdout",
     "output_type": "stream",
     "text": [
      "{'reasoning': 'Overall Meaning: The Mongolian text describes a program where the Employment Service Center provides social work opportunities to people of a certain age group and offers financial incentives for their work.\\n\\nInitial Translation Evaluation: The initial translation is understandable but lacks clarity and precision. \"Offer social work services\" is vague. \"Paid compensation\" is also not precise enough; it should specify that these are incentives or rewards. Also, the sentence structure is awkward.\\n\\nInitial Translated version: Within the framework of the program, the Employment Service Center will offer social work services to those aged and will be paid compensation.\\nAccuracy Score: 0.6 (The core meaning is present, but the phrasing is not natural or precise.)\\nKey Meaning-Related Challenges: The phrase \"нийгмийн үйлчилгээний чиглэлээр ажил санал болгож\" requires careful translation to convey the idea of offering *opportunities* in social work, and providing incentives for the performed work.\\n\\nTranslation Rationale: I\\'m aiming for a more natural and precise English translation that accurately reflects the program\\'s purpose. I am translating \"хөлс урамшуулал\" as \"incentives\" or \"rewards,\" which is clearer than simply stating \"paid compensation.\"\\n\\nRefined translation: As part of the program, the Employment Service Center will provide social work opportunities to people of this age group and offer financial incentives for their work.\\nBacktranslation: As part of the program, the Employment Service Center will provide social work opportunities to people of this age group and offer financial incentives for their work.\\nMeaning Divergence Analysis: The backtranslation is a near-perfect match to the original Mongolian text. There are no significant meaning divergences.', 'final_answer': 'As part of the program, the Employment Service Center will provide social work opportunities to people of this age group and offer financial incentives for their work.', 'score': '0.95'}\n"
     ]
    }
   ],
   "source": [
    "#%%\n",
    "\n",
    "print(response_json)"
   ]
  },
  {
   "cell_type": "code",
   "execution_count": null,
   "id": "7001b381-50ff-445d-bab0-3c1cc3eb2bc7",
   "metadata": {},
   "outputs": [
    {
     "name": "stdout",
     "output_type": "stream",
     "text": [
      "Overall Meaning: The Mongolian text describes a program where the Employment Service Center provides social work opportunities to people of a certain age group and offers financial incentives for their work.\n",
      "\n",
      "Initial Translation Evaluation: The initial translation is understandable but lacks clarity and precision. \"Offer social work services\" is vague. \"Paid compensation\" is also not precise enough; it should specify that these are incentives or rewards. Also, the sentence structure is awkward.\n",
      "\n",
      "Initial Translated version: Within the framework of the program, the Employment Service Center will offer social work services to those aged and will be paid compensation.\n",
      "Accuracy Score: 0.6 (The core meaning is present, but the phrasing is not natural or precise.)\n",
      "Key Meaning-Related Challenges: The phrase \"нийгмийн үйлчилгээний чиглэлээр ажил санал болгож\" requires careful translation to convey the idea of offering *opportunities* in social work, and providing incentives for the performed work.\n",
      "\n",
      "Translation Rationale: I'm aiming for a more natural and precise English translation that accurately reflects the program's purpose. I am translating \"хөлс урамшуулал\" as \"incentives\" or \"rewards,\" which is clearer than simply stating \"paid compensation.\"\n",
      "\n",
      "Refined translation: As part of the program, the Employment Service Center will provide social work opportunities to people of this age group and offer financial incentives for their work.\n",
      "Backtranslation: As part of the program, the Employment Service Center will provide social work opportunities to people of this age group and offer financial incentives for their work.\n",
      "Meaning Divergence Analysis: The backtranslation is a near-perfect match to the original Mongolian text. There are no significant meaning divergences.\n"
     ]
    }
   ],
   "source": [
    "#%%\n",
    "\n",
    "print(response_json['reasoning'])"
   ]
  },
  {
   "cell_type": "code",
   "execution_count": null,
   "id": "d336e956-5e1c-4236-be66-965b4e441099",
   "metadata": {},
   "outputs": [
    {
     "name": "stdout",
     "output_type": "stream",
     "text": [
      "As part of the program, the Employment Service Center will provide social work opportunities to people of this age group and offer financial incentives for their work.\n"
     ]
    }
   ],
   "source": [
    "#%%\n",
    "\n",
    "print(response_json['final_answer'])"
   ]
  },
  {
   "cell_type": "code",
   "execution_count": null,
   "id": "42e8f747-e53a-4fb0-a60f-8e8f0b18a3c1",
   "metadata": {},
   "outputs": [
    {
     "name": "stdout",
     "output_type": "stream",
     "text": [
      "0.95\n"
     ]
    }
   ],
   "source": [
    "#%%\n",
    "\n",
    "print(response_json['score'])"
   ]
  },
  {
   "cell_type": "code",
   "execution_count": null,
   "id": "81b48576-743e-4885-a36e-f6ecfd9d8eac",
   "metadata": {},
   "outputs": [
    {
     "name": "stdout",
     "output_type": "stream",
     "text": [
      "### Translation Pair ###\n",
      "Mongolian : Хөтөлбөрийн хүрээнд энэ насны иргэдэд Хөдөлмөр эрхлэлтийн үйлчилгээний төвөөс нийгмийн үйлчилгээний чиглэлээр ажил санал болгож, хийсэн ажилд нь хөлс урамшуулал олгох аж\n",
      "English   : Within the framework of the program, the Employment Service Center will offer social work services to those aged and will be paid compensation.\n",
      "### Evalution and improvements ###\n",
      "quality score : 0.95\n",
      "improved      : As part of the program, the Employment Service Center will provide social work opportunities to people of this age group and offer financial incentives for their work.\n"
     ]
    }
   ],
   "source": [
    "#%%\n",
    "\n",
    "print(\"### Translation Pair ###\")\n",
    "print(f\"Mongolian : {translation_pair[0]}\")\n",
    "print(f\"English   : {translation_pair[1]}\")\n",
    "\n",
    "print(f\"### Evalution and improvements ###\")\n",
    "print(f\"quality score : {response_json['score']}\")\n",
    "print(f\"improved      : {response_json['final_answer']}\")"
   ]
  }
 ],
 "metadata": {
  "language_info": {
   "codemirror_mode": {
    "name": "ipython",
    "version": 3
   },
   "file_extension": ".py",
   "mimetype": "text/x-python",
   "name": "python",
   "nbconvert_exporter": "python",
   "pygments_lexer": "ipython3",
   "version": 3
  }
 },
 "nbformat": 4,
 "nbformat_minor": 2
}
