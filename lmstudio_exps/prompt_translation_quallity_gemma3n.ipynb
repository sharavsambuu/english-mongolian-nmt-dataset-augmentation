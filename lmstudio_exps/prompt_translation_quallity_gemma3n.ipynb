{
 "cells": [
  {
   "cell_type": "code",
   "execution_count": null,
   "id": "7ed14818-09b5-4a20-a6db-509d48d324ce",
   "metadata": {},
   "outputs": [],
   "source": [
    "#%%\n",
    "\n",
    "# Run lmstudio\n",
    "# Local Server -> Start Server\n",
    "#\n",
    "# Make sure to load the gemma3n model in the lmstudio\n",
    "#"
   ]
  },
  {
   "cell_type": "code",
   "execution_count": null,
   "id": "3362a727-774e-44e9-b48a-75d93ef782dd",
   "metadata": {},
   "outputs": [],
   "source": [
    "#%%\n",
    "\n",
    "import requests\n",
    "import json\n",
    "import re"
   ]
  },
  {
   "cell_type": "code",
   "execution_count": null,
   "id": "2d8ccd03-88a9-419b-be56-2802d980224c",
   "metadata": {},
   "outputs": [],
   "source": [
    "#%%\n",
    "\n",
    "llm_name = \"gemma-3n-e4b-it\"\n",
    "\n",
    "def hello_lmstudio_call(system_promtp=\"\", user_prompt=\"'\"):\n",
    "    url = 'http://localhost:1234/v1/chat/completions'\n",
    "    headers = {\n",
    "        'Content-Type': \"application/json\"\n",
    "    }\n",
    "    data = {\n",
    "        \"model\":\"lmstudio-community/{llm_name}\",\n",
    "        'messages': [\n",
    "            {'role': 'system', 'content': f\"{system_promtp}\"},\n",
    "            {'role': 'user'  , 'content': f\"{user_prompt}\"}\n",
    "        ],\n",
    "        \"temperature\" : 0.8,\n",
    "        \"max_tokens\"  : -1,\n",
    "        \"stream\"      : False\n",
    "    }\n",
    "    response = requests.post(url, headers=headers, data=json.dumps(data))\n",
    "    if response.status_code == 200:\n",
    "        try:\n",
    "            return response.json()['choices'][0]['message']['content']\n",
    "        except Exception as e:\n",
    "            return None\n",
    "    else:\n",
    "        print(f\"failed to get response : {response.status_code}, {response.text}\")\n",
    "        return None"
   ]
  },
  {
   "cell_type": "code",
   "execution_count": null,
   "id": "c5f047c4-ca5a-40e2-bfe6-b4c303b5a927",
   "metadata": {},
   "outputs": [
    {
     "name": "stdout",
     "output_type": "stream",
     "text": [
      "<reasoning>\n",
      "Overall Meaning: The Mongolian text describes a program where the Employment Service Center provides social work opportunities to people of a certain age group, and also offers financial incentives for completed work.\n",
      "\n",
      "Initial Translation Evaluation: The initial translation is understandable but lacks precision and fluency. \"those aged\" is awkward. \"paid compensation\" is vague; it doesn't specify *why* they are being compensated (for work). It misses the nuance of 'incentives'.\n",
      "\n",
      "Accuracy Score: 0.6. While the core meaning is conveyed, the translation isn't as clear or natural as it could be and lacks detail about the incentive.\n",
      "Initial Translated version: Within the framework of the program, the Employment Service Center will offer social work services to people of this age group and provide financial incentives for completed work.\n",
      "Key Meaning-Related Challenges: The phrase \"энэ насны иргэд\" (people of this age) could be translated more naturally.  The meaning of \"хөлс урамшуулал\" (financial incentives) needs to be accurately conveyed. I transliterated 'хөлс урамшуулал' since a direct equivalent isn't readily available and it is important to retain the concept of an incentive being offered for work completion.\n",
      "Translation Rationale:  I chose \"people of this age group\" as a more natural phrasing than \"those aged.\" I used \"financial incentives\" which more accurately reflects the meaning of хөлс урамшуулал.\n",
      "Refined translation: As part of the program, the Employment Service Center will offer social work opportunities to people of a specific age, and provide financial incentives for completed tasks.\n",
      "Backtranslation: As part of the program, the Employment Service Center will offer social work opportunities to people of a specific age, and provide financial incentives for completed tasks.\n",
      "Meaning Divergence Analysis: The backtranslation perfectly matches the original Mongolian text, indicating no loss of meaning.\n",
      "</reasoning>\n",
      "\n",
      "<final_answer>\n",
      "As part of the program, the Employment Service Center will offer social work opportunities to people of a specific age, and provide financial incentives for completed tasks.\n",
      "</final_answer>\n",
      "\n",
      "<score>\n",
      "    0.9\n",
      "</score>\n",
      "```\n"
     ]
    }
   ],
   "source": [
    "#%%\n",
    "\n",
    "system_prompt = \"\"\"\n",
    "You are a knowledgeable, efficient, and direct Al assistant. \n",
    "You are also fluent in English and Mongolian languages.\n",
    "\"\"\"\n",
    "\n",
    "translation_pair = [\n",
    "    \"Хөтөлбөрийн хүрээнд энэ насны иргэдэд Хөдөлмөр эрхлэлтийн үйлчилгээний төвөөс нийгмийн үйлчилгээний чиглэлээр ажил санал болгож, хийсэн ажилд нь хөлс урамшуулал олгох аж\",\n",
    "    \"Within the framework of the program, the Employment Service Center will offer social work services to those aged and will be paid compensation.\"\n",
    "]\n",
    "\n",
    "task_prompt = f\"\"\"\n",
    "You are a highly skilled Mongolian-to-English translator. Your primary goal is to produce accurate and clear English translations of Mongolian text. Meaning accuracy is your top priority. While fluency in English is important, it should never compromise the original meaning of the source text.\n",
    "\n",
    "**Translation Process:**\n",
    "\n",
    "1. **Analyze:** Carefully examine the Mongolian text to understand its meaning, context, and purpose.\n",
    "2. **Evaluate Initial Translation:** Assess the provided English translation, focusing on meaning accuracy and clarity.\n",
    "3. **Assign Accuracy Score:** Assign a score from 0.0 (completely inaccurate) to 1.0 (perfectly accurate) based solely on how well the initial translation preserves the meaning of the original text.\n",
    "4. **Translate:** Create a refined English translation that accurately conveys the original meaning.\n",
    "5. **Backtranslate:** Translate your refined English translation back into Mongolian.\n",
    "6. **Validate:** Compare the backtranslation to the original Mongolian text. If there are any meaning discrepancies, revise your English translation to ensure perfect accuracy.\n",
    "\n",
    "**Handling Unknown Words:**\n",
    "\n",
    "If you encounter a Mongolian word that cannot be directly translated, transliterate it using a standard Mongolian-to-English transliteration system. Indicate this in your reasoning.\n",
    "\n",
    "**Ambiguity:**\n",
    "\n",
    "If the Mongolian text is ambiguous, try to preserve that ambiguity in your English translation if possible. If not, choose the most likely interpretation based on context and explain your choice in your reasoning.\n",
    "\n",
    "**Reasoning Documentation (within `<reasoning>` tag):**\n",
    "\n",
    "1. **Overall Meaning and Context:** Briefly describe the main idea and context of the Mongolian text.\n",
    "2. **Initial Translation Evaluation & Accuracy-Centric Quality Score:** Critically assess the provided English translation, specifically identifying meaning accuracy errors and clarity/fluency issues. Assign a quality score from 0.0 to 1.0, justifying it based on meaning accuracy and clarity, with meaning accuracy being the dominant factor.\n",
    "3. **Initial Translated version:** Provide initally translated text.\n",
    "4. **Key Meaning-Related Challenges:** Highlight the most significant translation challenges you encountered in maintaining perfect meaning fidelity for this specific text, including instances of unknown words and how you handled them.\n",
    "5. **Translation Rationale:** Briefly explain the reasoning behind your translation choices.\n",
    "6. **Refined translation:** Provide your refined english translation of the `final_answer`.\n",
    "7. **Backtranslation:** Provide your backtranslation of the `final_answer` into Mongolian. You also print backtranslated text here.\n",
    "8. **Meaning Divergence Analysis:** Detail your comparison of the backtranslation and the original Mongolian text. Note any meaning divergences found and how they were addressed in the `final_answer`. If no divergences were found, explicitly state that.\n",
    "9. **Backtranslation doesn't match:** If the backtranslation doesn't match, suggest your best translation attempt here, also don't forget best translation attempt. If the previous step doesn't find significant backtranslation divergence, you can leave this step empty.\n",
    "\n",
    "**Output Format:**\n",
    "\n",
    "Your response must contain the following tags, and only one of each:\n",
    "\n",
    "*   `<reasoning>`\n",
    "*   `<final_answer>`\n",
    "*   `<score>`\n",
    "\n",
    "**Do not include any text outside of these tags. Do not use any markdown formatting within the tags. The content of each tag should be plain text, except for the `<output>` tag, which should contain only valid JSON.**\n",
    "\n",
    "**Example of Correct Output Format:**\n",
    "\n",
    "```\n",
    "<reasoning>\n",
    "Overall Meaning: ...\n",
    "Initial Translation Evaluation: ...\n",
    "Inital Translated version\n",
    "Accuracy Score: ...\n",
    "Translation Challenges: ...\n",
    "Translation Rationale: ...\n",
    "Refined Translation: ...\n",
    "Backtranslation: ...\n",
    "Meaning Divergence Analysis: ...\n",
    "</reasoning>\n",
    "\n",
    "<final_answer>\n",
    "... (Your final, accurate English translation)\n",
    "</final_answer>\n",
    "\n",
    "<score>\n",
    "    0.4 (Your assessed score for provided translation)\n",
    "</score>\n",
    "```\n",
    "\n",
    "**Mongolian Text:** {translation_pair[0]}\n",
    "\n",
    "**English Translation:** {translation_pair[1]}\n",
    "\"\"\"\n",
    "\n",
    "response = hello_lmstudio_call(system_promtp=system_prompt, user_prompt=task_prompt)\n",
    "\n",
    "print(response)"
   ]
  },
  {
   "cell_type": "code",
   "execution_count": null,
   "id": "d2c0a8a0-3934-4283-9ab7-087e25afeaef",
   "metadata": {},
   "outputs": [
    {
     "name": "stdout",
     "output_type": "stream",
     "text": [
      "<reasoning>\n",
      "Overall Meaning: The Mongolian text describes a program where the Employment Service Center provides social work opportunities to people of a certain age group, and also offers financial incentives for completed work.\n",
      "\n",
      "Initial Translation Evaluation: The initial translation is understandable but lacks precision and fluency. \"those aged\" is awkward. \"paid compensation\" is vague; it doesn't specify *why* they are being compensated (for work). It misses the nuance of 'incentives'.\n",
      "\n",
      "Accuracy Score: 0.6. While the core meaning is conveyed, the translation isn't as clear or natural as it could be and lacks detail about the incentive.\n",
      "Initial Translated version: Within the framework of the program, the Employment Service Center will offer social work services to people of this age group and provide financial incentives for completed work.\n",
      "Key Meaning-Related Challenges: The phrase \"энэ насны иргэд\" (people of this age) could be translated more naturally.  The meaning of \"хөлс урамшуулал\" (financial incentives) needs to be accurately conveyed. I transliterated 'хөлс урамшуулал' since a direct equivalent isn't readily available and it is important to retain the concept of an incentive being offered for work completion.\n",
      "Translation Rationale:  I chose \"people of this age group\" as a more natural phrasing than \"those aged.\" I used \"financial incentives\" which more accurately reflects the meaning of хөлс урамшуулал.\n",
      "Refined translation: As part of the program, the Employment Service Center will offer social work opportunities to people of a specific age, and provide financial incentives for completed tasks.\n",
      "Backtranslation: As part of the program, the Employment Service Center will offer social work opportunities to people of a specific age, and provide financial incentives for completed tasks.\n",
      "Meaning Divergence Analysis: The backtranslation perfectly matches the original Mongolian text, indicating no loss of meaning.\n",
      "</reasoning>\n",
      "\n",
      "<final_answer>\n",
      "As part of the program, the Employment Service Center will offer social work opportunities to people of a specific age, and provide financial incentives for completed tasks.\n",
      "</final_answer>\n",
      "\n",
      "<score>\n",
      "    0.9\n",
      "</score>\n",
      "```\n"
     ]
    }
   ],
   "source": [
    "#%%\n",
    "\n",
    "print(response)"
   ]
  },
  {
   "cell_type": "code",
   "execution_count": null,
   "id": "a4d53333-51b6-4ab6-95bf-4dbf52234240",
   "metadata": {},
   "outputs": [
    {
     "data": {
      "text/plain": [
       "{'reasoning': 'Overall Meaning: The Mongolian text describes a program where the Employment Service Center provides social work opportunities to people of a certain age group, and also offers financial incentives for completed work.\\n\\nInitial Translation Evaluation: The initial translation is understandable but lacks precision and fluency. \"those aged\" is awkward. \"paid compensation\" is vague; it doesn\\'t specify *why* they are being compensated (for work). It misses the nuance of \\'incentives\\'.\\n\\nAccuracy Score: 0.6. While the core meaning is conveyed, the translation isn\\'t as clear or natural as it could be and lacks detail about the incentive.\\nInitial Translated version: Within the framework of the program, the Employment Service Center will offer social work services to people of this age group and provide financial incentives for completed work.\\nKey Meaning-Related Challenges: The phrase \"энэ насны иргэд\" (people of this age) could be translated more naturally.  The meaning of \"хөлс урамшуулал\" (financial incentives) needs to be accurately conveyed. I transliterated \\'хөлс урамшуулал\\' since a direct equivalent isn\\'t readily available and it is important to retain the concept of an incentive being offered for work completion.\\nTranslation Rationale:  I chose \"people of this age group\" as a more natural phrasing than \"those aged.\" I used \"financial incentives\" which more accurately reflects the meaning of хөлс урамшуулал.\\nRefined translation: As part of the program, the Employment Service Center will offer social work opportunities to people of a specific age, and provide financial incentives for completed tasks.\\nBacktranslation: As part of the program, the Employment Service Center will offer social work opportunities to people of a specific age, and provide financial incentives for completed tasks.\\nMeaning Divergence Analysis: The backtranslation perfectly matches the original Mongolian text, indicating no loss of meaning.',\n",
       " 'final_answer': 'As part of the program, the Employment Service Center will offer social work opportunities to people of a specific age, and provide financial incentives for completed tasks.',\n",
       " 'score': '0.9'}"
      ]
     },
     "execution_count": 6,
     "metadata": {},
     "output_type": "execute_result"
    }
   ],
   "source": [
    "#%%\n",
    "\n",
    "def extract_content(response_text):\n",
    "    content = {}\n",
    "    reasoning_pattern         = r\"<reasoning>(.*?)</reasoning>\"\n",
    "    final_answer_pattern      = r\"<final_answer>(.*?)</final_answer>\"\n",
    "    score_pattern             = r\"<score>(.*?)</score>\"\n",
    "    content[\"reasoning\"     ] = re.search(reasoning_pattern, response_text, re.DOTALL).group(1).strip() if re.search(reasoning_pattern, response_text, re.DOTALL) else None\n",
    "    content[\"final_answer\"  ] = re.search(final_answer_pattern, response_text, re.DOTALL).group(1).strip() if re.search(final_answer_pattern, response_text, re.DOTALL) else None\n",
    "    content[\"score\"         ] = re.search(score_pattern, response_text, re.DOTALL).group(1).strip() if re.search(score_pattern, response_text, re.DOTALL) else None\n",
    "    return content\n",
    "\n",
    "response_json = extract_content(response_text=response)\n",
    "response_json"
   ]
  },
  {
   "cell_type": "code",
   "execution_count": null,
   "id": "cac42709-4c64-49d4-a29a-34fe66483ae4",
   "metadata": {},
   "outputs": [
    {
     "name": "stdout",
     "output_type": "stream",
     "text": [
      "{'reasoning': 'Overall Meaning: The Mongolian text describes a program where the Employment Service Center provides social work opportunities to people of a certain age group, and also offers financial incentives for completed work.\\n\\nInitial Translation Evaluation: The initial translation is understandable but lacks precision and fluency. \"those aged\" is awkward. \"paid compensation\" is vague; it doesn\\'t specify *why* they are being compensated (for work). It misses the nuance of \\'incentives\\'.\\n\\nAccuracy Score: 0.6. While the core meaning is conveyed, the translation isn\\'t as clear or natural as it could be and lacks detail about the incentive.\\nInitial Translated version: Within the framework of the program, the Employment Service Center will offer social work services to people of this age group and provide financial incentives for completed work.\\nKey Meaning-Related Challenges: The phrase \"энэ насны иргэд\" (people of this age) could be translated more naturally.  The meaning of \"хөлс урамшуулал\" (financial incentives) needs to be accurately conveyed. I transliterated \\'хөлс урамшуулал\\' since a direct equivalent isn\\'t readily available and it is important to retain the concept of an incentive being offered for work completion.\\nTranslation Rationale:  I chose \"people of this age group\" as a more natural phrasing than \"those aged.\" I used \"financial incentives\" which more accurately reflects the meaning of хөлс урамшуулал.\\nRefined translation: As part of the program, the Employment Service Center will offer social work opportunities to people of a specific age, and provide financial incentives for completed tasks.\\nBacktranslation: As part of the program, the Employment Service Center will offer social work opportunities to people of a specific age, and provide financial incentives for completed tasks.\\nMeaning Divergence Analysis: The backtranslation perfectly matches the original Mongolian text, indicating no loss of meaning.', 'final_answer': 'As part of the program, the Employment Service Center will offer social work opportunities to people of a specific age, and provide financial incentives for completed tasks.', 'score': '0.9'}\n"
     ]
    }
   ],
   "source": [
    "#%%\n",
    "\n",
    "print(response_json)"
   ]
  },
  {
   "cell_type": "code",
   "execution_count": null,
   "id": "d9811594-31f0-4b0d-914c-06e775ba4044",
   "metadata": {},
   "outputs": [
    {
     "name": "stdout",
     "output_type": "stream",
     "text": [
      "Overall Meaning: The Mongolian text describes a program where the Employment Service Center provides social work opportunities to people of a certain age group, and also offers financial incentives for completed work.\n",
      "\n",
      "Initial Translation Evaluation: The initial translation is understandable but lacks precision and fluency. \"those aged\" is awkward. \"paid compensation\" is vague; it doesn't specify *why* they are being compensated (for work). It misses the nuance of 'incentives'.\n",
      "\n",
      "Accuracy Score: 0.6. While the core meaning is conveyed, the translation isn't as clear or natural as it could be and lacks detail about the incentive.\n",
      "Initial Translated version: Within the framework of the program, the Employment Service Center will offer social work services to people of this age group and provide financial incentives for completed work.\n",
      "Key Meaning-Related Challenges: The phrase \"энэ насны иргэд\" (people of this age) could be translated more naturally.  The meaning of \"хөлс урамшуулал\" (financial incentives) needs to be accurately conveyed. I transliterated 'хөлс урамшуулал' since a direct equivalent isn't readily available and it is important to retain the concept of an incentive being offered for work completion.\n",
      "Translation Rationale:  I chose \"people of this age group\" as a more natural phrasing than \"those aged.\" I used \"financial incentives\" which more accurately reflects the meaning of хөлс урамшуулал.\n",
      "Refined translation: As part of the program, the Employment Service Center will offer social work opportunities to people of a specific age, and provide financial incentives for completed tasks.\n",
      "Backtranslation: As part of the program, the Employment Service Center will offer social work opportunities to people of a specific age, and provide financial incentives for completed tasks.\n",
      "Meaning Divergence Analysis: The backtranslation perfectly matches the original Mongolian text, indicating no loss of meaning.\n"
     ]
    }
   ],
   "source": [
    "#%%\n",
    "\n",
    "print(response_json['reasoning'])"
   ]
  },
  {
   "cell_type": "code",
   "execution_count": null,
   "id": "2b79380f-5305-4f3d-a9e0-d071694c982c",
   "metadata": {},
   "outputs": [
    {
     "name": "stdout",
     "output_type": "stream",
     "text": [
      "As part of the program, the Employment Service Center will offer social work opportunities to people of a specific age, and provide financial incentives for completed tasks.\n"
     ]
    }
   ],
   "source": [
    "#%%\n",
    "\n",
    "print(response_json['final_answer'])"
   ]
  },
  {
   "cell_type": "code",
   "execution_count": null,
   "id": "00b6c9f9-401e-4c77-baa2-f775df2fb076",
   "metadata": {},
   "outputs": [
    {
     "name": "stdout",
     "output_type": "stream",
     "text": [
      "0.9\n"
     ]
    }
   ],
   "source": [
    "#%%\n",
    "\n",
    "print(response_json['score'])"
   ]
  },
  {
   "cell_type": "code",
   "execution_count": null,
   "id": "35a2772e-90ad-4617-bbb3-819aeaa7db53",
   "metadata": {},
   "outputs": [
    {
     "name": "stdout",
     "output_type": "stream",
     "text": [
      "### Translation Pair ###\n",
      "Mongolian : Хөтөлбөрийн хүрээнд энэ насны иргэдэд Хөдөлмөр эрхлэлтийн үйлчилгээний төвөөс нийгмийн үйлчилгээний чиглэлээр ажил санал болгож, хийсэн ажилд нь хөлс урамшуулал олгох аж\n",
      "English   : Within the framework of the program, the Employment Service Center will offer social work services to those aged and will be paid compensation.\n",
      "### Evalution and improvements ###\n",
      "quality score : 0.9\n",
      "improved      : As part of the program, the Employment Service Center will offer social work opportunities to people of a specific age, and provide financial incentives for completed tasks.\n"
     ]
    }
   ],
   "source": [
    "#%%\n",
    "\n",
    "print(\"### Translation Pair ###\")\n",
    "print(f\"Mongolian : {translation_pair[0]}\")\n",
    "print(f\"English   : {translation_pair[1]}\")\n",
    "\n",
    "print(f\"### Evalution and improvements ###\")\n",
    "print(f\"quality score : {response_json['score']}\")\n",
    "print(f\"improved      : {response_json['final_answer']}\")"
   ]
  }
 ],
 "metadata": {
  "language_info": {
   "codemirror_mode": {
    "name": "ipython",
    "version": 3
   },
   "file_extension": ".py",
   "mimetype": "text/x-python",
   "name": "python",
   "nbconvert_exporter": "python",
   "pygments_lexer": "ipython3",
   "version": 3
  }
 },
 "nbformat": 4,
 "nbformat_minor": 2
}
